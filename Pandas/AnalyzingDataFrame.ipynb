{
 "cells": [
  {
   "cell_type": "markdown",
   "id": "e5f58bdd-9ccf-4a8a-83c7-a8a44b4961a1",
   "metadata": {},
   "source": [
    "Analyzing DataFrames in pandas involves exploring, summarizing, and deriving insights from tabular data using a variety of built-in methods and functions. Since you’ve previously asked about Pandas Series, DataFrames, and reading data from various formats, I’ll focus on practical techniques for analyzing DataFrames, including descriptive statistics, grouping, filtering, handling missing data, and visualization preparation. I’ll provide concise explanations and code examples to demonstrate each method, assuming you’re working with a DataFrame loaded from a source like a CSV, JSON, or SQL database."
   ]
  },
  {
   "cell_type": "markdown",
   "id": "23fb36be-e420-476b-a67e-b54898dad826",
   "metadata": {},
   "source": [
    "### Key Aspects of DataFrame Analysis\n",
    "Analyzing a DataFrame typically involves:\n",
    "\n",
    "- **Inspecting the Data**: Understanding the structure and content.\n",
    "- **Descriptive Statistics**: Summarizing numerical and categorical data.\n",
    "- **Filtering and Subsetting**: Extracting specific rows or columns.\n",
    "- **Grouping and Aggregation**: Summarizing data by groups.\n",
    "- **Handling Missing Data**: Identifying and addressing gaps.\n",
    "- **Correlation and Relationships**: Exploring relationships between variables.\n",
    "- **Sorting and Ranking**: Ordering data for insights.\n",
    "- **Visualization Preparation**: Preparing data for plotting (though I’ll avoid generating plots unless requested, as per guidelines)."
   ]
  },
  {
   "cell_type": "code",
   "execution_count": null,
   "id": "66ee6803-57f8-42d7-b4d5-99214f92d3fb",
   "metadata": {},
   "outputs": [],
   "source": [
    "import pandas as pd\n",
    "df = pd.read_csv('AnalysisData.csv')\n",
    "df"
   ]
  },
  {
   "cell_type": "markdown",
   "id": "36245e76-c762-46cc-8907-6d8cc01361dc",
   "metadata": {},
   "source": [
    "#### 1. Inspecting the DataFrame\n",
    "Understand the structure and content of the DataFrame.\n",
    "\n",
    "- **View Basic Info**:"
   ]
  },
  {
   "cell_type": "code",
   "execution_count": null,
   "id": "9b033242-e75d-4ea2-b6f1-89e2651d80af",
   "metadata": {},
   "outputs": [],
   "source": [
    "print(df.info())"
   ]
  },
  {
   "cell_type": "markdown",
   "id": "a3e19a7d-4364-4d08-a005-193e31de28ea",
   "metadata": {},
   "source": [
    " - Shows column names, non-null counts, and data types."
   ]
  },
  {
   "cell_type": "markdown",
   "id": "03ebbae7-259c-4795-b011-5de9b0a480a2",
   "metadata": {},
   "source": [
    "- **View First/Last Rows**:"
   ]
  },
  {
   "cell_type": "code",
   "execution_count": null,
   "id": "e95c9e54-3990-44ed-ab93-71f1a886cc4d",
   "metadata": {},
   "outputs": [],
   "source": [
    "print(df.head(2))  # First 2 rows\n",
    "print(df.tail(2))  # Last 2 rowszc"
   ]
  },
  {
   "cell_type": "markdown",
   "id": "275cdc52-9114-4d73-af02-f04a2ba1c326",
   "metadata": {},
   "source": [
    "- **Shape and Columns**:"
   ]
  },
  {
   "cell_type": "code",
   "execution_count": null,
   "id": "ae258bcc-b290-4fcc-a7ee-3c491cdb6fc5",
   "metadata": {},
   "outputs": [],
   "source": [
    "df.shape"
   ]
  },
  {
   "cell_type": "code",
   "execution_count": null,
   "id": "b2626c13-df72-457b-abcd-3b1b66f067dc",
   "metadata": {},
   "outputs": [],
   "source": [
    "df.columns"
   ]
  },
  {
   "cell_type": "markdown",
   "id": "b384297e-10a8-4720-9218-0dc3fa564a40",
   "metadata": {},
   "source": [
    "- **Unique Values**:"
   ]
  },
  {
   "cell_type": "code",
   "execution_count": null,
   "id": "2fc4b68a-34ee-4ad7-a820-3b30e5f48ac0",
   "metadata": {},
   "outputs": [],
   "source": [
    "print(df['department'].unique())"
   ]
  },
  {
   "cell_type": "code",
   "execution_count": null,
   "id": "c99ce718-8ed3-4b8a-839a-21a8a574cac8",
   "metadata": {},
   "outputs": [],
   "source": [
    "print(df['department'].nunique())"
   ]
  },
  {
   "cell_type": "markdown",
   "id": "8b73dfad-6c98-4edb-81cc-617dbc3e410a",
   "metadata": {},
   "source": [
    "#### 2. Descriptive Statistics\n",
    "Summarize numerical and categorical data to understand distributions and patterns.\n",
    "\n",
    "- **Numerical Columns**:"
   ]
  },
  {
   "cell_type": "code",
   "execution_count": null,
   "id": "8b652dcf-a634-4d89-9e27-b457728868e5",
   "metadata": {},
   "outputs": [],
   "source": [
    "print(df.describe())"
   ]
  },
  {
   "cell_type": "markdown",
   "id": "0802035c-a6a4-4ea7-865b-b40e7a55249c",
   "metadata": {},
   "source": [
    " - Provides count, mean, std, min, max, and quartiles for numeric columns."
   ]
  },
  {
   "cell_type": "markdown",
   "id": "c0b2432e-49e1-4370-bba2-cda55f922b6c",
   "metadata": {},
   "source": [
    "- **Categorical Columns**:"
   ]
  },
  {
   "cell_type": "code",
   "execution_count": null,
   "id": "79332491-e6ef-4ca1-a45e-708a983e4671",
   "metadata": {},
   "outputs": [],
   "source": [
    "print(df['department'].value_counts())"
   ]
  },
  {
   "cell_type": "markdown",
   "id": "dda52982-136f-4717-9c3d-758e429dc380",
   "metadata": {},
   "source": [
    " - Shows frequency of each category."
   ]
  },
  {
   "cell_type": "markdown",
   "id": "e3447b57-5e69-4004-9df2-61196df5d80a",
   "metadata": {},
   "source": [
    "- **Custom Statistics**:"
   ]
  },
  {
   "cell_type": "code",
   "execution_count": null,
   "id": "81957051-f22a-4122-8409-adbe40775bdc",
   "metadata": {},
   "outputs": [],
   "source": [
    "print(df['salary'].mean())"
   ]
  },
  {
   "cell_type": "code",
   "execution_count": null,
   "id": "f32030ce-8d8f-47a2-a4d1-fa32bee2629c",
   "metadata": {},
   "outputs": [],
   "source": [
    "print(df['age'].median())"
   ]
  },
  {
   "cell_type": "markdown",
   "id": "5981a848-76ca-4256-9a7f-6949b7f949ae",
   "metadata": {},
   "source": [
    "#### 3. Filtering and Subsetting\n",
    "Extract specific rows or columns based on conditions.\n",
    "\n",
    "- **Select Columns**:"
   ]
  },
  {
   "cell_type": "code",
   "execution_count": null,
   "id": "1bada922-084d-4967-8e7c-2d3f30c0ce01",
   "metadata": {},
   "outputs": [],
   "source": [
    "print(df[['name', 'salary']])"
   ]
  },
  {
   "cell_type": "markdown",
   "id": "8c199ae9-a625-452a-aaca-b802b1df6bfb",
   "metadata": {},
   "source": [
    "- **Filter Rows by Condition**:"
   ]
  },
  {
   "cell_type": "code",
   "execution_count": null,
   "id": "c4babb4e-623b-4e5a-bec4-6e58fcfed6ba",
   "metadata": {},
   "outputs": [],
   "source": [
    "print(df[df['salary'] > 55000])"
   ]
  },
  {
   "cell_type": "markdown",
   "id": "bcbaa7e4-b9b8-4589-88c6-0673685c38e0",
   "metadata": {},
   "source": [
    "- **Multiple Conditions**:"
   ]
  },
  {
   "cell_type": "code",
   "execution_count": null,
   "id": "2fb22660-c26e-41f6-bc26-0f9664277fcf",
   "metadata": {},
   "outputs": [],
   "source": [
    "print(df[(df['department'] == 'IT') & (df['age'] > 25)])"
   ]
  },
  {
   "cell_type": "markdown",
   "id": "e9b6ebf9-8e95-4b89-b5de-d826cb8a1889",
   "metadata": {},
   "source": [
    "- **Query Method**:"
   ]
  },
  {
   "cell_type": "code",
   "execution_count": null,
   "id": "d2c5fb63-cc69-4779-a943-d492c66bf35e",
   "metadata": {},
   "outputs": [],
   "source": [
    "print(df.query('salary > 55000 and department == \"IT\"'))"
   ]
  },
  {
   "cell_type": "markdown",
   "id": "05a4639c-7a90-4f21-9578-f200b6f5b699",
   "metadata": {},
   "source": [
    "#### 4. Grouping and Aggregation\n",
    "Group data by one or more columns and compute aggregate statistics.\n",
    "\n",
    "- **Single GroupBy**:"
   ]
  },
  {
   "cell_type": "code",
   "execution_count": null,
   "id": "2b2db3c1-806f-44da-b857-cf463ab3b70d",
   "metadata": {},
   "outputs": [],
   "source": [
    "print(df.groupby('department')['salary'].mean())"
   ]
  },
  {
   "cell_type": "markdown",
   "id": "1f3231e4-95f2-4438-ad82-dd96ecf8a9b4",
   "metadata": {},
   "source": [
    "- **Multiple Aggregations**:"
   ]
  },
  {
   "cell_type": "code",
   "execution_count": null,
   "id": "68b289a2-0e9b-4962-b1fb-10de39ba82ed",
   "metadata": {},
   "outputs": [],
   "source": [
    "print(df.groupby('department').agg({'salary': ['mean', 'count'], 'age': 'max'}))"
   ]
  },
  {
   "cell_type": "markdown",
   "id": "03e529cc-6d94-44fe-86b3-5f4b63698f65",
   "metadata": {},
   "source": [
    "- **GroupBy with Custom Function**:"
   ]
  },
  {
   "cell_type": "code",
   "execution_count": null,
   "id": "6c226150-d795-4630-8695-de1ae1d31fa7",
   "metadata": {},
   "outputs": [],
   "source": [
    "print(df.groupby('department')['salary'].apply(lambda x: x.max() - x.min()))"
   ]
  },
  {
   "cell_type": "markdown",
   "id": "0bc17a7b-8ff1-42c7-aa6a-8127bcba8c19",
   "metadata": {},
   "source": [
    "#### 5. Handling Missing Data\n",
    "Identify and address missing values (NaN or None).\n",
    "\n",
    "- **Detect Missing Data**:"
   ]
  },
  {
   "cell_type": "code",
   "execution_count": null,
   "id": "a03fa965-d474-4c79-9645-4144ebeee7f6",
   "metadata": {},
   "outputs": [],
   "source": [
    "print(df.isna())"
   ]
  },
  {
   "cell_type": "code",
   "execution_count": null,
   "id": "8889f005-cfce-4746-bc76-5ab73bdbfd9c",
   "metadata": {},
   "outputs": [],
   "source": [
    "print(df.isna().sum())"
   ]
  },
  {
   "cell_type": "markdown",
   "id": "4e609143-1619-4769-854d-c9de8ecf4aeb",
   "metadata": {},
   "source": [
    "- **Fill Missing Data**:"
   ]
  },
  {
   "cell_type": "code",
   "execution_count": null,
   "id": "af585780-9ba2-4456-9f2d-58bc5a5a8e1c",
   "metadata": {},
   "outputs": [],
   "source": [
    "df_filled = df.fillna({'name': 'Unknown', 'age': df['age'].mean(), 'salary': df['salary'].median()})\n",
    "print(df_filled)"
   ]
  },
  {
   "cell_type": "markdown",
   "id": "0d0bd438-490d-4853-9efc-3450cd13f676",
   "metadata": {},
   "source": [
    "- **Drop Missing Data**:"
   ]
  },
  {
   "cell_type": "code",
   "execution_count": null,
   "id": "57c96586-d616-418b-a062-0a5b48532ab5",
   "metadata": {},
   "outputs": [],
   "source": [
    "print(df.dropna())"
   ]
  },
  {
   "cell_type": "markdown",
   "id": "9b0c3e19-56b0-4096-963a-b0b06755ea83",
   "metadata": {},
   "source": [
    "#### 6. Correlation and Relationships\n",
    "Explore relationships between numerical columns.\n",
    "\n",
    "- **Correlation Matrix**:"
   ]
  },
  {
   "cell_type": "code",
   "execution_count": null,
   "id": "881010e9-f849-49df-b0d7-c605819e9f68",
   "metadata": {},
   "outputs": [],
   "source": [
    "print(df.corr(numeric_only=True))"
   ]
  },
  {
   "cell_type": "markdown",
   "id": "1a5f0b93-fb98-4491-b9f3-abeb8c9e2a1a",
   "metadata": {},
   "source": [
    "  - Uses Pearson correlation by default; use <span style=\"color:orange\">method='spearman'</span> or <span style=\"color:orange\">'kendall'</span> for alternatives."
   ]
  },
  {
   "cell_type": "markdown",
   "id": "3545161c-e554-41fc-b403-a5645c287865",
   "metadata": {},
   "source": [
    "- **Covariance**:"
   ]
  },
  {
   "cell_type": "code",
   "execution_count": null,
   "id": "9cf3cc80-7a6f-441e-b69d-19b8ee428d09",
   "metadata": {},
   "outputs": [],
   "source": [
    "print(df.cov(numeric_only=True))"
   ]
  },
  {
   "cell_type": "markdown",
   "id": "7a7aa50a-45f1-4cc2-b71d-25a654989556",
   "metadata": {},
   "source": [
    "#### 7. Sorting and Ranking\n",
    "Order data to identify top/bottom values or trends.\n",
    "\n",
    "- **Sort by Column**:"
   ]
  },
  {
   "cell_type": "code",
   "execution_count": null,
   "id": "b68fdaf2-2181-41a5-b7cf-747670c21fba",
   "metadata": {},
   "outputs": [],
   "source": [
    "print(df.sort_values('salary', ascending=False))"
   ]
  },
  {
   "cell_type": "markdown",
   "id": "b98d7433-f9ad-49d3-b72a-5e253cbca909",
   "metadata": {},
   "source": [
    "- **Sort by Multiple Columns**:"
   ]
  },
  {
   "cell_type": "code",
   "execution_count": null,
   "id": "968c99c4-dc4a-458a-9d6a-84a70c337399",
   "metadata": {},
   "outputs": [],
   "source": [
    "print(df.sort_values(['department', 'age']))"
   ]
  },
  {
   "cell_type": "markdown",
   "id": "fbc43681-dc2f-43e5-9152-07fa3c338a5b",
   "metadata": {},
   "source": [
    "- **Rank Values**:"
   ]
  },
  {
   "cell_type": "code",
   "execution_count": null,
   "id": "4ce67a09-7298-49c6-ace7-c861d06fa5f4",
   "metadata": {},
   "outputs": [],
   "source": [
    "print(df['salary'].rank())"
   ]
  },
  {
   "cell_type": "markdown",
   "id": "cd659df9-5e2f-4f26-88a2-45810567a655",
   "metadata": {},
   "source": [
    "#### 8. Visualization Preparation\n",
    "While I won’t generate plots (per guidelines), I’ll show how to prepare data for visualization (e.g., with Matplotlib or Seaborn).\n",
    "\n",
    "- **Group for Bar Plot**:"
   ]
  },
  {
   "cell_type": "code",
   "execution_count": null,
   "id": "a2713122-7440-46c6-8ddb-dfc3df419a32",
   "metadata": {},
   "outputs": [],
   "source": [
    "dept_salary = df.groupby('department')['salary'].mean()\n",
    "print(dept_salary)  # Ready for plotting"
   ]
  },
  {
   "cell_type": "markdown",
   "id": "3404b640-be44-4c24-bfac-ce7d7300a412",
   "metadata": {},
   "source": [
    "- **Pivot Table for Heatmap**:"
   ]
  },
  {
   "cell_type": "code",
   "execution_count": null,
   "id": "4c54f6f6-9827-4abd-bbc2-4285a767b49b",
   "metadata": {},
   "outputs": [],
   "source": [
    "pivot = df.pivot_table(values='salary', index='department', columns='age', aggfunc='mean')\n",
    "print(pivot)"
   ]
  },
  {
   "cell_type": "markdown",
   "id": "49a9a603-66c4-4118-8f04-6f23e8e99d6e",
   "metadata": {},
   "source": [
    "### Performance Considerations\n",
    "- **Memory**: Use <span style=\"color:orange\">dtype</span> optimization (e.g., <span style=\"color:orange\">float32</span> instead of <span style=\"color:orange\">float64</span>) for large datasets.\n",
    "- **Speed**: Prefer vectorized operations (e.g., <span style=\"color:orange\">df['salary'] > 60000</span>) over loops.\n",
    "- **Large Datasets**: Use <span style=\"color:orange\">groupby</span> with <span style=\"color:orange\">agg</span> for efficient aggregation; consider <span style=\"color:orange\">dask</span> for big data."
   ]
  }
 ],
 "metadata": {
  "kernelspec": {
   "display_name": "Python [conda env:base] *",
   "language": "python",
   "name": "conda-base-py"
  },
  "language_info": {
   "codemirror_mode": {
    "name": "ipython",
    "version": 3
   },
   "file_extension": ".py",
   "mimetype": "text/x-python",
   "name": "python",
   "nbconvert_exporter": "python",
   "pygments_lexer": "ipython3",
   "version": "3.12.7"
  }
 },
 "nbformat": 4,
 "nbformat_minor": 5
}
