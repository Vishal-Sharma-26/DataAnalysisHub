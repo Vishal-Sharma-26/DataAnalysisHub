{
 "cells": [
  {
   "cell_type": "markdown",
   "id": "e5f58bdd-9ccf-4a8a-83c7-a8a44b4961a1",
   "metadata": {},
   "source": [
    "Analyzing DataFrames in pandas involves exploring, summarizing, and deriving insights from tabular data using a variety of built-in methods and functions. Since you’ve previously asked about Pandas Series, DataFrames, and reading data from various formats, I’ll focus on practical techniques for analyzing DataFrames, including descriptive statistics, grouping, filtering, handling missing data, and visualization preparation. I’ll provide concise explanations and code examples to demonstrate each method, assuming you’re working with a DataFrame loaded from a source like a CSV, JSON, or SQL database."
   ]
  },
  {
   "cell_type": "markdown",
   "id": "23fb36be-e420-476b-a67e-b54898dad826",
   "metadata": {},
   "source": [
    "### Key Aspects of DataFrame Analysis\n",
    "Analyzing a DataFrame typically involves:\n",
    "\n",
    "- **Inspecting the Data**: Understanding the structure and content.\n",
    "- **Descriptive Statistics**: Summarizing numerical and categorical data.\n",
    "- **Filtering and Subsetting**: Extracting specific rows or columns.\n",
    "- **Grouping and Aggregation**: Summarizing data by groups.\n",
    "- **Handling Missing Data**: Identifying and addressing gaps.\n",
    "- **Correlation and Relationships**: Exploring relationships between variables.\n",
    "- **Sorting and Ranking**: Ordering data for insights.\n",
    "- **Visualization Preparation**: Preparing data for plotting (though I’ll avoid generating plots unless requested, as per guidelines)."
   ]
  },
  {
   "cell_type": "code",
   "execution_count": 7,
   "id": "4193a4f1-bf34-409c-987f-d92ca02b8dad",
   "metadata": {},
   "outputs": [
    {
     "data": {
      "text/html": [
       "<div>\n",
       "<style scoped>\n",
       "    .dataframe tbody tr th:only-of-type {\n",
       "        vertical-align: middle;\n",
       "    }\n",
       "\n",
       "    .dataframe tbody tr th {\n",
       "        vertical-align: top;\n",
       "    }\n",
       "\n",
       "    .dataframe thead th {\n",
       "        text-align: right;\n",
       "    }\n",
       "</style>\n",
       "<table border=\"1\" class=\"dataframe\">\n",
       "  <thead>\n",
       "    <tr style=\"text-align: right;\">\n",
       "      <th></th>\n",
       "      <th>name</th>\n",
       "      <th>age</th>\n",
       "      <th>salary</th>\n",
       "      <th>department</th>\n",
       "    </tr>\n",
       "  </thead>\n",
       "  <tbody>\n",
       "    <tr>\n",
       "      <th>0</th>\n",
       "      <td>Karen</td>\n",
       "      <td>53</td>\n",
       "      <td>48402</td>\n",
       "      <td>Sales</td>\n",
       "    </tr>\n",
       "    <tr>\n",
       "      <th>1</th>\n",
       "      <td>Karen</td>\n",
       "      <td>36</td>\n",
       "      <td>50229</td>\n",
       "      <td>HR</td>\n",
       "    </tr>\n",
       "    <tr>\n",
       "      <th>2</th>\n",
       "      <td>Tom</td>\n",
       "      <td>57</td>\n",
       "      <td>75397</td>\n",
       "      <td>Marketing</td>\n",
       "    </tr>\n",
       "    <tr>\n",
       "      <th>3</th>\n",
       "      <td>Bob</td>\n",
       "      <td>32</td>\n",
       "      <td>118127</td>\n",
       "      <td>Marketing</td>\n",
       "    </tr>\n",
       "    <tr>\n",
       "      <th>4</th>\n",
       "      <td>John</td>\n",
       "      <td>59</td>\n",
       "      <td>96237</td>\n",
       "      <td>IT</td>\n",
       "    </tr>\n",
       "    <tr>\n",
       "      <th>...</th>\n",
       "      <td>...</td>\n",
       "      <td>...</td>\n",
       "      <td>...</td>\n",
       "      <td>...</td>\n",
       "    </tr>\n",
       "    <tr>\n",
       "      <th>95</th>\n",
       "      <td>Karen</td>\n",
       "      <td>59</td>\n",
       "      <td>55519</td>\n",
       "      <td>IT</td>\n",
       "    </tr>\n",
       "    <tr>\n",
       "      <th>96</th>\n",
       "      <td>Bob</td>\n",
       "      <td>26</td>\n",
       "      <td>74830</td>\n",
       "      <td>Marketing</td>\n",
       "    </tr>\n",
       "    <tr>\n",
       "      <th>97</th>\n",
       "      <td>John</td>\n",
       "      <td>59</td>\n",
       "      <td>40323</td>\n",
       "      <td>IT</td>\n",
       "    </tr>\n",
       "    <tr>\n",
       "      <th>98</th>\n",
       "      <td>Diana</td>\n",
       "      <td>42</td>\n",
       "      <td>53692</td>\n",
       "      <td>Engineering</td>\n",
       "    </tr>\n",
       "    <tr>\n",
       "      <th>99</th>\n",
       "      <td>Linda</td>\n",
       "      <td>30</td>\n",
       "      <td>62561</td>\n",
       "      <td>IT</td>\n",
       "    </tr>\n",
       "  </tbody>\n",
       "</table>\n",
       "<p>100 rows × 4 columns</p>\n",
       "</div>"
      ],
      "text/plain": [
       "     name  age  salary   department\n",
       "0   Karen   53   48402        Sales\n",
       "1   Karen   36   50229           HR\n",
       "2     Tom   57   75397    Marketing\n",
       "3     Bob   32  118127    Marketing\n",
       "4    John   59   96237           IT\n",
       "..    ...  ...     ...          ...\n",
       "95  Karen   59   55519           IT\n",
       "96    Bob   26   74830    Marketing\n",
       "97   John   59   40323           IT\n",
       "98  Diana   42   53692  Engineering\n",
       "99  Linda   30   62561           IT\n",
       "\n",
       "[100 rows x 4 columns]"
      ]
     },
     "execution_count": 7,
     "metadata": {},
     "output_type": "execute_result"
    }
   ],
   "source": [
    "import pandas as pd\n",
    "df = pd.read_csv('AnalysisData.csv')\n",
    "df"
   ]
  },
  {
   "cell_type": "markdown",
   "id": "36245e76-c762-46cc-8907-6d8cc01361dc",
   "metadata": {},
   "source": [
    "#### 1. Inspecting the DataFrame\n",
    "Understand the structure and content of the DataFrame.\n",
    "\n",
    "- **View Basic Info**:"
   ]
  },
  {
   "cell_type": "code",
   "execution_count": 9,
   "id": "a123427e-077f-40fd-acdf-1d49460f742f",
   "metadata": {},
   "outputs": [
    {
     "name": "stdout",
     "output_type": "stream",
     "text": [
      "<class 'pandas.core.frame.DataFrame'>\n",
      "RangeIndex: 100 entries, 0 to 99\n",
      "Data columns (total 4 columns):\n",
      " #   Column      Non-Null Count  Dtype \n",
      "---  ------      --------------  ----- \n",
      " 0   name        100 non-null    object\n",
      " 1   age         100 non-null    int64 \n",
      " 2   salary      100 non-null    int64 \n",
      " 3   department  100 non-null    object\n",
      "dtypes: int64(2), object(2)\n",
      "memory usage: 3.3+ KB\n",
      "None\n"
     ]
    }
   ],
   "source": [
    "print(df.info())"
   ]
  },
  {
   "cell_type": "markdown",
   "id": "a3e19a7d-4364-4d08-a005-193e31de28ea",
   "metadata": {},
   "source": [
    " - Shows column names, non-null counts, and data types."
   ]
  },
  {
   "cell_type": "markdown",
   "id": "03ebbae7-259c-4795-b011-5de9b0a480a2",
   "metadata": {},
   "source": [
    "- **View First/Last Rows**:"
   ]
  },
  {
   "cell_type": "code",
   "execution_count": 13,
   "id": "669f5442-09e5-4455-8103-ab3046f1e3a6",
   "metadata": {},
   "outputs": [
    {
     "name": "stdout",
     "output_type": "stream",
     "text": [
      "    name  age  salary department\n",
      "0  Karen   53   48402      Sales\n",
      "1  Karen   36   50229         HR\n",
      "     name  age  salary   department\n",
      "98  Diana   42   53692  Engineering\n",
      "99  Linda   30   62561           IT\n"
     ]
    }
   ],
   "source": [
    "print(df.head(2))  # First 2 rows\n",
    "print(df.tail(2))  # Last 2 rowszc"
   ]
  },
  {
   "cell_type": "markdown",
   "id": "275cdc52-9114-4d73-af02-f04a2ba1c326",
   "metadata": {},
   "source": [
    "- **Shape and Columns**:"
   ]
  },
  {
   "cell_type": "code",
   "execution_count": 23,
   "id": "502405ca-c321-4e28-be12-6ef74414a828",
   "metadata": {},
   "outputs": [
    {
     "name": "stdout",
     "output_type": "stream",
     "text": [
      "(100, 4)\n"
     ]
    }
   ],
   "source": [
    "print(df.shape) "
   ]
  },
  {
   "cell_type": "code",
   "execution_count": 21,
   "id": "857c577a-19f1-4624-96cc-adec5eca1542",
   "metadata": {},
   "outputs": [
    {
     "name": "stdout",
     "output_type": "stream",
     "text": [
      "Index(['name', 'age', 'salary', 'department'], dtype='object')\n"
     ]
    }
   ],
   "source": [
    "print(df.columns)"
   ]
  },
  {
   "cell_type": "markdown",
   "id": "b384297e-10a8-4720-9218-0dc3fa564a40",
   "metadata": {},
   "source": [
    "- **Unique Values**:"
   ]
  },
  {
   "cell_type": "code",
   "execution_count": 27,
   "id": "ce15fa3e-50a0-4d07-a49a-8d5899a09ff7",
   "metadata": {},
   "outputs": [
    {
     "name": "stdout",
     "output_type": "stream",
     "text": [
      "['Sales' 'HR' 'Marketing' 'IT' 'Engineering' 'Finance']\n"
     ]
    }
   ],
   "source": [
    "print(df['department'].unique())"
   ]
  },
  {
   "cell_type": "code",
   "execution_count": 25,
   "id": "c6f53b2b-0983-43b6-a338-192bbc17c876",
   "metadata": {},
   "outputs": [
    {
     "name": "stdout",
     "output_type": "stream",
     "text": [
      "6\n"
     ]
    }
   ],
   "source": [
    "print(df['department'].nunique())"
   ]
  },
  {
   "cell_type": "markdown",
   "id": "8b73dfad-6c98-4edb-81cc-617dbc3e410a",
   "metadata": {},
   "source": [
    "#### 2. Descriptive Statistics\n",
    "Summarize numerical and categorical data to understand distributions and patterns.\n",
    "\n",
    "- **Numerical Columns**:"
   ]
  },
  {
   "cell_type": "code",
   "execution_count": 30,
   "id": "ad9cbe41-33e0-4c22-8f25-bcf3bda43fa3",
   "metadata": {},
   "outputs": [
    {
     "name": "stdout",
     "output_type": "stream",
     "text": [
      "              age         salary\n",
      "count  100.000000     100.000000\n",
      "mean    40.920000   67790.640000\n",
      "std     10.837347   24876.058269\n",
      "min     22.000000   31589.000000\n",
      "25%     31.000000   46153.000000\n",
      "50%     39.500000   69090.000000\n",
      "75%     51.250000   86647.250000\n",
      "max     60.000000  119509.000000\n"
     ]
    }
   ],
   "source": [
    "print(df.describe())"
   ]
  },
  {
   "cell_type": "markdown",
   "id": "0802035c-a6a4-4ea7-865b-b40e7a55249c",
   "metadata": {},
   "source": [
    " - Provides count, mean, std, min, max, and quartiles for numeric columns."
   ]
  },
  {
   "cell_type": "markdown",
   "id": "c0b2432e-49e1-4370-bba2-cda55f922b6c",
   "metadata": {},
   "source": [
    "- **Categorical Columns**:"
   ]
  },
  {
   "cell_type": "code",
   "execution_count": 34,
   "id": "1b6ce37b-4546-4399-b8b5-a7bef13d42a2",
   "metadata": {},
   "outputs": [
    {
     "name": "stdout",
     "output_type": "stream",
     "text": [
      "department\n",
      "Marketing      20\n",
      "Engineering    20\n",
      "IT             17\n",
      "HR             16\n",
      "Finance        15\n",
      "Sales          12\n",
      "Name: count, dtype: int64\n"
     ]
    }
   ],
   "source": [
    "print(df['department'].value_counts())"
   ]
  },
  {
   "cell_type": "markdown",
   "id": "dda52982-136f-4717-9c3d-758e429dc380",
   "metadata": {},
   "source": [
    " - Shows frequency of each category."
   ]
  },
  {
   "cell_type": "markdown",
   "id": "e3447b57-5e69-4004-9df2-61196df5d80a",
   "metadata": {},
   "source": [
    "- **Custom Statistics**:"
   ]
  },
  {
   "cell_type": "code",
   "execution_count": 44,
   "id": "2e8bcf95-238c-468f-ab87-5b97cb16ad4a",
   "metadata": {},
   "outputs": [
    {
     "name": "stdout",
     "output_type": "stream",
     "text": [
      "67790.64\n"
     ]
    }
   ],
   "source": [
    "print(df['salary'].mean())"
   ]
  },
  {
   "cell_type": "code",
   "execution_count": 46,
   "id": "d66df095-a9e9-48fb-ab73-2770225d8ce5",
   "metadata": {},
   "outputs": [
    {
     "name": "stdout",
     "output_type": "stream",
     "text": [
      "39.5\n"
     ]
    }
   ],
   "source": [
    "print(df['age'].median())"
   ]
  },
  {
   "cell_type": "markdown",
   "id": "5981a848-76ca-4256-9a7f-6949b7f949ae",
   "metadata": {},
   "source": [
    "#### 3. Filtering and Subsetting\n",
    "Extract specific rows or columns based on conditions.\n",
    "\n",
    "- **Select Columns**:"
   ]
  },
  {
   "cell_type": "code",
   "execution_count": 50,
   "id": "46f6f2ab-df38-4085-8b1e-279beb9b4db8",
   "metadata": {},
   "outputs": [
    {
     "name": "stdout",
     "output_type": "stream",
     "text": [
      "     name  salary\n",
      "0   Karen   48402\n",
      "1   Karen   50229\n",
      "2     Tom   75397\n",
      "3     Bob  118127\n",
      "4    John   96237\n",
      "..    ...     ...\n",
      "95  Karen   55519\n",
      "96    Bob   74830\n",
      "97   John   40323\n",
      "98  Diana   53692\n",
      "99  Linda   62561\n",
      "\n",
      "[100 rows x 2 columns]\n"
     ]
    }
   ],
   "source": [
    "print(df[['name', 'salary']])"
   ]
  },
  {
   "cell_type": "markdown",
   "id": "8c199ae9-a625-452a-aaca-b802b1df6bfb",
   "metadata": {},
   "source": [
    "- **Filter Rows by Condition**:"
   ]
  },
  {
   "cell_type": "code",
   "execution_count": 53,
   "id": "82e64d21-79e5-48b0-ad90-9e04810e64ca",
   "metadata": {},
   "outputs": [
    {
     "name": "stdout",
     "output_type": "stream",
     "text": [
      "     name  age  salary department\n",
      "2     Tom   57   75397  Marketing\n",
      "3     Bob   32  118127  Marketing\n",
      "4    John   59   96237         IT\n",
      "5   Diana   59  101200         IT\n",
      "6    Mike   51   62179  Marketing\n",
      "..    ...  ...     ...        ...\n",
      "93  Steve   35   55171  Marketing\n",
      "94   Mike   39   71429         HR\n",
      "95  Karen   59   55519         IT\n",
      "96    Bob   26   74830  Marketing\n",
      "99  Linda   30   62561         IT\n",
      "\n",
      "[64 rows x 4 columns]\n"
     ]
    }
   ],
   "source": [
    "print(df[df['salary'] > 55000])"
   ]
  },
  {
   "cell_type": "markdown",
   "id": "bcbaa7e4-b9b8-4589-88c6-0673685c38e0",
   "metadata": {},
   "source": [
    "- **Multiple Conditions**:"
   ]
  },
  {
   "cell_type": "code",
   "execution_count": 56,
   "id": "060fc7ad-0450-4458-bd22-f47009f6e91e",
   "metadata": {},
   "outputs": [
    {
     "name": "stdout",
     "output_type": "stream",
     "text": [
      "     name  age  salary department\n",
      "4    John   59   96237         IT\n",
      "5   Diana   59  101200         IT\n",
      "12   Emma   45  111789         IT\n",
      "20   Mike   43   39542         IT\n",
      "23   John   42   72180         IT\n",
      "25  Diana   49   32967         IT\n",
      "28   Mike   33   86693         IT\n",
      "46  Steve   51   82336         IT\n",
      "48  Alice   30   90907         IT\n",
      "50  Steve   46   37164         IT\n",
      "52   John   27   44600         IT\n",
      "62  Linda   59   86632         IT\n",
      "64  Karen   34   45421         IT\n",
      "81  Diana   38   93472         IT\n",
      "95  Karen   59   55519         IT\n",
      "97   John   59   40323         IT\n",
      "99  Linda   30   62561         IT\n"
     ]
    }
   ],
   "source": [
    "print(df[(df['department'] == 'IT') & (df['age'] > 25)])"
   ]
  },
  {
   "cell_type": "markdown",
   "id": "e9b6ebf9-8e95-4b89-b5de-d826cb8a1889",
   "metadata": {},
   "source": [
    "- **Query Method**:"
   ]
  },
  {
   "cell_type": "code",
   "execution_count": 59,
   "id": "77a40607-34a8-4869-bd9f-a2e6d0811322",
   "metadata": {},
   "outputs": [
    {
     "name": "stdout",
     "output_type": "stream",
     "text": [
      "     name  age  salary department\n",
      "4    John   59   96237         IT\n",
      "5   Diana   59  101200         IT\n",
      "12   Emma   45  111789         IT\n",
      "23   John   42   72180         IT\n",
      "28   Mike   33   86693         IT\n",
      "46  Steve   51   82336         IT\n",
      "48  Alice   30   90907         IT\n",
      "62  Linda   59   86632         IT\n",
      "81  Diana   38   93472         IT\n",
      "95  Karen   59   55519         IT\n",
      "99  Linda   30   62561         IT\n"
     ]
    }
   ],
   "source": [
    "print(df.query('salary > 55000 and department == \"IT\"'))"
   ]
  },
  {
   "cell_type": "markdown",
   "id": "05a4639c-7a90-4f21-9578-f200b6f5b699",
   "metadata": {},
   "source": [
    "#### 4. Grouping and Aggregation\n",
    "Group data by one or more columns and compute aggregate statistics.\n",
    "\n",
    "- **Single GroupBy**:"
   ]
  },
  {
   "cell_type": "code",
   "execution_count": 62,
   "id": "f325ae59-0805-4c3e-a6e4-583f8142a508",
   "metadata": {},
   "outputs": [
    {
     "name": "stdout",
     "output_type": "stream",
     "text": [
      "department\n",
      "Engineering    61241.000000\n",
      "Finance        73004.200000\n",
      "HR             60773.375000\n",
      "IT             69384.882353\n",
      "Marketing      71595.350000\n",
      "Sales          72946.416667\n",
      "Name: salary, dtype: float64\n"
     ]
    }
   ],
   "source": [
    "print(df.groupby('department')['salary'].mean())"
   ]
  },
  {
   "cell_type": "markdown",
   "id": "1f3231e4-95f2-4438-ad82-dd96ecf8a9b4",
   "metadata": {},
   "source": [
    "- **Multiple Aggregations**:"
   ]
  },
  {
   "cell_type": "code",
   "execution_count": 65,
   "id": "a8599f2c-dc56-4eee-b0eb-004bca515bfe",
   "metadata": {},
   "outputs": [
    {
     "name": "stdout",
     "output_type": "stream",
     "text": [
      "                   salary       age\n",
      "                     mean count max\n",
      "department                         \n",
      "Engineering  61241.000000    20  60\n",
      "Finance      73004.200000    15  57\n",
      "HR           60773.375000    16  59\n",
      "IT           69384.882353    17  59\n",
      "Marketing    71595.350000    20  57\n",
      "Sales        72946.416667    12  53\n"
     ]
    }
   ],
   "source": [
    "print(df.groupby('department').agg({'salary': ['mean', 'count'], 'age': 'max'}))"
   ]
  },
  {
   "cell_type": "markdown",
   "id": "03e529cc-6d94-44fe-86b3-5f4b63698f65",
   "metadata": {},
   "source": [
    "- **GroupBy with Custom Function**:"
   ]
  },
  {
   "cell_type": "code",
   "execution_count": 68,
   "id": "fd7dd7a5-51a8-4b20-8439-98f7f1a80e76",
   "metadata": {},
   "outputs": [
    {
     "name": "stdout",
     "output_type": "stream",
     "text": [
      "department\n",
      "Engineering    85168\n",
      "Finance        86253\n",
      "HR             72944\n",
      "IT             78822\n",
      "Marketing      86538\n",
      "Sales          71835\n",
      "Name: salary, dtype: int64\n"
     ]
    }
   ],
   "source": [
    "print(df.groupby('department')['salary'].apply(lambda x: x.max() - x.min()))"
   ]
  },
  {
   "cell_type": "markdown",
   "id": "0bc17a7b-8ff1-42c7-aa6a-8127bcba8c19",
   "metadata": {},
   "source": [
    "#### 5. Handling Missing Data\n",
    "Identify and address missing values (NaN or None).\n",
    "\n",
    "- **Detect Missing Data**:"
   ]
  },
  {
   "cell_type": "code",
   "execution_count": 71,
   "id": "2db723de-522f-4fa6-aed7-18d62ae12ca0",
   "metadata": {},
   "outputs": [
    {
     "name": "stdout",
     "output_type": "stream",
     "text": [
      "     name    age  salary  department\n",
      "0   False  False   False       False\n",
      "1   False  False   False       False\n",
      "2   False  False   False       False\n",
      "3   False  False   False       False\n",
      "4   False  False   False       False\n",
      "..    ...    ...     ...         ...\n",
      "95  False  False   False       False\n",
      "96  False  False   False       False\n",
      "97  False  False   False       False\n",
      "98  False  False   False       False\n",
      "99  False  False   False       False\n",
      "\n",
      "[100 rows x 4 columns]\n"
     ]
    }
   ],
   "source": [
    "print(df.isna())"
   ]
  },
  {
   "cell_type": "code",
   "execution_count": 73,
   "id": "1b4771b3-660a-4132-b4dd-418ddf72f6ed",
   "metadata": {},
   "outputs": [
    {
     "name": "stdout",
     "output_type": "stream",
     "text": [
      "name          0\n",
      "age           0\n",
      "salary        0\n",
      "department    0\n",
      "dtype: int64\n"
     ]
    }
   ],
   "source": [
    "print(df.isna().sum())"
   ]
  },
  {
   "cell_type": "markdown",
   "id": "4e609143-1619-4769-854d-c9de8ecf4aeb",
   "metadata": {},
   "source": [
    "- **Fill Missing Data**:"
   ]
  },
  {
   "cell_type": "code",
   "execution_count": 76,
   "id": "3a91dbee-d890-4a55-a3b5-a96c05290b93",
   "metadata": {},
   "outputs": [
    {
     "name": "stdout",
     "output_type": "stream",
     "text": [
      "     name  age  salary   department\n",
      "0   Karen   53   48402        Sales\n",
      "1   Karen   36   50229           HR\n",
      "2     Tom   57   75397    Marketing\n",
      "3     Bob   32  118127    Marketing\n",
      "4    John   59   96237           IT\n",
      "..    ...  ...     ...          ...\n",
      "95  Karen   59   55519           IT\n",
      "96    Bob   26   74830    Marketing\n",
      "97   John   59   40323           IT\n",
      "98  Diana   42   53692  Engineering\n",
      "99  Linda   30   62561           IT\n",
      "\n",
      "[100 rows x 4 columns]\n"
     ]
    }
   ],
   "source": [
    "df_filled = df.fillna({'name': 'Unknown', 'age': df['age'].mean(), 'salary': df['salary'].median()})\n",
    "print(df_filled)"
   ]
  },
  {
   "cell_type": "markdown",
   "id": "0d0bd438-490d-4853-9efc-3450cd13f676",
   "metadata": {},
   "source": [
    "- **Drop Missing Data**:"
   ]
  },
  {
   "cell_type": "code",
   "execution_count": 79,
   "id": "772acd2d-6874-43b3-b40f-6ca257b55061",
   "metadata": {},
   "outputs": [
    {
     "name": "stdout",
     "output_type": "stream",
     "text": [
      "     name  age  salary   department\n",
      "0   Karen   53   48402        Sales\n",
      "1   Karen   36   50229           HR\n",
      "2     Tom   57   75397    Marketing\n",
      "3     Bob   32  118127    Marketing\n",
      "4    John   59   96237           IT\n",
      "..    ...  ...     ...          ...\n",
      "95  Karen   59   55519           IT\n",
      "96    Bob   26   74830    Marketing\n",
      "97   John   59   40323           IT\n",
      "98  Diana   42   53692  Engineering\n",
      "99  Linda   30   62561           IT\n",
      "\n",
      "[100 rows x 4 columns]\n"
     ]
    }
   ],
   "source": [
    "print(df.dropna())"
   ]
  },
  {
   "cell_type": "markdown",
   "id": "9b0c3e19-56b0-4096-963a-b0b06755ea83",
   "metadata": {},
   "source": [
    "#### 6. Correlation and Relationships\n",
    "Explore relationships between numerical columns.\n",
    "\n",
    "- **Correlation Matrix**:"
   ]
  },
  {
   "cell_type": "code",
   "execution_count": 82,
   "id": "93dc55aa-0e97-4a5b-8e7a-0743e5b66a61",
   "metadata": {},
   "outputs": [
    {
     "name": "stdout",
     "output_type": "stream",
     "text": [
      "             age    salary\n",
      "age     1.000000  0.101319\n",
      "salary  0.101319  1.000000\n"
     ]
    }
   ],
   "source": [
    "print(df.corr(numeric_only=True))"
   ]
  },
  {
   "cell_type": "markdown",
   "id": "1a5f0b93-fb98-4491-b9f3-abeb8c9e2a1a",
   "metadata": {},
   "source": [
    "  - Uses Pearson correlation by default; use <span style=\"color:orange\">method='spearman'</span> or <span style=\"color:orange\">'kendall'</span> for alternatives."
   ]
  },
  {
   "cell_type": "markdown",
   "id": "3545161c-e554-41fc-b403-a5645c287865",
   "metadata": {},
   "source": [
    "- **Covariance**:"
   ]
  },
  {
   "cell_type": "code",
   "execution_count": 88,
   "id": "81fedaa4-093e-4b81-9b96-e82f517ff8a6",
   "metadata": {},
   "outputs": [
    {
     "name": "stdout",
     "output_type": "stream",
     "text": [
      "                 age        salary\n",
      "age       117.448081  2.731461e+04\n",
      "salary  27314.607273  6.188183e+08\n"
     ]
    }
   ],
   "source": [
    "print(df.cov(numeric_only=True))"
   ]
  },
  {
   "cell_type": "markdown",
   "id": "7a7aa50a-45f1-4cc2-b71d-25a654989556",
   "metadata": {},
   "source": [
    "#### 7. Sorting and Ranking\n",
    "Order data to identify top/bottom values or trends.\n",
    "\n",
    "- **Sort by Column**:"
   ]
  },
  {
   "cell_type": "code",
   "execution_count": 91,
   "id": "71da8c55-f585-4f5b-8f9c-b234b1bb0159",
   "metadata": {},
   "outputs": [
    {
     "name": "stdout",
     "output_type": "stream",
     "text": [
      "     name  age  salary   department\n",
      "85    Bob   40  119509      Finance\n",
      "3     Bob   32  118127    Marketing\n",
      "88    Tom   27  117612  Engineering\n",
      "63   Mike   52  115378  Engineering\n",
      "90  Alice   32  113510      Finance\n",
      "..    ...  ...     ...          ...\n",
      "25  Diana   49   32967           IT\n",
      "76  Linda   26   32444  Engineering\n",
      "58   John   26   32314           HR\n",
      "56    Bob   36   31749           HR\n",
      "83    Tom   48   31589    Marketing\n",
      "\n",
      "[100 rows x 4 columns]\n"
     ]
    }
   ],
   "source": [
    "print(df.sort_values('salary', ascending=False))"
   ]
  },
  {
   "cell_type": "markdown",
   "id": "b98d7433-f9ad-49d3-b72a-5e253cbca909",
   "metadata": {},
   "source": [
    "- **Sort by Multiple Columns**:"
   ]
  },
  {
   "cell_type": "code",
   "execution_count": 94,
   "id": "640d5833-8018-4462-bd96-bef95858a553",
   "metadata": {},
   "outputs": [
    {
     "name": "stdout",
     "output_type": "stream",
     "text": [
      "     name  age  salary   department\n",
      "13   Mike   26   48215  Engineering\n",
      "76  Linda   26   32444  Engineering\n",
      "88    Tom   27  117612  Engineering\n",
      "37   Mike   31   61859  Engineering\n",
      "71  Steve   32   52259  Engineering\n",
      "..    ...  ...     ...          ...\n",
      "30  Alice   37   59746        Sales\n",
      "55  Diana   42   97053        Sales\n",
      "17  Steve   48   86819        Sales\n",
      "72  Karen   52   85213        Sales\n",
      "0   Karen   53   48402        Sales\n",
      "\n",
      "[100 rows x 4 columns]\n"
     ]
    }
   ],
   "source": [
    "print(df.sort_values(['department', 'age']))"
   ]
  },
  {
   "cell_type": "markdown",
   "id": "fbc43681-dc2f-43e5-9152-07fa3c338a5b",
   "metadata": {},
   "source": [
    "- **Rank Values**:"
   ]
  },
  {
   "cell_type": "code",
   "execution_count": 97,
   "id": "dbdd908b-e203-4b95-bc49-59d5655f3706",
   "metadata": {},
   "outputs": [
    {
     "name": "stdout",
     "output_type": "stream",
     "text": [
      "0     29.0\n",
      "1     31.0\n",
      "2     63.0\n",
      "3     99.0\n",
      "4     86.0\n",
      "      ... \n",
      "95    38.0\n",
      "96    61.0\n",
      "97    21.0\n",
      "98    35.0\n",
      "99    47.0\n",
      "Name: salary, Length: 100, dtype: float64\n"
     ]
    }
   ],
   "source": [
    "print(df['salary'].rank())"
   ]
  },
  {
   "cell_type": "markdown",
   "id": "cd659df9-5e2f-4f26-88a2-45810567a655",
   "metadata": {},
   "source": [
    "#### 8. Visualization Preparation\n",
    "While I won’t generate plots (per guidelines), I’ll show how to prepare data for visualization (e.g., with Matplotlib or Seaborn).\n",
    "\n",
    "- **Group for Bar Plot**:"
   ]
  },
  {
   "cell_type": "code",
   "execution_count": 100,
   "id": "518d990c-af20-435c-8cf4-8f3342f543dc",
   "metadata": {},
   "outputs": [
    {
     "name": "stdout",
     "output_type": "stream",
     "text": [
      "department\n",
      "Engineering    61241.000000\n",
      "Finance        73004.200000\n",
      "HR             60773.375000\n",
      "IT             69384.882353\n",
      "Marketing      71595.350000\n",
      "Sales          72946.416667\n",
      "Name: salary, dtype: float64\n"
     ]
    }
   ],
   "source": [
    "dept_salary = df.groupby('department')['salary'].mean()\n",
    "print(dept_salary)  # Ready for plotting"
   ]
  },
  {
   "cell_type": "markdown",
   "id": "3404b640-be44-4c24-bfac-ce7d7300a412",
   "metadata": {},
   "source": [
    "- **Pivot Table for Heatmap**:"
   ]
  },
  {
   "cell_type": "code",
   "execution_count": 103,
   "id": "75fa19ab-e58b-495b-b522-f09bc97f68ed",
   "metadata": {},
   "outputs": [
    {
     "name": "stdout",
     "output_type": "stream",
     "text": [
      "age               22       23       25       26        27       28       29  \\\n",
      "department                                                                    \n",
      "Engineering      NaN      NaN      NaN  40329.5  117612.0      NaN      NaN   \n",
      "Finance          NaN      NaN  33536.0  35259.0       NaN      NaN      NaN   \n",
      "HR               NaN      NaN      NaN  40141.0       NaN  74087.5      NaN   \n",
      "IT               NaN      NaN      NaN      NaN   44600.0      NaN      NaN   \n",
      "Marketing    61060.0  78362.0      NaN  74830.0       NaN      NaN  96717.0   \n",
      "Sales            NaN      NaN      NaN      NaN       NaN  69993.5  79496.0   \n",
      "\n",
      "age               30       31        32  ...       48       49       51  \\\n",
      "department                               ...                              \n",
      "Engineering      NaN  61859.0   52259.0  ...      NaN  39224.0      NaN   \n",
      "Finance          NaN  52914.0  113510.0  ...      NaN      NaN      NaN   \n",
      "HR               NaN  70836.0   66436.0  ...      NaN      NaN      NaN   \n",
      "IT           76734.0      NaN       NaN  ...      NaN  32967.0  82336.0   \n",
      "Marketing        NaN  92084.0  118127.0  ...  60449.0      NaN  62179.0   \n",
      "Sales            NaN  78932.0       NaN  ...  86819.0      NaN      NaN   \n",
      "\n",
      "age                52       53       54       56            57       59  \\\n",
      "department                                                                \n",
      "Engineering  115378.0  63724.0  57246.0      NaN  59098.000000      NaN   \n",
      "Finance           NaN  94040.0      NaN      NaN  91040.000000      NaN   \n",
      "HR            84645.0  70779.0      NaN      NaN           NaN  79061.0   \n",
      "IT                NaN      NaN      NaN      NaN           NaN  75982.2   \n",
      "Marketing         NaN  83431.0  50054.0  42414.0  82807.333333      NaN   \n",
      "Sales         85213.0  48402.0      NaN      NaN           NaN      NaN   \n",
      "\n",
      "age               60  \n",
      "department            \n",
      "Engineering  77456.0  \n",
      "Finance          NaN  \n",
      "HR               NaN  \n",
      "IT               NaN  \n",
      "Marketing        NaN  \n",
      "Sales            NaN  \n",
      "\n",
      "[6 rows x 35 columns]\n"
     ]
    }
   ],
   "source": [
    "pivot = df.pivot_table(values='salary', index='department', columns='age', aggfunc='mean')\n",
    "print(pivot)"
   ]
  },
  {
   "cell_type": "markdown",
   "id": "49a9a603-66c4-4118-8f04-6f23e8e99d6e",
   "metadata": {},
   "source": [
    "### Performance Considerations\n",
    "- **Memory**: Use <span style=\"color:orange\">dtype</span> optimization (e.g., <span style=\"color:orange\">float32</span> instead of <span style=\"color:orange\">float64</span>) for large datasets.\n",
    "- **Speed**: Prefer vectorized operations (e.g., <span style=\"color:orange\">df['salary'] > 60000</span>) over loops.\n",
    "- **Large Datasets**: Use <span style=\"color:orange\">groupby</span> with <span style=\"color:orange\">agg</span> for efficient aggregation; consider <span style=\"color:orange\">dask</span> for big data."
   ]
  },
  {
   "cell_type": "code",
   "execution_count": null,
   "id": "8263e028-7c30-4297-95f1-b009e51a9df8",
   "metadata": {},
   "outputs": [],
   "source": []
  }
 ],
 "metadata": {
  "kernelspec": {
   "display_name": "Python [conda env:base] *",
   "language": "python",
   "name": "conda-base-py"
  },
  "language_info": {
   "codemirror_mode": {
    "name": "ipython",
    "version": 3
   },
   "file_extension": ".py",
   "mimetype": "text/x-python",
   "name": "python",
   "nbconvert_exporter": "python",
   "pygments_lexer": "ipython3",
   "version": "3.12.7"
  }
 },
 "nbformat": 4,
 "nbformat_minor": 5
}
