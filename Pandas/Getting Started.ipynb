{
 "cells": [
  {
   "cell_type": "markdown",
   "id": "2d09517f-0d2f-4cfe-97f3-9399350660df",
   "metadata": {},
   "source": [
    "#### Installation of Pandas"
   ]
  },
  {
   "cell_type": "markdown",
   "id": "8012d2a3-464e-4e4c-9f6e-50b4c79b3ed5",
   "metadata": {},
   "source": [
    "Install it using this command:\n",
    "\n",
    "---\n",
    "C:\\Users\\Your Name>pip install pandas\n",
    "\n",
    "---"
   ]
  },
  {
   "cell_type": "markdown",
   "id": "8b78d31f-fd98-40c4-b0d4-ca175122a2ee",
   "metadata": {},
   "source": [
    "#### Import Pandas"
   ]
  },
  {
   "cell_type": "code",
   "execution_count": null,
   "id": "d6583f3b-d0b2-4a1f-ae25-2063bce5713b",
   "metadata": {},
   "outputs": [],
   "source": [
    "import pandas"
   ]
  },
  {
   "cell_type": "markdown",
   "id": "3a9544ef-57bd-4f0a-9102-4fa397cac0a0",
   "metadata": {},
   "source": [
    "#### Pandas as pd\n",
    "Pandas is usually imported under the pd alias."
   ]
  },
  {
   "cell_type": "code",
   "execution_count": null,
   "id": "3148c377-b4a9-413b-ad45-e32f1e68814b",
   "metadata": {},
   "outputs": [],
   "source": [
    "import pandas as pd"
   ]
  },
  {
   "cell_type": "markdown",
   "id": "a1e45a33-7411-4641-a01b-381546445048",
   "metadata": {},
   "source": [
    "#### Checking Pandas Version\n",
    "The version string is stored under __version__ attribute."
   ]
  },
  {
   "cell_type": "code",
   "execution_count": null,
   "id": "226fa622-fa94-4544-9d3b-c4fb005e4bcc",
   "metadata": {},
   "outputs": [],
   "source": [
    "print(pd.__version__)"
   ]
  }
 ],
 "metadata": {
  "kernelspec": {
   "display_name": "Python [conda env:base] *",
   "language": "python",
   "name": "conda-base-py"
  },
  "language_info": {
   "codemirror_mode": {
    "name": "ipython",
    "version": 3
   },
   "file_extension": ".py",
   "mimetype": "text/x-python",
   "name": "python",
   "nbconvert_exporter": "python",
   "pygments_lexer": "ipython3",
   "version": "3.12.7"
  }
 },
 "nbformat": 4,
 "nbformat_minor": 5
}
