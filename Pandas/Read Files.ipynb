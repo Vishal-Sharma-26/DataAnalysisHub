{
 "cells": [
  {
   "cell_type": "markdown",
   "id": "20e6fb38-69ea-407f-9813-5ad4a87e69c3",
   "metadata": {},
   "source": [
    "The pandas library in Python provides robust methods to read data from various file formats and data sources into a DataFrame. Below, I’ll explain how to read data from each of the specified formats: CSV, JSON, Excel, SQL, Parquet, HTML tables, TSV, TXT, Fixed-width, OpenDocument Spreadsheet, XML, Pickle, Feather, ORC, SAS, SPSS, SQL Query, SQL Table, Clipboard, and Google Sheets. For each, I’ll provide a concise explanation and a code example, focusing on practical usage and essential parameters. I’ll assume you have pandas installed (pip install pandas) and any additional dependencies for specific formats.\n",
    "\n",
    "### Ensure you have the necessary libraries installed for specific formats:\n",
    "\n",
    "- **Excel**: <span style=\"color:orange\">openpyxl</span> or <span style=\"color:orange\">xlrd</span> (<span style=\"color:orange\">pip install openpyxl xlrd</span>)\n",
    "- **SQL**: <span style=\"color:orange\">sqlalchemy</span> and a database driver (e.g., <span style=\"color:orange\">pymysql</span> for MySQL, <span style=\"color:orange\">psycopg2</span> for PostgreSQL) (<span style=\"color:orange\">pip install sqlalchemy pymysql psycopg2</span>)\n",
    "- **Parquet**: <span style=\"color:orange\">pyarrow</span> or <span style=\"color:orange\">fastparquet</span> (<span style=\"color:orange\">pip install pyarrow</span>)\n",
    "- **Feather**: <span style=\"color:orange\">pyarrow</span> (<span style=\"color:orange\">pip install pyarrow</span>)\n",
    "- **ORC**: <span style=\"color:orange\">pyarrow</span> (<span style=\"color:orange\">pip install pyarrow</span>)\n",
    "- **SAS/SPSS**: <span style=\"color:orange\">pyreadstat</span> (<span style=\"color:orange\">pip install pyreadstat</span>)\n",
    "- **Google Sheets**: <span style=\"color:orange\">gspread</span> and <span style=\"color:orange\">oauth2client</span> or <span style=\"color:orange\">google-auth</span> (<span style=\"color:orange\">pip install gspread google-auth</span>)\n",
    "- **XML**: <span style=\"color:orange\">lxml</span> (<span style=\"color:orange\">pip install lxml</span>)"
   ]
  },
  {
   "cell_type": "markdown",
   "id": "879de438-e299-45c5-a29d-e7ad855195d1",
   "metadata": {},
   "source": [
    "### 1. CSV (Comma-Separated Values)\n",
    "- **Description**: Reads tabular data from a CSV file.\n",
    "- **Key Parameters**:\n",
    " - <span style=\"color:orange\">filepath_or_buffer</span>: Path to the CSV file or URL.\n",
    " - <span style=\"color:orange\">sep</span>: Delimiter (default: ,).\n",
    " - <span style=\"color:orange\">index_col</span>: Column(s) to set as index.\n",
    " - <span style=\"color:orange\">usecols</span>: Columns to read.\n",
    " - <span style=\"color:orange\">dtype</span>: Specify column data types.\n",
    " - <span style=\"color:orange\">na_values</span>: Values to treat as NaN."
   ]
  },
  {
   "cell_type": "code",
   "execution_count": 1,
   "id": "eb85b7d2-9a36-4f0e-bedc-b588f81b5127",
   "metadata": {},
   "outputs": [
    {
     "name": "stdout",
     "output_type": "stream",
     "text": [
      "       name  age\n",
      "id              \n",
      "1     Alice   25\n",
      "2       Bob   30\n",
      "3   Charlie   22\n",
      "4     David   35\n",
      "5       Eva   28\n"
     ]
    }
   ],
   "source": [
    "import pandas as pd\n",
    "df = pd.read_csv('Datasets/data.csv', sep=',', index_col='id', usecols=['id', 'name', 'age'])\n",
    "print(df)"
   ]
  },
  {
   "cell_type": "markdown",
   "id": "faf58d93-91b5-41c3-81e1-f9691a7a48f2",
   "metadata": {},
   "source": [
    "### 2. JSON (JavaScript Object Notation)\n",
    "- **Description**: Reads JSON data, typically as a list of records or a nested structure.\n",
    "- **Key Parameters**:\n",
    " - <span style=\"color:orange\">orient</span>: Format of JSON (e.g., <span style=\"color:orange\">records</span>, <span style=\"color:orange\">columns</span>, <span style=\"color:orange\">index</span>).\n",
    " - <span style=\"color:orange\">lines</span>: Set to <span style=\"color:orange\">True</span> for JSON Lines format."
   ]
  },
  {
   "cell_type": "code",
   "execution_count": 3,
   "id": "d6c35fe9-5552-4ca5-ae0a-3337cba39a6a",
   "metadata": {},
   "outputs": [
    {
     "name": "stdout",
     "output_type": "stream",
     "text": [
      "   id     name  age\n",
      "0   1    Alice   25\n",
      "1   2      Bob   30\n",
      "2   3  Charlie   22\n",
      "3   4    David   35\n",
      "4   5      Eva   28\n"
     ]
    }
   ],
   "source": [
    "df = pd.read_json('Datasets/data.json', lines=True)\n",
    "print(df)"
   ]
  },
  {
   "cell_type": "markdown",
   "id": "a9151b0b-9297-412c-b90b-5eefd5bf3930",
   "metadata": {},
   "source": [
    "- **Note**: For JSON Lines (one JSON object per line), use lines=True."
   ]
  },
  {
   "cell_type": "markdown",
   "id": "fe5a9675-3d81-462a-a39d-cc0906836825",
   "metadata": {},
   "source": [
    "#### 3. Excel\n",
    "- **Description**: Reads data from Excel files (.xlsx, .xls).\n",
    "- **Dependencies**: <span style=\"color:orange\">openpyxl</span> or <span style=\"color:orange\">xlrd</span>.\n",
    "- **Key Parameters**:\n",
    "  - <span style=\"color:orange\">sheet_name</span>: Sheet to read (name, index, or list for multiple).\n",
    "  - <span style=\"color:orange\">skiprows</span>: Rows to skip.\n",
    "  - <span style=\"color:orange\">usecols</span>: Columns to read (e.g., <span style=\"color:orange\">['A', 'B']</span> or Excel-style ranges)."
   ]
  },
  {
   "cell_type": "code",
   "execution_count": 5,
   "id": "3eb43929-4e6a-401f-b16b-b3abacdf6399",
   "metadata": {},
   "outputs": [
    {
     "name": "stdout",
     "output_type": "stream",
     "text": [
      "   id     name  age\n",
      "0   1    Alice   25\n",
      "1   2      Bob   30\n",
      "2   3  Charlie   22\n",
      "3   4    David   35\n",
      "4   5      Eva   28\n"
     ]
    }
   ],
   "source": [
    "df = pd.read_excel('Datasets/data.xlsx')\n",
    "print(df)"
   ]
  },
  {
   "cell_type": "markdown",
   "id": "a3c09400-f2b0-4b78-8a52-6357310c7f89",
   "metadata": {},
   "source": [
    "#### 4. SQL (Database Table or Query)\n",
    "- **Description**: Reads data from a SQL database table or query using SQLAlchemy.\n",
    "- **Dependencies**: <span style=\"color:orange\">sqlalchemy</span> and a database driver (e.g., <span style=\"color:orange\">pymysql</span> for MySQL).\n",
    "- **Key Parameters**:\n",
    "  - <span style=\"color:orange\">con</span>: SQLAlchemy engine or connection string.\n",
    "  - <span style=\"color:orange\">index_col</span>: Column to set as index.\n",
    "  - <span style=\"color:orange\">chunksize</span>: Read data in chunks for large datasets."
   ]
  },
  {
   "cell_type": "markdown",
   "id": "0d8a6f69-1a75-428d-a0da-66feda7057ff",
   "metadata": {},
   "source": [
    "-----------------------------------------------------------------------------------"
   ]
  },
  {
   "cell_type": "markdown",
   "id": "5327c175-a94b-433e-a499-b079a2b6c10b",
   "metadata": {},
   "source": [
    "#### 5. Parquet\n",
    "- **Description**: Reads columnar data from Parquet files, optimized for big data.\n",
    "- **Dependencies**: <span style=\"color:orange\">pyarrow</span> or <span style=\"color:orange\">astparquet</span>fastparquet.\n",
    "- **Key Parameters**:\n",
    "  - <span style=\"color:orange\">columns</span>: Columns to read.\n",
    "  - <span style=\"color:orange\">filters</span>: Filter rows during reading (with <span style=\"color:orange\">pyarrow</span>)."
   ]
  },
  {
   "cell_type": "code",
   "execution_count": 7,
   "id": "e47746d1-9634-4c82-b59c-5ee8f5df556c",
   "metadata": {},
   "outputs": [
    {
     "name": "stdout",
     "output_type": "stream",
     "text": [
      "   id     name  age\n",
      "0   1    Alice   25\n",
      "1   2      Bob   30\n",
      "2   3  Charlie   22\n",
      "3   4    David   35\n",
      "4   5      Eva   28\n"
     ]
    }
   ],
   "source": [
    "df = pd.read_parquet('Datasets/data.parquet')\n",
    "print(df)"
   ]
  },
  {
   "cell_type": "markdown",
   "id": "88815cc3-44e7-43da-89c0-607a2fd0fded",
   "metadata": {},
   "source": [
    "#### 6. HTML Tables\n",
    "- **Description**: Reads HTML tables from a webpage or file.\n",
    "- **Dependencies**: <span style=\"color:orange\">lxml</span>, <span style=\"color:orange\">beautifulsoup4</span>, <span style=\"color:orange\">html5lib</span>.\n",
    "- **Key Parameters**:\n",
    "  - <span style=\"color:orange\">match</span>: Regex to match table content.\n",
    "  - <span style=\"color:orange\">flavor</span>: Parser to use (<span style=\"color:orange\">lxml</span>, <span style=\"color:orange\">bs4</span>)."
   ]
  },
  {
   "cell_type": "markdown",
   "id": "1f947154-8466-4859-9ca5-ee221c691b73",
   "metadata": {},
   "source": [
    "#### 7. TSV (Tab-Separated Values)\n",
    "- **Description**: Reads tab-separated files (similar to CSV with <span style=\"color:orange\">sep='\\t'</span>)."
   ]
  },
  {
   "cell_type": "code",
   "execution_count": 9,
   "id": "3dbc41bd-6bbd-442d-81fa-4e6b8e56b7c1",
   "metadata": {},
   "outputs": [
    {
     "name": "stdout",
     "output_type": "stream",
     "text": [
      "   id     name  age\n",
      "0   1    Alice   25\n",
      "1   2      Bob   30\n",
      "2   3  Charlie   22\n",
      "3   4    David   35\n",
      "4   5      Eva   28\n"
     ]
    }
   ],
   "source": [
    "df = pd.read_csv('Datasets/data.tsv', sep='\\t')\n",
    "print(df)"
   ]
  },
  {
   "cell_type": "markdown",
   "id": "c918eec4-963e-4498-952f-7185d84690a9",
   "metadata": {},
   "source": [
    "#### 8. TXT (Plain Text)\n",
    "- **Description**: Reads plain text files, often as delimited or fixed-width files."
   ]
  },
  {
   "cell_type": "code",
   "execution_count": 11,
   "id": "c8156e7e-b98d-420c-ab40-54b102d84edf",
   "metadata": {},
   "outputs": [
    {
     "name": "stdout",
     "output_type": "stream",
     "text": [
      "   id     name  age\n",
      "0   1    Alice   25\n",
      "1   2      Bob   30\n",
      "2   3  Charlie   22\n",
      "3   4    David   35\n",
      "4   5      Eva   28\n"
     ]
    }
   ],
   "source": [
    "df = pd.read_csv('Datasets/data.txt', sep='|')  # Adjust separator as needed\n",
    "print(df)"
   ]
  },
  {
   "cell_type": "markdown",
   "id": "67677c26-54ff-43ad-9f14-dafde4c9534d",
   "metadata": {},
   "source": [
    "#### 9. Fixed-Width Files\n",
    "- **Description**: Reads text files with fixed-width columns.\n",
    "- **Key Parameters**:\n",
    "\n",
    "   - <span style=\"color:orange\">colspecs</span>: List of tuples specifying column widths or 'infer'.\n",
    "   - <span style=\"color:orange\">widths</span>: List of column widths."
   ]
  },
  {
   "cell_type": "code",
   "execution_count": 13,
   "id": "fc391777-d09b-4892-adf9-f0f045f3ff4b",
   "metadata": {},
   "outputs": [
    {
     "name": "stdout",
     "output_type": "stream",
     "text": [
      "   id|name|ag     e  Unnamed: 2\n",
      "0  1|Alice|25   NaN         NaN\n",
      "1    2|Bob|30   NaN         NaN\n",
      "2  3|Charlie|  22.0         NaN\n",
      "3  4|David|35   NaN         NaN\n",
      "4    5|Eva|28   NaN         NaN\n"
     ]
    }
   ],
   "source": [
    "df = pd.read_fwf('Datasets/data.txt', widths=[10, 20, 10])\n",
    "print(df)"
   ]
  },
  {
   "cell_type": "markdown",
   "id": "91041e38-a6c7-46c7-85ea-457e71d2cb74",
   "metadata": {},
   "source": [
    "#### 10. OpenDocument Spreadsheet (ODS)\n",
    "- **Description**: Reads .ods files (used by LibreOffice, OpenOffice).\n",
    "- **Dependencies**: <span style=\"color:orange\">odfpy</span> (<span style=\"color:orange\">pip install odfpy</span>)."
   ]
  },
  {
   "cell_type": "markdown",
   "id": "c11ddff0-6b8a-4eff-b9c3-11e8f3d56e5f",
   "metadata": {},
   "source": [
    "#### 11. XML (Extensible Markup Language)\n",
    "- **Description**: Reads structured data from XML files (pandas 1.3+).\n",
    "- **Dependencies**: <span style=\"color:orange\">lxml</span>.\n",
    "- **Key Parameters**:\n",
    "  - <span style=\"color:orange\">xpath</span>: XPath expression to select elements.\n",
    "  - <span style=\"color:orange\">elems_only</span>: Parse only element nodes."
   ]
  },
  {
   "cell_type": "markdown",
   "id": "a80ec255-dfed-4adf-add3-538dc72887f7",
   "metadata": {},
   "source": [
    "#### 12. Pickle\n",
    "- **Description**: Reads serialized Python objects (DataFrames) from .pkl files."
   ]
  },
  {
   "cell_type": "code",
   "execution_count": 15,
   "id": "9108d3a1-5d8c-4928-a526-560db0fa9889",
   "metadata": {},
   "outputs": [
    {
     "name": "stdout",
     "output_type": "stream",
     "text": [
      "   id     name  age\n",
      "0   1    Alice   25\n",
      "1   2      Bob   30\n",
      "2   3  Charlie   22\n",
      "3   4    David   35\n",
      "4   5      Eva   28\n"
     ]
    }
   ],
   "source": [
    "df = pd.read_pickle('Datasets/data.pkl')\n",
    "print(df)"
   ]
  },
  {
   "cell_type": "markdown",
   "id": "2051090e-132c-4c6d-9559-5681d1153e05",
   "metadata": {},
   "source": [
    "#### 13. Feather\n",
    "- **Description**: Reads fast, lightweight Feather files for columnar data.\n",
    "- **Dependencies**: <span style=\"color:orange\">pyarrow</span>."
   ]
  },
  {
   "cell_type": "code",
   "execution_count": 17,
   "id": "66811ae2-a599-4e59-8f09-774c9a481ee7",
   "metadata": {},
   "outputs": [
    {
     "name": "stdout",
     "output_type": "stream",
     "text": [
      "   id     name  age\n",
      "0   1    Alice   25\n",
      "1   2      Bob   30\n",
      "2   3  Charlie   22\n",
      "3   4    David   35\n",
      "4   5      Eva   28\n"
     ]
    }
   ],
   "source": [
    "df = pd.read_feather('Datasets/data.feather')\n",
    "print(df)"
   ]
  },
  {
   "cell_type": "markdown",
   "id": "53ac1e1d-5e14-4905-a446-a1da2f17e97b",
   "metadata": {},
   "source": [
    "#### 14. ORC (Optimized Row Columnar)\n",
    "- **Description**: Reads ORC files, commonly used in big data ecosystems.\n",
    "- **Dependencies**: <span style=\"color:orange\">pyarrow</span>."
   ]
  },
  {
   "cell_type": "code",
   "execution_count": 19,
   "id": "0287982c-07d3-4d9f-8225-5268baf26789",
   "metadata": {},
   "outputs": [
    {
     "name": "stdout",
     "output_type": "stream",
     "text": [
      "   id     name  age\n",
      "0   1    Alice   25\n",
      "1   2      Bob   30\n",
      "2   3  Charlie   22\n",
      "3   4    David   35\n",
      "4   5      Eva   28\n"
     ]
    }
   ],
   "source": [
    "df = pd.read_orc('Datasets/data.orc')\n",
    "print(df)"
   ]
  },
  {
   "cell_type": "markdown",
   "id": "1cd4035a-707a-49b8-b327-e3af7d2d36f5",
   "metadata": {},
   "source": [
    "#### 15. SAS (Statistical Analysis System)\n",
    "- **Description**: Reads SAS datasets (.sas7bdat, .xpt).\n",
    "- **Dependencies**: <span style=\"color:orange\">pyreadstat</span>."
   ]
  },
  {
   "cell_type": "markdown",
   "id": "ce5aa002-37ce-48bd-88b8-f05c8f35216f",
   "metadata": {},
   "source": [
    "#### 16. SPSS (Statistical Package for the Social Sciences)\n",
    "- **Description**: Reads SPSS files (.sav, .zsav).\n",
    "- **Dependencies**: <span style=\"color:orange\">pyreadstat</span>."
   ]
  },
  {
   "cell_type": "markdown",
   "id": "a714964c-34bc-48e6-95e5-400c0ea3ad82",
   "metadata": {},
   "source": [
    "#### 17. Clipboard\n",
    "- **Description**: Reads data copied to the system clipboard (e.g., from Excel or a webpage)."
   ]
  },
  {
   "cell_type": "markdown",
   "id": "1beb69da-c0f6-4445-9920-67be4323a4c5",
   "metadata": {},
   "source": [
    "- **Note**: Copy data to clipboard before running."
   ]
  },
  {
   "cell_type": "markdown",
   "id": "4b616d46-c508-4a7d-beef-b74b5ca87eb5",
   "metadata": {},
   "source": [
    "#### 18. Google Sheets (via URL & gspread or API)\n",
    "- **Description**: Reads data from Google Sheets using <span style=\"color:orange\">gspread</span> or direct URL (if publicly accessible).\n",
    "- **Dependencies**: <span style=\"color:orange\">gspread</span>, <span style=\"color:orange\">google-auth</span>."
   ]
  },
  {
   "cell_type": "code",
   "execution_count": null,
   "id": "e63834c0-95bc-48c8-9591-c769979a151c",
   "metadata": {},
   "outputs": [],
   "source": []
  },
  {
   "cell_type": "markdown",
   "id": "a9644569-eebe-4aa5-9602-80d1ff245521",
   "metadata": {},
   "source": [
    "#### Common Parameters Across Methods\n",
    "- **Encoding**: Use <span style=\"color:orange\">encoding='utf-8'</span> (or others like <span style=\"color:orange\">latin1</span>) for files with special characters.\n",
    "- **Chunksize**: For large files, use <span style=\"color:orange\">chunksize</span> to read in chunks (returns an iterator)."
   ]
  },
  {
   "cell_type": "code",
   "execution_count": null,
   "id": "55aa9070-8dea-4b9d-bbd5-4f8deb0a63f6",
   "metadata": {},
   "outputs": [],
   "source": [
    "'''\n",
    "for chunk in pd.read_csv('large_data.csv', chunksize=1000):\n",
    "    print(chunk.shape)\n",
    "'''"
   ]
  },
  {
   "cell_type": "markdown",
   "id": "b003a3f1-1798-4bc7-8307-fb78f62d263f",
   "metadata": {},
   "source": [
    "- **Error Handling**: Use <span style=\"color:orange\">error_bad_lines=False</span> (or <span style=\"color:orange\">on_bad_lines='skip'</span> in newer versions) to skip malformed rows.\n",
    "- **Memory Optimization**: Specify <span style=\"color:orange\">dtype</span> to reduce memory usage (e.g., <span style=\"color:orange\">dtype={'column': 'int32'}</span>)."
   ]
  },
  {
   "cell_type": "markdown",
   "id": "e85959d7-ad3f-4d70-92cf-4791ec9e3ff2",
   "metadata": {},
   "source": [
    "#### Notes and Best Practices\n",
    "- **File Paths**: Use raw strings (<span style=\"color:orange\">r'path\\to\\file'</span>) or forward slashes for cross-platform compatibility.\n",
    "- **Large Datasets**: Use <span style=\"color:orange\">chunksize</span> or libraries like <span style=\"color:orange\">dask</span> for big data.\n",
    "- **Dependencies**: Ensure required libraries are installed for specific formats.\n",
    "- **Error Debugging**: Check file format, encoding, or schema mismatches if errors occur.\n",
    "- **Performance**: For high-performance I/O, prefer Parquet or Feather over CSV/Excel for large datasets."
   ]
  },
  {
   "cell_type": "code",
   "execution_count": null,
   "id": "92d33d90-33cf-4f12-b257-0d97fb34f68a",
   "metadata": {},
   "outputs": [],
   "source": []
  }
 ],
 "metadata": {
  "kernelspec": {
   "display_name": "Python [conda env:base] *",
   "language": "python",
   "name": "conda-base-py"
  },
  "language_info": {
   "codemirror_mode": {
    "name": "ipython",
    "version": 3
   },
   "file_extension": ".py",
   "mimetype": "text/x-python",
   "name": "python",
   "nbconvert_exporter": "python",
   "pygments_lexer": "ipython3",
   "version": "3.12.7"
  }
 },
 "nbformat": 4,
 "nbformat_minor": 5
}
