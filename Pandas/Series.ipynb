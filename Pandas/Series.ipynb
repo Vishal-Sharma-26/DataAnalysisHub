{
 "cells": [
  {
   "cell_type": "markdown",
   "id": "159b23dc-1723-4c7a-a033-1eb6fe92241e",
   "metadata": {},
   "source": [
    "A Pandas Series is a one-dimensional, labeled data structure in the pandas library for Python, designed to handle and manipulate data efficiently. It can be thought of as a single column of data with an associated index, similar to a list or array but with powerful labeling and alignment features. Below, I'll provide a detailed explanation of Pandas Series in the context of coding, including its creation, operations, and key features, with concise code examples to illustrate each concept.\n",
    "\n",
    "**Pandas Series**\n",
    "- A Series is a one-dimensional array-like object that can hold data of any type (integers, floats, strings, objects, etc.).\n",
    "- It consists of two main components:\n",
    "   - **Data**: The actual values stored in the Series.\n",
    "   - **Index**: Labels associated with each data point, enabling fast lookups and alignment.\n",
    "- It is built on top of NumPy arrays, inheriting their efficiency but adding labeled indexing for flexibility.\n",
    "\n",
    "**Creating a Pandas Series**\n",
    "\n",
    "You can create a Series using various methods in pandas."
   ]
  },
  {
   "cell_type": "markdown",
   "id": "0858a8a1-d577-4eec-b812-725b36147eee",
   "metadata": {},
   "source": [
    "**1.From a List:**"
   ]
  },
  {
   "cell_type": "code",
   "execution_count": null,
   "id": "3cf8ba2c-960a-4e81-bae3-d1a2fcc38ff7",
   "metadata": {},
   "outputs": [],
   "source": [
    "import pandas as pd\n",
    "data = [10, 20, 30]\n",
    "s = pd.Series(data, index=['a', 'b', 'c'])\n",
    "print(s)"
   ]
  },
  {
   "cell_type": "markdown",
   "id": "0cb6631a-3a28-44d1-b9f7-e2d7aa99dbbb",
   "metadata": {},
   "source": [
    "- The index parameter assigns labels. If omitted, pandas assigns a default integer index (0, 1, 2, ...)."
   ]
  },
  {
   "cell_type": "markdown",
   "id": "2029b0e0-f53b-4b56-a89b-f46114803870",
   "metadata": {},
   "source": [
    "**2. From a Dictionary:**"
   ]
  },
  {
   "cell_type": "code",
   "execution_count": null,
   "id": "4982a290-1656-4b54-a624-e2b028869069",
   "metadata": {},
   "outputs": [],
   "source": [
    "data = {'x': 100, 'y': 200, 'z': 300}\n",
    "s = pd.Series(data)\n",
    "print(s)"
   ]
  },
  {
   "cell_type": "markdown",
   "id": "b4ffd0af-a17a-45a1-bd3b-606ea5babd50",
   "metadata": {},
   "source": [
    "- Keys become the index, and values become the data."
   ]
  },
  {
   "cell_type": "markdown",
   "id": "12693ea1-9e6d-4e31-8ee3-8548ff47e550",
   "metadata": {},
   "source": [
    "**3. From a Scalar Value:**"
   ]
  },
  {
   "cell_type": "code",
   "execution_count": null,
   "id": "a4233daf-88f2-4c77-b7df-b63e5cd0177d",
   "metadata": {},
   "outputs": [],
   "source": [
    "s = pd.Series(5, index=['a', 'b', 'c'])\n",
    "print(s)"
   ]
  },
  {
   "cell_type": "markdown",
   "id": "d51a8bbe-9651-404f-b48a-66f16f864d3d",
   "metadata": {},
   "source": [
    "- A single value is broadcast to all indices."
   ]
  },
  {
   "cell_type": "markdown",
   "id": "bd2670e1-306d-43be-b418-c83173ce8794",
   "metadata": {},
   "source": [
    "**4. From a NumPy Array:**"
   ]
  },
  {
   "cell_type": "code",
   "execution_count": null,
   "id": "9db4b2d1-49d0-4c07-82f8-0f35edab2732",
   "metadata": {},
   "outputs": [],
   "source": [
    "import numpy as np\n",
    "data = np.array([1.5, 2.5, 3.5])\n",
    "s = pd.Series(data, index=['p', 'q', 'r'])\n",
    "print(s)"
   ]
  },
  {
   "cell_type": "markdown",
   "id": "ab07ece9-830a-4579-b470-580d2cbf7df5",
   "metadata": {},
   "source": [
    "#### Key Attributes of a Series\n",
    "You can access metadata about a Series using its attributes:\n",
    "\n",
    "- **.values**: Returns the underlying data as a NumPy array."
   ]
  },
  {
   "cell_type": "code",
   "execution_count": null,
   "id": "03fadddc-9da0-43a5-9021-3c19a04e9c49",
   "metadata": {},
   "outputs": [],
   "source": [
    "s = pd.Series([1, 2, 3])\n",
    "print(s.values)"
   ]
  },
  {
   "cell_type": "markdown",
   "id": "b7330e38-9bb3-425f-bb4f-70bca8d927a0",
   "metadata": {},
   "source": [
    "- **.index**: Returns the index labels."
   ]
  },
  {
   "cell_type": "code",
   "execution_count": null,
   "id": "695b6727-be99-455a-995d-2e918af5221c",
   "metadata": {},
   "outputs": [],
   "source": [
    "s = pd.Series([1, 2, 3], index=['a', 'b', 'c'])\n",
    "print(s.index)"
   ]
  },
  {
   "cell_type": "markdown",
   "id": "5659eb09-be27-4279-a757-c54a775f8183",
   "metadata": {},
   "source": [
    "- **.dtype**: Returns the data type of the Series."
   ]
  },
  {
   "cell_type": "code",
   "execution_count": null,
   "id": "b98f1b3a-c05a-43e6-bc00-1ac6cfca3b11",
   "metadata": {},
   "outputs": [],
   "source": [
    "print(s.dtype)"
   ]
  },
  {
   "cell_type": "markdown",
   "id": "21a047ac-1808-428f-a81e-d74479dc60ef",
   "metadata": {},
   "source": [
    "- **.name**: Assigns or retrieves a name for the Series."
   ]
  },
  {
   "cell_type": "code",
   "execution_count": null,
   "id": "2c6e58c8-52f5-49ad-b628-691d0a181cb9",
   "metadata": {},
   "outputs": [],
   "source": [
    "s.name = 'MySeries'\n",
    "print(s.name)"
   ]
  },
  {
   "cell_type": "markdown",
   "id": "c76a07ac-bbf9-4871-a8a9-676b447dc538",
   "metadata": {},
   "source": [
    "#### Indexing and Selection\n",
    "Series support multiple ways to access data:\n",
    "\n",
    "**1. By Index Label (using .loc or direct indexing):**"
   ]
  },
  {
   "cell_type": "code",
   "execution_count": null,
   "id": "8323da87-3340-4d3a-b4e0-67ce0bb82950",
   "metadata": {},
   "outputs": [],
   "source": [
    "s = pd.Series([10, 20, 30], index=['a', 'b', 'c'])\n",
    "print(s['a']) \n",
    "print(s.loc['b'])"
   ]
  },
  {
   "cell_type": "markdown",
   "id": "5c3fcb76-0d65-47ab-aabe-45ff8287e844",
   "metadata": {},
   "source": [
    "**2. By Integer Position (using .iloc):**"
   ]
  },
  {
   "cell_type": "code",
   "execution_count": null,
   "id": "0e6567aa-ba91-4f07-ac0e-78e8cf76a912",
   "metadata": {},
   "outputs": [],
   "source": [
    "print(s.iloc[0])"
   ]
  },
  {
   "cell_type": "markdown",
   "id": "daca4232-c769-4a08-b961-3d733c0899eb",
   "metadata": {},
   "source": [
    "**3. Slicing:**"
   ]
  },
  {
   "cell_type": "code",
   "execution_count": null,
   "id": "79268008-32fb-441b-bc68-21c1a0fa2ac4",
   "metadata": {},
   "outputs": [],
   "source": [
    "print(s['a':'c'])"
   ]
  },
  {
   "cell_type": "markdown",
   "id": "aa8e4d6e-8553-4dc4-a865-e67e6119cd37",
   "metadata": {},
   "source": [
    "- Label-based slicing includes the endpoint, unlike integer-based slicing."
   ]
  },
  {
   "cell_type": "markdown",
   "id": "f50e2407-87bd-4502-bae5-caf281a73053",
   "metadata": {},
   "source": [
    "**4. Boolean Indexing:**"
   ]
  },
  {
   "cell_type": "code",
   "execution_count": null,
   "id": "93d78dde-c00e-4d52-bfa5-e58166611191",
   "metadata": {},
   "outputs": [],
   "source": [
    "print(s[s > 15])"
   ]
  },
  {
   "cell_type": "markdown",
   "id": "09bddcf7-a7f2-434b-b042-bf1289f4d9f3",
   "metadata": {},
   "source": [
    "#### Operations on Series\n",
    "Series support vectorized operations and automatic index alignment.\n",
    "\n",
    "**1. Arithmetic Operations:**"
   ]
  },
  {
   "cell_type": "code",
   "execution_count": null,
   "id": "fbac6f82-e5fb-4eec-b3fe-caf7a649ae4e",
   "metadata": {},
   "outputs": [],
   "source": [
    "s = pd.Series([1, 2, 3], index=['a', 'b', 'c'])\n",
    "print(s + 10)"
   ]
  },
  {
   "cell_type": "markdown",
   "id": "97d56963-4a25-4e37-9fd0-a6dd97c7edf4",
   "metadata": {},
   "source": [
    "**2. Operations Between Series:**\n",
    "\n",
    "    - Indices align automatically, and non-matching indices result in NaN."
   ]
  },
  {
   "cell_type": "code",
   "execution_count": null,
   "id": "58aafa8a-09f6-4785-81ff-49ebc8a3e25f",
   "metadata": {},
   "outputs": [],
   "source": [
    "s1 = pd.Series([1, 2], index=['a', 'b'])\n",
    "s2 = pd.Series([3, 4], index=['b', 'c'])\n",
    "print(s1 + s2)"
   ]
  },
  {
   "cell_type": "markdown",
   "id": "22ddb141-4018-4c28-8721-3d1754fd0204",
   "metadata": {},
   "source": [
    "**3. Element-wise Functions:**"
   ]
  },
  {
   "cell_type": "code",
   "execution_count": null,
   "id": "b3ccdac1-b36f-4b60-ae69-fd9146f1a8c8",
   "metadata": {},
   "outputs": [],
   "source": [
    "print(s.apply(lambda x: x * 2))"
   ]
  },
  {
   "cell_type": "markdown",
   "id": "d5182b7a-eae7-4692-b1fe-dfcfc7c79b18",
   "metadata": {},
   "source": [
    "**4. Statistical Operations:**"
   ]
  },
  {
   "cell_type": "code",
   "execution_count": null,
   "id": "7bda0d59-57ea-47d1-bc6a-8fad11ba356a",
   "metadata": {},
   "outputs": [],
   "source": [
    "s = pd.Series([1, 2, 3, 4])\n",
    "print(s.mean()) \n",
    "print(s.sum())   \n",
    "print(s.std())"
   ]
  },
  {
   "cell_type": "markdown",
   "id": "6a8fd577-0248-4e35-962b-1719d35afd38",
   "metadata": {},
   "source": [
    "#### Handling Missing Data\n",
    "Pandas uses NaN for missing numeric data and None for object types. Key methods include:\n",
    "\n",
    " - **Detecting Missing Data:**"
   ]
  },
  {
   "cell_type": "code",
   "execution_count": null,
   "id": "6dcb0fe0-ec5b-463a-b5e8-f4e65dbf81bd",
   "metadata": {},
   "outputs": [],
   "source": [
    "s = pd.Series([1, None, 3], index=['a', 'b', 'c'])\n",
    "print(s.isna())"
   ]
  },
  {
   "cell_type": "markdown",
   "id": "4098dae6-4da5-4573-aaca-a68ae8200e98",
   "metadata": {},
   "source": [
    "- **Filling Missing Data:**"
   ]
  },
  {
   "cell_type": "code",
   "execution_count": null,
   "id": "94f93081-8d27-48cb-920d-88658237e2c3",
   "metadata": {},
   "outputs": [],
   "source": [
    "print(s.fillna(0))"
   ]
  },
  {
   "cell_type": "markdown",
   "id": "6b011832-3958-4a83-95aa-749883e6bc09",
   "metadata": {},
   "source": [
    "- **Dropping Missing Data**:"
   ]
  },
  {
   "cell_type": "code",
   "execution_count": null,
   "id": "161cdb1c-af9b-4b06-b9aa-9550a5f6abd3",
   "metadata": {},
   "outputs": [],
   "source": [
    "print(s.dropna())"
   ]
  },
  {
   "cell_type": "markdown",
   "id": "2c8474a5-9c75-407e-8b9a-6a1091a86663",
   "metadata": {},
   "source": [
    "#### Modifying a Series\n",
    " - **Adding Elements:**"
   ]
  },
  {
   "cell_type": "code",
   "execution_count": null,
   "id": "7d731c49-e849-4283-992f-b8167778700d",
   "metadata": {},
   "outputs": [],
   "source": [
    "s = pd.Series([1, 2], index=['a', 'b'])\n",
    "s['c'] = 3\n",
    "print(s)"
   ]
  },
  {
   "cell_type": "markdown",
   "id": "de9e9876-89b8-4aba-bfd1-3a885ec3edd0",
   "metadata": {},
   "source": [
    " - **Changing Index:**"
   ]
  },
  {
   "cell_type": "code",
   "execution_count": null,
   "id": "c89df369-60ee-457c-abeb-36940ed1ab32",
   "metadata": {},
   "outputs": [],
   "source": [
    "s.index = ['x', 'y', 'z']\n",
    "print(s)"
   ]
  },
  {
   "cell_type": "markdown",
   "id": "0de8d79b-d739-4ba2-b3e4-9d9491d926aa",
   "metadata": {},
   "source": [
    " - **Renaming:**"
   ]
  },
  {
   "cell_type": "code",
   "execution_count": null,
   "id": "069bbe19-0833-45a1-8361-7ad9034b660a",
   "metadata": {},
   "outputs": [],
   "source": [
    "s.rename('NewSeries', inplace=True)\n",
    "print(s.name)"
   ]
  },
  {
   "cell_type": "markdown",
   "id": "34bd4694-c596-4b43-b7e1-7eef11395d27",
   "metadata": {},
   "source": [
    "#### Advanced Features\n",
    "**1. Categorical Data:**\n",
    " - Use dtype='category' for memory-efficient storage of repetitive data."
   ]
  },
  {
   "cell_type": "code",
   "execution_count": null,
   "id": "ca000141-6a34-4da5-a285-47fee478e40d",
   "metadata": {},
   "outputs": [],
   "source": [
    "s = pd.Series(['low', 'high', 'low'], dtype='category')\n",
    "print(s)"
   ]
  },
  {
   "cell_type": "markdown",
   "id": "1f5d7e48-9d80-4c64-a457-f7d597a6eb0e",
   "metadata": {},
   "source": [
    "**2. Time-Series Support:**\n",
    " - Use DatetimeIndex for time-based data. "
   ]
  },
  {
   "cell_type": "code",
   "execution_count": null,
   "id": "4af5ebaf-4a6c-4b6d-9b57-4ee946ee07d6",
   "metadata": {},
   "outputs": [],
   "source": [
    "dates = pd.date_range('2023-01-01', periods=3)\n",
    "s = pd.Series([10, 20, 30], index=dates)\n",
    "print(s)"
   ]
  },
  {
   "cell_type": "markdown",
   "id": "ca2ea415-1442-4be2-9c6e-571d2c495ded",
   "metadata": {},
   "source": [
    "**3. Sorting:**\n",
    " - Sort by values or index."
   ]
  },
  {
   "cell_type": "code",
   "execution_count": null,
   "id": "a1ea5972-fab0-4827-bc16-b49427f3b182",
   "metadata": {},
   "outputs": [],
   "source": [
    "s = pd.Series([3, 1, 2], index=['b', 'a', 'c'])\n",
    "print(s.sort_values())\n",
    "\n",
    "print(s.sort_index())"
   ]
  },
  {
   "cell_type": "markdown",
   "id": "dfa2e42b-685b-40fc-b88b-1b3bb9a20929",
   "metadata": {},
   "source": [
    "#### Integration with DataFrame\n",
    " - A Series is often a column or row in a DataFrame."
   ]
  },
  {
   "cell_type": "code",
   "execution_count": null,
   "id": "1ac906c4-d78f-4bd1-8b1a-30245a0306d3",
   "metadata": {},
   "outputs": [],
   "source": [
    "df = pd.DataFrame({'A': [1, 2, 3], 'B': [4, 5, 6]})\n",
    "s = df['A']  # Extract column as Series\n",
    "print(s)"
   ]
  },
  {
   "cell_type": "markdown",
   "id": "3cceb286-cd13-4fe8-bc8d-7f77b0ae7c6f",
   "metadata": {},
   "source": [
    "#### Performance Considerations\n",
    "- **Efficiency**: Series leverage NumPy for fast vectorized operations but can be slower than raw NumPy arrays for purely numerical tasks due to indexing overhead.\n",
    "- **Memory**: Use dtype optimization (e.g., int32 instead of int64) or categorical types for large datasets.\n",
    "- **Avoid Loops**: Use vectorized operations or apply() instead of iterating over elements.\n",
    "#### Common Use Cases in Coding\n",
    "- **Data Cleaning**: Handling missing values, filtering outliers.\n",
    "- **Exploratory Data Analysis**: Computing statistics, summarizing data.\n",
    "- **Time-Series Analysis**: Working with temporal data in finance or IoT.\n",
    "- **Feature Engineering**: Creating or transforming features for machine learning."
   ]
  }
 ],
 "metadata": {
  "kernelspec": {
   "display_name": "Python [conda env:base] *",
   "language": "python",
   "name": "conda-base-py"
  },
  "language_info": {
   "codemirror_mode": {
    "name": "ipython",
    "version": 3
   },
   "file_extension": ".py",
   "mimetype": "text/x-python",
   "name": "python",
   "nbconvert_exporter": "python",
   "pygments_lexer": "ipython3",
   "version": "3.12.7"
  }
 },
 "nbformat": 4,
 "nbformat_minor": 5
}
