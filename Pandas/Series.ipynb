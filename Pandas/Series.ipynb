{
 "cells": [
  {
   "cell_type": "markdown",
   "id": "159b23dc-1723-4c7a-a033-1eb6fe92241e",
   "metadata": {},
   "source": [
    "A Pandas Series is a one-dimensional, labeled data structure in the pandas library for Python, designed to handle and manipulate data efficiently. It can be thought of as a single column of data with an associated index, similar to a list or array but with powerful labeling and alignment features. Below, I'll provide a detailed explanation of Pandas Series in the context of coding, including its creation, operations, and key features, with concise code examples to illustrate each concept.\n",
    "\n",
    "**Pandas Series**\n",
    "- A Series is a one-dimensional array-like object that can hold data of any type (integers, floats, strings, objects, etc.).\n",
    "- It consists of two main components:\n",
    "   - **Data**: The actual values stored in the Series.\n",
    "   - **Index**: Labels associated with each data point, enabling fast lookups and alignment.\n",
    "- It is built on top of NumPy arrays, inheriting their efficiency but adding labeled indexing for flexibility.\n",
    "\n",
    "**Creating a Pandas Series**\n",
    "\n",
    "You can create a Series using various methods in pandas."
   ]
  },
  {
   "cell_type": "markdown",
   "id": "0858a8a1-d577-4eec-b812-725b36147eee",
   "metadata": {},
   "source": [
    "**1.From a List:**"
   ]
  },
  {
   "cell_type": "code",
   "execution_count": 6,
   "id": "c38de768-b78a-4f39-9906-7aa4b6dffa1c",
   "metadata": {},
   "outputs": [
    {
     "name": "stdout",
     "output_type": "stream",
     "text": [
      "a    10\n",
      "b    20\n",
      "c    30\n",
      "dtype: int64\n"
     ]
    }
   ],
   "source": [
    "import pandas as pd\n",
    "data = [10, 20, 30]\n",
    "s = pd.Series(data, index=['a', 'b', 'c'])\n",
    "print(s)"
   ]
  },
  {
   "cell_type": "markdown",
   "id": "0cb6631a-3a28-44d1-b9f7-e2d7aa99dbbb",
   "metadata": {},
   "source": [
    "- The index parameter assigns labels. If omitted, pandas assigns a default integer index (0, 1, 2, ...)."
   ]
  },
  {
   "cell_type": "markdown",
   "id": "2029b0e0-f53b-4b56-a89b-f46114803870",
   "metadata": {},
   "source": [
    "**2. From a Dictionary:**"
   ]
  },
  {
   "cell_type": "code",
   "execution_count": 11,
   "id": "59df8dea-4a68-4f1c-8b05-b9249c1a03dd",
   "metadata": {},
   "outputs": [
    {
     "name": "stdout",
     "output_type": "stream",
     "text": [
      "x    100\n",
      "y    200\n",
      "z    300\n",
      "dtype: int64\n"
     ]
    }
   ],
   "source": [
    "data = {'x': 100, 'y': 200, 'z': 300}\n",
    "s = pd.Series(data)\n",
    "print(s)"
   ]
  },
  {
   "cell_type": "markdown",
   "id": "b4ffd0af-a17a-45a1-bd3b-606ea5babd50",
   "metadata": {},
   "source": [
    "- Keys become the index, and values become the data."
   ]
  },
  {
   "cell_type": "markdown",
   "id": "12693ea1-9e6d-4e31-8ee3-8548ff47e550",
   "metadata": {},
   "source": [
    "**3. From a Scalar Value:**"
   ]
  },
  {
   "cell_type": "code",
   "execution_count": 15,
   "id": "24c574e9-0276-429b-9136-11e3f82b69a8",
   "metadata": {},
   "outputs": [
    {
     "name": "stdout",
     "output_type": "stream",
     "text": [
      "a    5\n",
      "b    5\n",
      "c    5\n",
      "dtype: int64\n"
     ]
    }
   ],
   "source": [
    "s = pd.Series(5, index=['a', 'b', 'c'])\n",
    "print(s)"
   ]
  },
  {
   "cell_type": "markdown",
   "id": "d51a8bbe-9651-404f-b48a-66f16f864d3d",
   "metadata": {},
   "source": [
    "- A single value is broadcast to all indices."
   ]
  },
  {
   "cell_type": "markdown",
   "id": "bd2670e1-306d-43be-b418-c83173ce8794",
   "metadata": {},
   "source": [
    "**4. From a NumPy Array:**"
   ]
  },
  {
   "cell_type": "code",
   "execution_count": 21,
   "id": "2d6dd42c-60b6-4c30-8988-9d85e96da5b1",
   "metadata": {},
   "outputs": [
    {
     "name": "stdout",
     "output_type": "stream",
     "text": [
      "p    1.5\n",
      "q    2.5\n",
      "r    3.5\n",
      "dtype: float64\n"
     ]
    }
   ],
   "source": [
    "import numpy as np\n",
    "data = np.array([1.5, 2.5, 3.5])\n",
    "s = pd.Series(data, index=['p', 'q', 'r'])\n",
    "print(s)"
   ]
  },
  {
   "cell_type": "markdown",
   "id": "ab07ece9-830a-4579-b470-580d2cbf7df5",
   "metadata": {},
   "source": [
    "#### Key Attributes of a Series\n",
    "You can access metadata about a Series using its attributes:\n",
    "\n",
    "- **.values**: Returns the underlying data as a NumPy array."
   ]
  },
  {
   "cell_type": "code",
   "execution_count": 27,
   "id": "b6feec53-19a6-4f9a-a438-42c5742c6548",
   "metadata": {},
   "outputs": [
    {
     "name": "stdout",
     "output_type": "stream",
     "text": [
      "[1 2 3]\n"
     ]
    }
   ],
   "source": [
    "s = pd.Series([1, 2, 3])\n",
    "print(s.values)"
   ]
  },
  {
   "cell_type": "markdown",
   "id": "b7330e38-9bb3-425f-bb4f-70bca8d927a0",
   "metadata": {},
   "source": [
    "- **.index**: Returns the index labels."
   ]
  },
  {
   "cell_type": "code",
   "execution_count": 32,
   "id": "9413cb66-728c-4e93-aeb6-2eb236f1d62d",
   "metadata": {},
   "outputs": [
    {
     "name": "stdout",
     "output_type": "stream",
     "text": [
      "Index(['a', 'b', 'c'], dtype='object')\n"
     ]
    }
   ],
   "source": [
    "s = pd.Series([1, 2, 3], index=['a', 'b', 'c'])\n",
    "print(s.index)"
   ]
  },
  {
   "cell_type": "markdown",
   "id": "5659eb09-be27-4279-a757-c54a775f8183",
   "metadata": {},
   "source": [
    "- **.dtype**: Returns the data type of the Series."
   ]
  },
  {
   "cell_type": "code",
   "execution_count": 35,
   "id": "d60f597d-f3ee-4f70-8e20-d7a12a487725",
   "metadata": {},
   "outputs": [
    {
     "name": "stdout",
     "output_type": "stream",
     "text": [
      "int64\n"
     ]
    }
   ],
   "source": [
    "print(s.dtype)"
   ]
  },
  {
   "cell_type": "markdown",
   "id": "21a047ac-1808-428f-a81e-d74479dc60ef",
   "metadata": {},
   "source": [
    "- **.name**: Assigns or retrieves a name for the Series."
   ]
  },
  {
   "cell_type": "code",
   "execution_count": 38,
   "id": "976fe8cd-7492-4e4a-ba3b-fe0425252a2a",
   "metadata": {},
   "outputs": [
    {
     "name": "stdout",
     "output_type": "stream",
     "text": [
      "MySeries\n"
     ]
    }
   ],
   "source": [
    "s.name = 'MySeries'\n",
    "print(s.name)"
   ]
  },
  {
   "cell_type": "markdown",
   "id": "c76a07ac-bbf9-4871-a8a9-676b447dc538",
   "metadata": {},
   "source": [
    "#### Indexing and Selection\n",
    "Series support multiple ways to access data:\n",
    "\n",
    "**1. By Index Label (using .loc or direct indexing):**"
   ]
  },
  {
   "cell_type": "code",
   "execution_count": 41,
   "id": "1b82df9c-e32b-498b-84e8-ce2dc38a981d",
   "metadata": {},
   "outputs": [
    {
     "name": "stdout",
     "output_type": "stream",
     "text": [
      "10\n",
      "20\n"
     ]
    }
   ],
   "source": [
    "s = pd.Series([10, 20, 30], index=['a', 'b', 'c'])\n",
    "print(s['a']) \n",
    "print(s.loc['b'])"
   ]
  },
  {
   "cell_type": "markdown",
   "id": "5c3fcb76-0d65-47ab-aabe-45ff8287e844",
   "metadata": {},
   "source": [
    "**2. By Integer Position (using .iloc):**"
   ]
  },
  {
   "cell_type": "code",
   "execution_count": 44,
   "id": "b5ba0107-70b5-4d30-89a3-1b93f39588bd",
   "metadata": {},
   "outputs": [
    {
     "name": "stdout",
     "output_type": "stream",
     "text": [
      "10\n"
     ]
    }
   ],
   "source": [
    "print(s.iloc[0])"
   ]
  },
  {
   "cell_type": "markdown",
   "id": "daca4232-c769-4a08-b961-3d733c0899eb",
   "metadata": {},
   "source": [
    "**3. Slicing:**"
   ]
  },
  {
   "cell_type": "code",
   "execution_count": 47,
   "id": "bbd36940-ab74-4646-abaf-b12e2eeab99d",
   "metadata": {},
   "outputs": [
    {
     "name": "stdout",
     "output_type": "stream",
     "text": [
      "a    10\n",
      "b    20\n",
      "c    30\n",
      "dtype: int64\n"
     ]
    }
   ],
   "source": [
    "print(s['a':'c'])"
   ]
  },
  {
   "cell_type": "markdown",
   "id": "aa8e4d6e-8553-4dc4-a865-e67e6119cd37",
   "metadata": {},
   "source": [
    "- Label-based slicing includes the endpoint, unlike integer-based slicing."
   ]
  },
  {
   "cell_type": "markdown",
   "id": "f50e2407-87bd-4502-bae5-caf281a73053",
   "metadata": {},
   "source": [
    "**4. Boolean Indexing:**"
   ]
  },
  {
   "cell_type": "code",
   "execution_count": 51,
   "id": "81719e06-a0bf-4688-8b1d-87f486edd3dd",
   "metadata": {},
   "outputs": [
    {
     "name": "stdout",
     "output_type": "stream",
     "text": [
      "b    20\n",
      "c    30\n",
      "dtype: int64\n"
     ]
    }
   ],
   "source": [
    "print(s[s > 15])"
   ]
  },
  {
   "cell_type": "markdown",
   "id": "09bddcf7-a7f2-434b-b042-bf1289f4d9f3",
   "metadata": {},
   "source": [
    "#### Operations on Series\n",
    "Series support vectorized operations and automatic index alignment.\n",
    "\n",
    "**1. Arithmetic Operations:**"
   ]
  },
  {
   "cell_type": "code",
   "execution_count": 54,
   "id": "478cc6e2-5a9b-4f46-8cfd-abace34271b4",
   "metadata": {},
   "outputs": [
    {
     "name": "stdout",
     "output_type": "stream",
     "text": [
      "a    11\n",
      "b    12\n",
      "c    13\n",
      "dtype: int64\n"
     ]
    }
   ],
   "source": [
    "s = pd.Series([1, 2, 3], index=['a', 'b', 'c'])\n",
    "print(s + 10)"
   ]
  },
  {
   "cell_type": "markdown",
   "id": "97d56963-4a25-4e37-9fd0-a6dd97c7edf4",
   "metadata": {},
   "source": [
    "**2. Operations Between Series:**\n",
    "\n",
    "    - Indices align automatically, and non-matching indices result in NaN."
   ]
  },
  {
   "cell_type": "code",
   "execution_count": 58,
   "id": "1ddbe4af-7e08-41ae-ae44-9c7d1b5f42ba",
   "metadata": {},
   "outputs": [
    {
     "name": "stdout",
     "output_type": "stream",
     "text": [
      "a    NaN\n",
      "b    5.0\n",
      "c    NaN\n",
      "dtype: float64\n"
     ]
    }
   ],
   "source": [
    "s1 = pd.Series([1, 2], index=['a', 'b'])\n",
    "s2 = pd.Series([3, 4], index=['b', 'c'])\n",
    "print(s1 + s2)"
   ]
  },
  {
   "cell_type": "markdown",
   "id": "22ddb141-4018-4c28-8721-3d1754fd0204",
   "metadata": {},
   "source": [
    "**3. Element-wise Functions:**"
   ]
  },
  {
   "cell_type": "code",
   "execution_count": 61,
   "id": "290975e8-759a-448c-bbe4-16e4863e33f9",
   "metadata": {},
   "outputs": [
    {
     "name": "stdout",
     "output_type": "stream",
     "text": [
      "a    2\n",
      "b    4\n",
      "c    6\n",
      "dtype: int64\n"
     ]
    }
   ],
   "source": [
    "print(s.apply(lambda x: x * 2))"
   ]
  },
  {
   "cell_type": "markdown",
   "id": "d5182b7a-eae7-4692-b1fe-dfcfc7c79b18",
   "metadata": {},
   "source": [
    "**4. Statistical Operations:**"
   ]
  },
  {
   "cell_type": "code",
   "execution_count": 64,
   "id": "70ac28ae-e8de-4990-acaa-fc1dec1e10b1",
   "metadata": {},
   "outputs": [
    {
     "name": "stdout",
     "output_type": "stream",
     "text": [
      "2.5\n",
      "10\n",
      "1.2909944487358056\n"
     ]
    }
   ],
   "source": [
    "s = pd.Series([1, 2, 3, 4])\n",
    "print(s.mean()) \n",
    "print(s.sum())   \n",
    "print(s.std())"
   ]
  },
  {
   "cell_type": "markdown",
   "id": "6a8fd577-0248-4e35-962b-1719d35afd38",
   "metadata": {},
   "source": [
    "#### Handling Missing Data\n",
    "Pandas uses NaN for missing numeric data and None for object types. Key methods include:\n",
    "\n",
    " - **Detecting Missing Data:**"
   ]
  },
  {
   "cell_type": "code",
   "execution_count": 68,
   "id": "d3dd8697-24ed-4b23-a00d-02d8101f1ccf",
   "metadata": {},
   "outputs": [
    {
     "name": "stdout",
     "output_type": "stream",
     "text": [
      "a    False\n",
      "b     True\n",
      "c    False\n",
      "dtype: bool\n"
     ]
    }
   ],
   "source": [
    "s = pd.Series([1, None, 3], index=['a', 'b', 'c'])\n",
    "print(s.isna())"
   ]
  },
  {
   "cell_type": "markdown",
   "id": "4098dae6-4da5-4573-aaca-a68ae8200e98",
   "metadata": {},
   "source": [
    "- **Filling Missing Data:**"
   ]
  },
  {
   "cell_type": "code",
   "execution_count": 70,
   "id": "512320cc-030a-4414-aeed-58b1eb887e43",
   "metadata": {},
   "outputs": [
    {
     "name": "stdout",
     "output_type": "stream",
     "text": [
      "a    1.0\n",
      "b    0.0\n",
      "c    3.0\n",
      "dtype: float64\n"
     ]
    }
   ],
   "source": [
    "print(s.fillna(0))"
   ]
  },
  {
   "cell_type": "markdown",
   "id": "23ae8dd9-71c2-41ec-b2aa-5b0362f106bb",
   "metadata": {},
   "source": [
    " - **Dropping Missing Data:**"
   ]
  },
  {
   "cell_type": "code",
   "execution_count": 73,
   "id": "3f0212b2-cf1c-4821-8d46-772bcc866caa",
   "metadata": {},
   "outputs": [
    {
     "name": "stdout",
     "output_type": "stream",
     "text": [
      "a    1.0\n",
      "c    3.0\n",
      "dtype: float64\n"
     ]
    }
   ],
   "source": [
    "print(s.dropna())"
   ]
  },
  {
   "cell_type": "markdown",
   "id": "2c8474a5-9c75-407e-8b9a-6a1091a86663",
   "metadata": {},
   "source": [
    "#### Modifying a Series\n",
    " - **Adding Elements:**"
   ]
  },
  {
   "cell_type": "code",
   "execution_count": 76,
   "id": "d3e2b1b9-07b1-4278-a662-6f255a63e8f0",
   "metadata": {},
   "outputs": [
    {
     "name": "stdout",
     "output_type": "stream",
     "text": [
      "a    1\n",
      "b    2\n",
      "c    3\n",
      "dtype: int64\n"
     ]
    }
   ],
   "source": [
    "s = pd.Series([1, 2], index=['a', 'b'])\n",
    "s['c'] = 3\n",
    "print(s)"
   ]
  },
  {
   "cell_type": "markdown",
   "id": "de9e9876-89b8-4aba-bfd1-3a885ec3edd0",
   "metadata": {},
   "source": [
    " - **Changing Index:**"
   ]
  },
  {
   "cell_type": "code",
   "execution_count": 79,
   "id": "47ff84d8-e561-4804-9711-26c55a42ccc9",
   "metadata": {},
   "outputs": [
    {
     "name": "stdout",
     "output_type": "stream",
     "text": [
      "x    1\n",
      "y    2\n",
      "z    3\n",
      "dtype: int64\n"
     ]
    }
   ],
   "source": [
    "s.index = ['x', 'y', 'z']\n",
    "print(s)"
   ]
  },
  {
   "cell_type": "markdown",
   "id": "0de8d79b-d739-4ba2-b3e4-9d9491d926aa",
   "metadata": {},
   "source": [
    " - **Renaming:**"
   ]
  },
  {
   "cell_type": "code",
   "execution_count": 82,
   "id": "880c4321-0564-45f7-a97e-c2e2245921bb",
   "metadata": {},
   "outputs": [
    {
     "name": "stdout",
     "output_type": "stream",
     "text": [
      "NewSeries\n"
     ]
    }
   ],
   "source": [
    "s.rename('NewSeries', inplace=True)\n",
    "print(s.name)"
   ]
  },
  {
   "cell_type": "markdown",
   "id": "34bd4694-c596-4b43-b7e1-7eef11395d27",
   "metadata": {},
   "source": [
    "#### Advanced Features\n",
    "**1. Categorical Data:**\n",
    " - Use dtype='category' for memory-efficient storage of repetitive data."
   ]
  },
  {
   "cell_type": "code",
   "execution_count": 102,
   "id": "ba202ab1-eeed-4d6f-b817-6a61c9fa77a1",
   "metadata": {},
   "outputs": [
    {
     "name": "stdout",
     "output_type": "stream",
     "text": [
      "0     low\n",
      "1    high\n",
      "2     low\n",
      "dtype: category\n",
      "Categories (2, object): ['high', 'low']\n"
     ]
    }
   ],
   "source": [
    "s = pd.Series(['low', 'high', 'low'], dtype='category')\n",
    "print(s)"
   ]
  },
  {
   "cell_type": "markdown",
   "id": "1f5d7e48-9d80-4c64-a457-f7d597a6eb0e",
   "metadata": {},
   "source": [
    "**2. Time-Series Support:**\n",
    " - Use DatetimeIndex for time-based data. "
   ]
  },
  {
   "cell_type": "code",
   "execution_count": 108,
   "id": "063651f0-a643-42db-a42f-e7bbc68e9622",
   "metadata": {},
   "outputs": [
    {
     "name": "stdout",
     "output_type": "stream",
     "text": [
      "2023-01-01    10\n",
      "2023-01-02    20\n",
      "2023-01-03    30\n",
      "Freq: D, dtype: int64\n"
     ]
    }
   ],
   "source": [
    "dates = pd.date_range('2023-01-01', periods=3)\n",
    "s = pd.Series([10, 20, 30], index=dates)\n",
    "print(s)"
   ]
  },
  {
   "cell_type": "markdown",
   "id": "ca2ea415-1442-4be2-9c6e-571d2c495ded",
   "metadata": {},
   "source": [
    "**3. Sorting:**\n",
    " - Sort by values or index."
   ]
  },
  {
   "cell_type": "code",
   "execution_count": 111,
   "id": "59275efc-79d6-43ff-b059-6325765052bb",
   "metadata": {},
   "outputs": [
    {
     "name": "stdout",
     "output_type": "stream",
     "text": [
      "a    1\n",
      "c    2\n",
      "b    3\n",
      "dtype: int64\n",
      "a    1\n",
      "b    3\n",
      "c    2\n",
      "dtype: int64\n"
     ]
    }
   ],
   "source": [
    "s = pd.Series([3, 1, 2], index=['b', 'a', 'c'])\n",
    "print(s.sort_values())\n",
    "\n",
    "print(s.sort_index())"
   ]
  },
  {
   "cell_type": "markdown",
   "id": "dfa2e42b-685b-40fc-b88b-1b3bb9a20929",
   "metadata": {},
   "source": [
    "#### Integration with DataFrame\n",
    " - A Series is often a column or row in a DataFrame."
   ]
  },
  {
   "cell_type": "code",
   "execution_count": 114,
   "id": "9885afdd-d159-430d-ba69-ac0028cdac0b",
   "metadata": {},
   "outputs": [
    {
     "name": "stdout",
     "output_type": "stream",
     "text": [
      "0    1\n",
      "1    2\n",
      "2    3\n",
      "Name: A, dtype: int64\n"
     ]
    }
   ],
   "source": [
    "df = pd.DataFrame({'A': [1, 2, 3], 'B': [4, 5, 6]})\n",
    "s = df['A']  # Extract column as Series\n",
    "print(s)"
   ]
  },
  {
   "cell_type": "markdown",
   "id": "3cceb286-cd13-4fe8-bc8d-7f77b0ae7c6f",
   "metadata": {},
   "source": [
    "#### Performance Considerations\n",
    "- **Efficiency**: Series leverage NumPy for fast vectorized operations but can be slower than raw NumPy arrays for purely numerical tasks due to indexing overhead.\n",
    "- **Memory**: Use dtype optimization (e.g., int32 instead of int64) or categorical types for large datasets.\n",
    "- **Avoid Loops**: Use vectorized operations or apply() instead of iterating over elements.\n",
    "#### Common Use Cases in Coding\n",
    "- **Data Cleaning**: Handling missing values, filtering outliers.\n",
    "- **Exploratory Data Analysis**: Computing statistics, summarizing data.\n",
    "- **Time-Series Analysis**: Working with temporal data in finance or IoT.\n",
    "- **Feature Engineering**: Creating or transforming features for machine learning."
   ]
  },
  {
   "cell_type": "code",
   "execution_count": null,
   "id": "025511e6-0944-4b22-94d3-803594b2a733",
   "metadata": {},
   "outputs": [],
   "source": []
  }
 ],
 "metadata": {
  "kernelspec": {
   "display_name": "Python [conda env:base] *",
   "language": "python",
   "name": "conda-base-py"
  },
  "language_info": {
   "codemirror_mode": {
    "name": "ipython",
    "version": 3
   },
   "file_extension": ".py",
   "mimetype": "text/x-python",
   "name": "python",
   "nbconvert_exporter": "python",
   "pygments_lexer": "ipython3",
   "version": "3.12.7"
  }
 },
 "nbformat": 4,
 "nbformat_minor": 5
}
