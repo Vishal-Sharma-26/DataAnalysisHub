{
 "cells": [
  {
   "cell_type": "markdown",
   "id": "6634e9a0-c56f-4a58-bc2f-2f8a396a3cfe",
   "metadata": {},
   "source": [
    "A Pandas DataFrame is a two-dimensional, tabular data structure in the pandas library for Python, designed for efficient data manipulation and analysis. It can be thought of as a spreadsheet or SQL table, consisting of rows and columns, where each column is a Pandas Series sharing a common index. Below, I provide a comprehensive explanation of DataFrames in the context of coding, covering their creation, operations, key features, and practical examples, tailored to your interest in pandas following the discussion on Series.\n",
    "\n",
    "### Pandas DataFrame\n",
    "- A DataFrame is a two-dimensional, labeled data structure with rows and columns, capable of holding heterogeneous data (e.g., integers, floats, strings, objects).\n",
    "- **Components**:\n",
    "  - **Data**: Values organized in a tabular format.\n",
    "  - **Index**: Labels for rows (default is integer-based, starting from 0).\n",
    "  - **Columns**: Labels for columns, allowing each column to act as a Series.\n",
    "  - Built on NumPy arrays, DataFrames combine the performance of NumPy with flexible indexing and data alignment features.\n",
    "#### Creating a DataFrame\n",
    "DataFrames can be created from various data sources."
   ]
  },
  {
   "cell_type": "markdown",
   "id": "3680786f-e6d6-461b-b8a7-194643fee66d",
   "metadata": {},
   "source": [
    "1. From a Dictionary of Lists or Arrays:"
   ]
  },
  {
   "cell_type": "code",
   "execution_count": null,
   "id": "84da216a-2652-489f-a591-614a695a851a",
   "metadata": {},
   "outputs": [],
   "source": [
    "import pandas as pd\n",
    "data = {'A': [1, 2, 3], 'B': ['x', 'y', 'z']}\n",
    "df = pd.DataFrame(data, index=['row1', 'row2', 'row3'])\n",
    "print(df)"
   ]
  },
  {
   "cell_type": "markdown",
   "id": "877c8e22-c97a-47ce-b32f-d23e3b112f97",
   "metadata": {},
   "source": [
    "2. From a List of Dictionaries:"
   ]
  },
  {
   "cell_type": "code",
   "execution_count": null,
   "id": "4344e68e-671f-4a0c-9597-a9ba6a60fd34",
   "metadata": {},
   "outputs": [],
   "source": [
    "data = [{'A': 1, 'B': 'x'}, {'A': 2, 'B': 'y'}, {'A': 3, 'B': 'z'}]\n",
    "df = pd.DataFrame(data)\n",
    "print(df)"
   ]
  },
  {
   "cell_type": "markdown",
   "id": "9b483499-6c12-44b8-b2e5-08424c4272df",
   "metadata": {},
   "source": [
    "3. From a NumPy Array:"
   ]
  },
  {
   "cell_type": "code",
   "execution_count": null,
   "id": "725901fe-69db-45d5-afbc-e9b5bee22dfe",
   "metadata": {},
   "outputs": [],
   "source": [
    "import numpy as np\n",
    "data = np.array([[1, 'x'], [2, 'y'], [3, 'z']])\n",
    "df = pd.DataFrame(data, columns=['A', 'B'], index=['row1', 'row2', 'row3'])\n",
    "print(df)"
   ]
  },
  {
   "cell_type": "markdown",
   "id": "7309fc01-35a1-487e-a580-9f7418f6a997",
   "metadata": {},
   "source": [
    "4. From a List of Series:"
   ]
  },
  {
   "cell_type": "code",
   "execution_count": null,
   "id": "3e1e272b-9624-4850-9e9e-7a69f8d6c805",
   "metadata": {},
   "outputs": [],
   "source": [
    "s1 = pd.Series([1, 2, 3], index=['row1', 'row2', 'row3'])\n",
    "s2 = pd.Series(['x', 'y', 'z'], index=['row1', 'row2', 'row3'])\n",
    "df = pd.DataFrame({'A': s1, 'B': s2})\n",
    "print(df)"
   ]
  },
  {
   "cell_type": "markdown",
   "id": "4142e293-9fc9-433d-9c52-ecf48cf0bf1b",
   "metadata": {},
   "source": [
    "#### Key Attributes of a DataFrame\n",
    "Access metadata using attributes:\n",
    "\n",
    "- **.values**: Returns the underlying data as a NumPy array."
   ]
  },
  {
   "cell_type": "code",
   "execution_count": null,
   "id": "bbd048c3-83e8-4198-be94-ef98a258a924",
   "metadata": {},
   "outputs": [],
   "source": [
    "print(df.values)"
   ]
  },
  {
   "cell_type": "markdown",
   "id": "6c4b18ce-9884-4e2f-9549-3ff6bd9e7616",
   "metadata": {},
   "source": [
    "- **.index**: Returns the row index."
   ]
  },
  {
   "cell_type": "code",
   "execution_count": null,
   "id": "0459bcb7-1dbe-4377-b53d-97375acc5e44",
   "metadata": {},
   "outputs": [],
   "source": [
    "print(df.index)"
   ]
  },
  {
   "cell_type": "markdown",
   "id": "e5f3f755-cd04-49e2-add5-3d0320a312ad",
   "metadata": {},
   "source": [
    "- **.columns**: Returns the column labels."
   ]
  },
  {
   "cell_type": "code",
   "execution_count": null,
   "id": "7f0c4254-5df2-4529-9f6b-e91a3ff3acff",
   "metadata": {},
   "outputs": [],
   "source": [
    "print(df.columns)"
   ]
  },
  {
   "cell_type": "markdown",
   "id": "deeb332d-cc5d-494b-ae05-3d4078f8d782",
   "metadata": {},
   "source": [
    "- **.dtypes**: Returns the data type of each column."
   ]
  },
  {
   "cell_type": "code",
   "execution_count": null,
   "id": "ff56f242-a270-4fb2-956f-324c8e06e9d5",
   "metadata": {},
   "outputs": [],
   "source": [
    "print(df.dtypes)"
   ]
  },
  {
   "cell_type": "markdown",
   "id": "67181e96-e042-4295-a60c-b61b3b3b6a36",
   "metadata": {},
   "source": [
    "- **.shape**: Returns the dimensions (rows, columns)."
   ]
  },
  {
   "cell_type": "code",
   "execution_count": null,
   "id": "795b43c4-52dc-4478-801a-a06e52437904",
   "metadata": {},
   "outputs": [],
   "source": [
    "print(df.shape)"
   ]
  },
  {
   "cell_type": "markdown",
   "id": "06aeec8b-8531-4fc6-87a7-4edb865da2fa",
   "metadata": {},
   "source": [
    "#### Indexing and Selection\n",
    "DataFrames support flexible indexing for accessing rows, columns, or specific elements:\n",
    "\n",
    "**1. Selecting Columns** (returns a Series):"
   ]
  },
  {
   "cell_type": "code",
   "execution_count": null,
   "id": "4ffd494a-969d-4b06-8d99-b9e4e4b6a759",
   "metadata": {},
   "outputs": [],
   "source": [
    "print(df['A'])"
   ]
  },
  {
   "cell_type": "markdown",
   "id": "b9ce57bb-b316-4453-a608-bf1c9fbe83c6",
   "metadata": {},
   "source": [
    " - **Multiple columns** (returns a DataFrame):"
   ]
  },
  {
   "cell_type": "code",
   "execution_count": null,
   "id": "e086b3f3-f0cd-48b8-81af-a7aba1d4be49",
   "metadata": {},
   "outputs": [],
   "source": [
    "print(df[['A', 'B']])"
   ]
  },
  {
   "cell_type": "markdown",
   "id": "0efcbb49-599b-4c6d-9e6a-a038bdd29437",
   "metadata": {},
   "source": [
    "**2. Label-Based Indexing** (using .loc):"
   ]
  },
  {
   "cell_type": "code",
   "execution_count": null,
   "id": "9a1c9510-3b33-47df-8e74-124832552dfe",
   "metadata": {},
   "outputs": [],
   "source": [
    "print(df.loc['row1', 'A']) \n",
    "print(df.loc['row1':'row2', 'A'])"
   ]
  },
  {
   "cell_type": "markdown",
   "id": "9c70e162-822e-454d-9740-c861dd18c4e9",
   "metadata": {},
   "source": [
    "**3. Integer-Based Indexing** (using .iloc):"
   ]
  },
  {
   "cell_type": "code",
   "execution_count": null,
   "id": "c61784f5-2d7d-4bd3-ba2f-1eeb08037428",
   "metadata": {},
   "outputs": [],
   "source": [
    "print(df.iloc[0, 0]) \n",
    "print(df.iloc[0:2, 0])"
   ]
  },
  {
   "cell_type": "markdown",
   "id": "f1b189d9-97b5-425e-9772-3644ef12239f",
   "metadata": {},
   "source": [
    "**4. Boolean Indexing:**"
   ]
  },
  {
   "cell_type": "code",
   "execution_count": null,
   "id": "e4642e64-c5bd-4ad6-8646-599386af9417",
   "metadata": {},
   "outputs": [],
   "source": [
    "print(df[df['A'] > 1])"
   ]
  },
  {
   "cell_type": "markdown",
   "id": "2cfa76a2-ae21-4764-9591-2064b3e51918",
   "metadata": {},
   "source": [
    "**5. Fast Scalar Access** (using .at or .iat):"
   ]
  },
  {
   "cell_type": "code",
   "execution_count": null,
   "id": "67e2c910-ca19-4e70-877f-b3b3c10ef3de",
   "metadata": {},
   "outputs": [],
   "source": [
    "print(df.at['row1', 'A']) \n",
    "print(df.iat[0, 0])"
   ]
  },
  {
   "cell_type": "markdown",
   "id": "4e24f802-e85a-41cc-b662-c189d0eaf4b8",
   "metadata": {},
   "source": [
    "#### Operations on DataFrames\n",
    "DataFrames support vectorized operations, aggregation, and transformations.\n",
    "\n",
    "**1. Arithmetic Operations**:"
   ]
  },
  {
   "cell_type": "code",
   "execution_count": null,
   "id": "d5c4677f-af34-402a-aa31-ae61a9f284e2",
   "metadata": {},
   "outputs": [],
   "source": [
    "df['A'] = df['A'] + 10\n",
    "print(df)"
   ]
  },
  {
   "cell_type": "markdown",
   "id": "e286946b-f8cd-48d3-88d3-2e5580b908f6",
   "metadata": {},
   "source": [
    "**2. Applying Functions**:\n",
    "\n",
    "- Element-wise with applymap (for entire DataFrame, deprecated in favor of map in newer versions):"
   ]
  },
  {
   "cell_type": "code",
   "execution_count": null,
   "id": "c3138121-eddf-4be1-beeb-1d69120bb7b3",
   "metadata": {},
   "outputs": [],
   "source": [
    "df_numeric = pd.DataFrame({'A': [1, 2, 3], 'B': [4, 5, 6]})\n",
    "print(df_numeric.map(lambda x: x * 2))"
   ]
  },
  {
   "cell_type": "markdown",
   "id": "63d47e64-4036-43ca-be91-b476a30d0d4c",
   "metadata": {},
   "source": [
    "- Column/row-wise with apply:"
   ]
  },
  {
   "cell_type": "code",
   "execution_count": null,
   "id": "ebe56a8a-39e7-40d4-b429-6c65bc0fa857",
   "metadata": {},
   "outputs": [],
   "source": [
    "print(df_numeric.apply(lambda x: x.sum(), axis=0))"
   ]
  },
  {
   "cell_type": "markdown",
   "id": "0668fd4c-4d0d-4ac5-8cff-ae5e12d86dce",
   "metadata": {},
   "source": [
    "**3. Statistical Operations**:"
   ]
  },
  {
   "cell_type": "code",
   "execution_count": null,
   "id": "19b84889-33e1-49a7-beda-90985415aebb",
   "metadata": {},
   "outputs": [],
   "source": [
    "print(df_numeric.mean())"
   ]
  },
  {
   "cell_type": "code",
   "execution_count": null,
   "id": "34fb7887-93c8-461d-ab60-c89e96acd85a",
   "metadata": {},
   "outputs": [],
   "source": [
    "print(df_numeric.describe())  # Summary statistics"
   ]
  },
  {
   "cell_type": "markdown",
   "id": "cb6cefce-8c63-479c-8686-6529de716383",
   "metadata": {},
   "source": [
    "**4. GroupBy Operations**:\n",
    "- Split data into groups, apply a function, and combine results."
   ]
  },
  {
   "cell_type": "code",
   "execution_count": null,
   "id": "cef09b85-973b-4ab7-9bc0-556c1b0d0226",
   "metadata": {},
   "outputs": [],
   "source": [
    "df = pd.DataFrame({'A': ['x', 'y', 'x'], 'B': [1, 2, 3]})\n",
    "print(df.groupby('A').sum())"
   ]
  },
  {
   "cell_type": "markdown",
   "id": "730bde87-98fb-4e21-8d7d-5b04e91a7794",
   "metadata": {},
   "source": [
    "#### Handling Missing Data\n",
    "DataFrames handle missing data (NaN for numerics, None for objects):\n",
    "\n",
    "- **Detecting**:"
   ]
  },
  {
   "cell_type": "code",
   "execution_count": null,
   "id": "0c287dbf-2981-4b2c-9505-d3adc8e35d1b",
   "metadata": {},
   "outputs": [],
   "source": [
    "df = pd.DataFrame({'A': [1, None, 3], 'B': ['x', 'y', None]})\n",
    "print(df.isna())"
   ]
  },
  {
   "cell_type": "markdown",
   "id": "ecc41b2a-8213-472e-8d26-9f73fbf21af5",
   "metadata": {},
   "source": [
    "- **Filling**:"
   ]
  },
  {
   "cell_type": "code",
   "execution_count": null,
   "id": "fb5051a3-8dbb-48c3-aa34-f5b24609c09f",
   "metadata": {},
   "outputs": [],
   "source": [
    "print(df.fillna({'A': 0, 'B': 'z'}))"
   ]
  },
  {
   "cell_type": "markdown",
   "id": "d5ac985f-1407-4e5f-9d5c-7207ad39fcf7",
   "metadata": {},
   "source": [
    "- **Dropping**:"
   ]
  },
  {
   "cell_type": "code",
   "execution_count": null,
   "id": "486c5094-ac74-46d3-88f0-c83773753445",
   "metadata": {},
   "outputs": [],
   "source": [
    "print(df.dropna())"
   ]
  },
  {
   "cell_type": "markdown",
   "id": "967037cb-8fd7-4537-8801-224125532827",
   "metadata": {},
   "source": [
    "#### Merging, Joining, and Concatenating\n",
    "DataFrames support SQL-like operations to combine datasets:\n",
    "\n",
    "**1. Concatenation** (stack vertically or horizontally):"
   ]
  },
  {
   "cell_type": "code",
   "execution_count": null,
   "id": "00e58d04-805a-4604-80a4-8ee84a2df4e2",
   "metadata": {},
   "outputs": [],
   "source": [
    "df1 = pd.DataFrame({'A': [1, 2], 'B': ['x', 'y']})\n",
    "df2 = pd.DataFrame({'A': [3, 4], 'B': ['z', 'w']})\n",
    "print(pd.concat([df1, df2]))"
   ]
  },
  {
   "cell_type": "markdown",
   "id": "ed64efdd-f7eb-4da8-aede-0b3a23a1ea05",
   "metadata": {},
   "source": [
    "**2. Merging** (SQL-like joins):"
   ]
  },
  {
   "cell_type": "code",
   "execution_count": null,
   "id": "75188236-c467-4480-aeda-77c6118b2b8c",
   "metadata": {},
   "outputs": [],
   "source": [
    "df1 = pd.DataFrame({'key': ['x', 'y'], 'A': [1, 2]})\n",
    "df2 = pd.DataFrame({'key': ['x', 'z'], 'B': [3, 4]})\n",
    "print(pd.merge(df1, df2, on='key', how='inner'))"
   ]
  },
  {
   "cell_type": "markdown",
   "id": "c47a97b3-1c1a-4151-a71a-6e42c8f7fbe9",
   "metadata": {},
   "source": [
    "**3. Joining** (index-based):"
   ]
  },
  {
   "cell_type": "code",
   "execution_count": null,
   "id": "f1644f81-9755-4b8c-87ed-ed89e1cdd399",
   "metadata": {},
   "outputs": [],
   "source": [
    "df1 = pd.DataFrame({'A': [1, 2]}, index=['x', 'y'])\n",
    "df2 = pd.DataFrame({'B': [3, 4]}, index=['x', 'z'])\n",
    "print(df1.join(df2, how='inner'))"
   ]
  },
  {
   "cell_type": "markdown",
   "id": "67d51c78-b5c1-45f1-8aac-d9a5fa696b09",
   "metadata": {},
   "source": [
    "#### Reshaping and Pivoting\n",
    "DataFrames support reshaping for different data formats:\n",
    "\n",
    "**1. Pivot** (long to wide format):"
   ]
  },
  {
   "cell_type": "code",
   "execution_count": null,
   "id": "f14f0596-e86b-4ece-a9d7-fbb9ef187a83",
   "metadata": {},
   "outputs": [],
   "source": [
    "df = pd.DataFrame({'foo': ['one', 'one', 'two'], 'bar': ['A', 'B', 'A'], 'baz': [1, 2, 3]})\n",
    "print(df.pivot(index='foo', columns='bar', values='baz'))"
   ]
  },
  {
   "cell_type": "markdown",
   "id": "a8433880-53d6-4f8d-a2b1-e12d1eb289a9",
   "metadata": {},
   "source": [
    "**2. Melt** (wide to long format):"
   ]
  },
  {
   "cell_type": "code",
   "execution_count": null,
   "id": "023df8ba-9d9d-4828-a7bb-9fd34995b866",
   "metadata": {},
   "outputs": [],
   "source": [
    "df = pd.DataFrame({'A': [1, 2], 'B': [3, 4]})\n",
    "print(pd.melt(df, id_vars='A', value_vars='B'))"
   ]
  },
  {
   "cell_type": "markdown",
   "id": "0fdc89cb-e6bf-412a-b4f1-aa50817580e4",
   "metadata": {},
   "source": [
    "#### Time-Series Functionality\n",
    "DataFrames excel at handling time-series data:"
   ]
  },
  {
   "cell_type": "code",
   "execution_count": null,
   "id": "de471b3e-c253-4748-b699-c90f01eeb4ff",
   "metadata": {},
   "outputs": [],
   "source": [
    "dates = pd.date_range('2023-01-01', periods=3)\n",
    "df = pd.DataFrame({'value': [10, 20, 30]}, index=dates)\n",
    "print(df.resample('M').mean())"
   ]
  }
 ],
 "metadata": {
  "kernelspec": {
   "display_name": "Python [conda env:base] *",
   "language": "python",
   "name": "conda-base-py"
  },
  "language_info": {
   "codemirror_mode": {
    "name": "ipython",
    "version": 3
   },
   "file_extension": ".py",
   "mimetype": "text/x-python",
   "name": "python",
   "nbconvert_exporter": "python",
   "pygments_lexer": "ipython3",
   "version": "3.12.7"
  }
 },
 "nbformat": 4,
 "nbformat_minor": 5
}
