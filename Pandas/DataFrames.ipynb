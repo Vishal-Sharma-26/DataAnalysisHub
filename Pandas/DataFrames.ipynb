{
 "cells": [
  {
   "cell_type": "markdown",
   "id": "6634e9a0-c56f-4a58-bc2f-2f8a396a3cfe",
   "metadata": {},
   "source": [
    "A Pandas DataFrame is a two-dimensional, tabular data structure in the pandas library for Python, designed for efficient data manipulation and analysis. It can be thought of as a spreadsheet or SQL table, consisting of rows and columns, where each column is a Pandas Series sharing a common index. Below, I provide a comprehensive explanation of DataFrames in the context of coding, covering their creation, operations, key features, and practical examples, tailored to your interest in pandas following the discussion on Series.\n",
    "\n",
    "### Pandas DataFrame\n",
    "- A DataFrame is a two-dimensional, labeled data structure with rows and columns, capable of holding heterogeneous data (e.g., integers, floats, strings, objects).\n",
    "- **Components**:\n",
    "  - **Data**: Values organized in a tabular format.\n",
    "  - **Index**: Labels for rows (default is integer-based, starting from 0).\n",
    "  - **Columns**: Labels for columns, allowing each column to act as a Series.\n",
    "  - Built on NumPy arrays, DataFrames combine the performance of NumPy with flexible indexing and data alignment features.\n",
    "#### Creating a DataFrame\n",
    "DataFrames can be created from various data sources."
   ]
  },
  {
   "cell_type": "markdown",
   "id": "3680786f-e6d6-461b-b8a7-194643fee66d",
   "metadata": {},
   "source": [
    "1. From a Dictionary of Lists or Arrays:"
   ]
  },
  {
   "cell_type": "code",
   "execution_count": 5,
   "id": "532ba1e8-7ae0-4cff-a266-0664bc0f721c",
   "metadata": {},
   "outputs": [
    {
     "name": "stdout",
     "output_type": "stream",
     "text": [
      "      A  B\n",
      "row1  1  x\n",
      "row2  2  y\n",
      "row3  3  z\n"
     ]
    }
   ],
   "source": [
    "import pandas as pd\n",
    "data = {'A': [1, 2, 3], 'B': ['x', 'y', 'z']}\n",
    "df = pd.DataFrame(data, index=['row1', 'row2', 'row3'])\n",
    "print(df)"
   ]
  },
  {
   "cell_type": "markdown",
   "id": "877c8e22-c97a-47ce-b32f-d23e3b112f97",
   "metadata": {},
   "source": [
    "2. From a List of Dictionaries:"
   ]
  },
  {
   "cell_type": "code",
   "execution_count": 8,
   "id": "19a88e98-d3b4-4465-845f-c8c83dcb1d4e",
   "metadata": {},
   "outputs": [
    {
     "name": "stdout",
     "output_type": "stream",
     "text": [
      "   A  B\n",
      "0  1  x\n",
      "1  2  y\n",
      "2  3  z\n"
     ]
    }
   ],
   "source": [
    "data = [{'A': 1, 'B': 'x'}, {'A': 2, 'B': 'y'}, {'A': 3, 'B': 'z'}]\n",
    "df = pd.DataFrame(data)\n",
    "print(df)"
   ]
  },
  {
   "cell_type": "markdown",
   "id": "9b483499-6c12-44b8-b2e5-08424c4272df",
   "metadata": {},
   "source": [
    "3. From a NumPy Array:"
   ]
  },
  {
   "cell_type": "code",
   "execution_count": 11,
   "id": "9cc35573-5a88-4a02-8237-f3fbb52a718c",
   "metadata": {},
   "outputs": [
    {
     "name": "stdout",
     "output_type": "stream",
     "text": [
      "      A  B\n",
      "row1  1  x\n",
      "row2  2  y\n",
      "row3  3  z\n"
     ]
    }
   ],
   "source": [
    "import numpy as np\n",
    "data = np.array([[1, 'x'], [2, 'y'], [3, 'z']])\n",
    "df = pd.DataFrame(data, columns=['A', 'B'], index=['row1', 'row2', 'row3'])\n",
    "print(df)"
   ]
  },
  {
   "cell_type": "markdown",
   "id": "7309fc01-35a1-487e-a580-9f7418f6a997",
   "metadata": {},
   "source": [
    "4. From a List of Series:"
   ]
  },
  {
   "cell_type": "code",
   "execution_count": 14,
   "id": "710a6d42-25e3-4780-8e05-dcc1e0704dec",
   "metadata": {},
   "outputs": [
    {
     "name": "stdout",
     "output_type": "stream",
     "text": [
      "      A  B\n",
      "row1  1  x\n",
      "row2  2  y\n",
      "row3  3  z\n"
     ]
    }
   ],
   "source": [
    "s1 = pd.Series([1, 2, 3], index=['row1', 'row2', 'row3'])\n",
    "s2 = pd.Series(['x', 'y', 'z'], index=['row1', 'row2', 'row3'])\n",
    "df = pd.DataFrame({'A': s1, 'B': s2})\n",
    "print(df)"
   ]
  },
  {
   "cell_type": "markdown",
   "id": "4142e293-9fc9-433d-9c52-ecf48cf0bf1b",
   "metadata": {},
   "source": [
    "#### Key Attributes of a DataFrame\n",
    "Access metadata using attributes:\n",
    "\n",
    "- **.values**: Returns the underlying data as a NumPy array."
   ]
  },
  {
   "cell_type": "code",
   "execution_count": 17,
   "id": "3b298fbe-7f4b-4e0b-9090-1200745fe9b8",
   "metadata": {},
   "outputs": [
    {
     "name": "stdout",
     "output_type": "stream",
     "text": [
      "[[1 'x']\n",
      " [2 'y']\n",
      " [3 'z']]\n"
     ]
    }
   ],
   "source": [
    "print(df.values)"
   ]
  },
  {
   "cell_type": "markdown",
   "id": "6c4b18ce-9884-4e2f-9549-3ff6bd9e7616",
   "metadata": {},
   "source": [
    "- **.index**: Returns the row index."
   ]
  },
  {
   "cell_type": "code",
   "execution_count": 20,
   "id": "1f5c792b-e952-49a5-8688-e78c9df20e76",
   "metadata": {},
   "outputs": [
    {
     "name": "stdout",
     "output_type": "stream",
     "text": [
      "Index(['row1', 'row2', 'row3'], dtype='object')\n"
     ]
    }
   ],
   "source": [
    "print(df.index)"
   ]
  },
  {
   "cell_type": "markdown",
   "id": "e5f3f755-cd04-49e2-add5-3d0320a312ad",
   "metadata": {},
   "source": [
    "- **.columns**: Returns the column labels."
   ]
  },
  {
   "cell_type": "code",
   "execution_count": 23,
   "id": "34c76bff-6add-4b3e-a569-75acf4cae2d6",
   "metadata": {},
   "outputs": [
    {
     "name": "stdout",
     "output_type": "stream",
     "text": [
      "Index(['A', 'B'], dtype='object')\n"
     ]
    }
   ],
   "source": [
    "print(df.columns)"
   ]
  },
  {
   "cell_type": "markdown",
   "id": "deeb332d-cc5d-494b-ae05-3d4078f8d782",
   "metadata": {},
   "source": [
    "- **.dtypes**: Returns the data type of each column."
   ]
  },
  {
   "cell_type": "code",
   "execution_count": 26,
   "id": "642740d1-1ff3-41d2-b319-64a53b14bc05",
   "metadata": {},
   "outputs": [
    {
     "name": "stdout",
     "output_type": "stream",
     "text": [
      "A     int64\n",
      "B    object\n",
      "dtype: object\n"
     ]
    }
   ],
   "source": [
    "print(df.dtypes)"
   ]
  },
  {
   "cell_type": "markdown",
   "id": "67181e96-e042-4295-a60c-b61b3b3b6a36",
   "metadata": {},
   "source": [
    "- **.shape**: Returns the dimensions (rows, columns)."
   ]
  },
  {
   "cell_type": "code",
   "execution_count": 29,
   "id": "ed05ad4c-0102-4823-9f60-a1f6bb1f28fb",
   "metadata": {},
   "outputs": [
    {
     "name": "stdout",
     "output_type": "stream",
     "text": [
      "(3, 2)\n"
     ]
    }
   ],
   "source": [
    "print(df.shape)"
   ]
  },
  {
   "cell_type": "markdown",
   "id": "06aeec8b-8531-4fc6-87a7-4edb865da2fa",
   "metadata": {},
   "source": [
    "#### Indexing and Selection\n",
    "DataFrames support flexible indexing for accessing rows, columns, or specific elements:\n",
    "\n",
    "**1. Selecting Columns** (returns a Series):"
   ]
  },
  {
   "cell_type": "code",
   "execution_count": 32,
   "id": "3b1d1f4b-a30e-4399-9087-5b40cf155e45",
   "metadata": {},
   "outputs": [
    {
     "name": "stdout",
     "output_type": "stream",
     "text": [
      "row1    1\n",
      "row2    2\n",
      "row3    3\n",
      "Name: A, dtype: int64\n"
     ]
    }
   ],
   "source": [
    "print(df['A'])"
   ]
  },
  {
   "cell_type": "markdown",
   "id": "b9ce57bb-b316-4453-a608-bf1c9fbe83c6",
   "metadata": {},
   "source": [
    " - **Multiple columns** (returns a DataFrame):"
   ]
  },
  {
   "cell_type": "code",
   "execution_count": 40,
   "id": "282d9c36-4753-49a3-88c2-8a0da741ea30",
   "metadata": {},
   "outputs": [
    {
     "name": "stdout",
     "output_type": "stream",
     "text": [
      "      A  B\n",
      "row1  1  x\n",
      "row2  2  y\n",
      "row3  3  z\n"
     ]
    }
   ],
   "source": [
    "print(df[['A', 'B']])"
   ]
  },
  {
   "cell_type": "markdown",
   "id": "0efcbb49-599b-4c6d-9e6a-a038bdd29437",
   "metadata": {},
   "source": [
    "**2. Label-Based Indexing** (using .loc):"
   ]
  },
  {
   "cell_type": "code",
   "execution_count": 43,
   "id": "954d5755-a7ce-4b05-927a-f958b13f8f14",
   "metadata": {},
   "outputs": [
    {
     "name": "stdout",
     "output_type": "stream",
     "text": [
      "1\n",
      "row1    1\n",
      "row2    2\n",
      "Name: A, dtype: int64\n"
     ]
    }
   ],
   "source": [
    "print(df.loc['row1', 'A']) \n",
    "print(df.loc['row1':'row2', 'A'])"
   ]
  },
  {
   "cell_type": "markdown",
   "id": "9c70e162-822e-454d-9740-c861dd18c4e9",
   "metadata": {},
   "source": [
    "**3. Integer-Based Indexing** (using .iloc):"
   ]
  },
  {
   "cell_type": "code",
   "execution_count": 46,
   "id": "88b9478a-8de5-406c-b7ca-0cd8787ea7fd",
   "metadata": {},
   "outputs": [
    {
     "name": "stdout",
     "output_type": "stream",
     "text": [
      "1\n",
      "row1    1\n",
      "row2    2\n",
      "Name: A, dtype: int64\n"
     ]
    }
   ],
   "source": [
    "print(df.iloc[0, 0]) \n",
    "print(df.iloc[0:2, 0])"
   ]
  },
  {
   "cell_type": "markdown",
   "id": "f1b189d9-97b5-425e-9772-3644ef12239f",
   "metadata": {},
   "source": [
    "**4. Boolean Indexing:**"
   ]
  },
  {
   "cell_type": "code",
   "execution_count": 49,
   "id": "255e320a-ee45-407c-b2ac-ef4d08e70ec2",
   "metadata": {},
   "outputs": [
    {
     "name": "stdout",
     "output_type": "stream",
     "text": [
      "      A  B\n",
      "row2  2  y\n",
      "row3  3  z\n"
     ]
    }
   ],
   "source": [
    "print(df[df['A'] > 1])"
   ]
  },
  {
   "cell_type": "markdown",
   "id": "2cfa76a2-ae21-4764-9591-2064b3e51918",
   "metadata": {},
   "source": [
    "**5. Fast Scalar Access** (using .at or .iat):"
   ]
  },
  {
   "cell_type": "code",
   "execution_count": 52,
   "id": "2d2df6a0-43af-4435-8ca0-c6bde534e664",
   "metadata": {},
   "outputs": [
    {
     "name": "stdout",
     "output_type": "stream",
     "text": [
      "1\n",
      "1\n"
     ]
    }
   ],
   "source": [
    "print(df.at['row1', 'A']) \n",
    "print(df.iat[0, 0])"
   ]
  },
  {
   "cell_type": "markdown",
   "id": "4e24f802-e85a-41cc-b662-c189d0eaf4b8",
   "metadata": {},
   "source": [
    "#### Operations on DataFrames\n",
    "DataFrames support vectorized operations, aggregation, and transformations.\n",
    "\n",
    "**1. Arithmetic Operations**:"
   ]
  },
  {
   "cell_type": "code",
   "execution_count": 55,
   "id": "0a219b1a-780b-4d8a-b938-6a37d5f52e0c",
   "metadata": {},
   "outputs": [
    {
     "name": "stdout",
     "output_type": "stream",
     "text": [
      "       A  B\n",
      "row1  11  x\n",
      "row2  12  y\n",
      "row3  13  z\n"
     ]
    }
   ],
   "source": [
    "df['A'] = df['A'] + 10\n",
    "print(df)"
   ]
  },
  {
   "cell_type": "markdown",
   "id": "e286946b-f8cd-48d3-88d3-2e5580b908f6",
   "metadata": {},
   "source": [
    "**2. Applying Functions**:\n",
    "\n",
    "- Element-wise with applymap (for entire DataFrame, deprecated in favor of map in newer versions):"
   ]
  },
  {
   "cell_type": "code",
   "execution_count": 59,
   "id": "d25e25dc-e068-447a-88e7-3b49c39160d1",
   "metadata": {},
   "outputs": [
    {
     "name": "stdout",
     "output_type": "stream",
     "text": [
      "   A   B\n",
      "0  2   8\n",
      "1  4  10\n",
      "2  6  12\n"
     ]
    }
   ],
   "source": [
    "df_numeric = pd.DataFrame({'A': [1, 2, 3], 'B': [4, 5, 6]})\n",
    "print(df_numeric.map(lambda x: x * 2))"
   ]
  },
  {
   "cell_type": "markdown",
   "id": "63d47e64-4036-43ca-be91-b476a30d0d4c",
   "metadata": {},
   "source": [
    "- Column/row-wise with apply:"
   ]
  },
  {
   "cell_type": "code",
   "execution_count": 62,
   "id": "70219afb-9ced-4188-a1ee-a1f21feeb2da",
   "metadata": {},
   "outputs": [
    {
     "name": "stdout",
     "output_type": "stream",
     "text": [
      "A     6\n",
      "B    15\n",
      "dtype: int64\n"
     ]
    }
   ],
   "source": [
    "print(df_numeric.apply(lambda x: x.sum(), axis=0))"
   ]
  },
  {
   "cell_type": "markdown",
   "id": "0668fd4c-4d0d-4ac5-8cff-ae5e12d86dce",
   "metadata": {},
   "source": [
    "**3. Statistical Operations**:"
   ]
  },
  {
   "cell_type": "code",
   "execution_count": 65,
   "id": "a5153cf0-50c0-45a4-9df3-99783661bd3a",
   "metadata": {},
   "outputs": [
    {
     "name": "stdout",
     "output_type": "stream",
     "text": [
      "A    2.0\n",
      "B    5.0\n",
      "dtype: float64\n",
      "         A    B\n",
      "count  3.0  3.0\n",
      "mean   2.0  5.0\n",
      "std    1.0  1.0\n",
      "min    1.0  4.0\n",
      "25%    1.5  4.5\n",
      "50%    2.0  5.0\n",
      "75%    2.5  5.5\n",
      "max    3.0  6.0\n"
     ]
    }
   ],
   "source": [
    "print(df_numeric.mean())\n",
    "\n",
    "print(df_numeric.describe())  # Summary statistics"
   ]
  },
  {
   "cell_type": "markdown",
   "id": "cb6cefce-8c63-479c-8686-6529de716383",
   "metadata": {},
   "source": [
    "**4. GroupBy Operations**:\n",
    "- Split data into groups, apply a function, and combine results."
   ]
  },
  {
   "cell_type": "code",
   "execution_count": 68,
   "id": "5cad2462-ca01-4fa7-9bca-22e278a8a8ce",
   "metadata": {},
   "outputs": [
    {
     "name": "stdout",
     "output_type": "stream",
     "text": [
      "   B\n",
      "A   \n",
      "x  4\n",
      "y  2\n"
     ]
    }
   ],
   "source": [
    "df = pd.DataFrame({'A': ['x', 'y', 'x'], 'B': [1, 2, 3]})\n",
    "print(df.groupby('A').sum())"
   ]
  },
  {
   "cell_type": "markdown",
   "id": "730bde87-98fb-4e21-8d7d-5b04e91a7794",
   "metadata": {},
   "source": [
    "#### Handling Missing Data\n",
    "DataFrames handle missing data (NaN for numerics, None for objects):\n",
    "\n",
    "- **Detecting**:"
   ]
  },
  {
   "cell_type": "code",
   "execution_count": 71,
   "id": "dc3da05d-8cbf-407b-9a48-1ece0a7119cd",
   "metadata": {},
   "outputs": [
    {
     "name": "stdout",
     "output_type": "stream",
     "text": [
      "       A      B\n",
      "0  False  False\n",
      "1   True  False\n",
      "2  False   True\n"
     ]
    }
   ],
   "source": [
    "df = pd.DataFrame({'A': [1, None, 3], 'B': ['x', 'y', None]})\n",
    "print(df.isna())"
   ]
  },
  {
   "cell_type": "markdown",
   "id": "ecc41b2a-8213-472e-8d26-9f73fbf21af5",
   "metadata": {},
   "source": [
    "- **Filling**:"
   ]
  },
  {
   "cell_type": "code",
   "execution_count": 74,
   "id": "9306603f-77b9-495b-b9d5-7bb6481a7ec4",
   "metadata": {},
   "outputs": [
    {
     "name": "stdout",
     "output_type": "stream",
     "text": [
      "     A  B\n",
      "0  1.0  x\n",
      "1  0.0  y\n",
      "2  3.0  z\n"
     ]
    }
   ],
   "source": [
    "print(df.fillna({'A': 0, 'B': 'z'}))"
   ]
  },
  {
   "cell_type": "markdown",
   "id": "d5ac985f-1407-4e5f-9d5c-7207ad39fcf7",
   "metadata": {},
   "source": [
    "- **Dropping**:"
   ]
  },
  {
   "cell_type": "code",
   "execution_count": 77,
   "id": "3600ec70-8fc9-4317-98b2-1256ac4b5025",
   "metadata": {},
   "outputs": [
    {
     "name": "stdout",
     "output_type": "stream",
     "text": [
      "     A  B\n",
      "0  1.0  x\n"
     ]
    }
   ],
   "source": [
    "print(df.dropna())"
   ]
  },
  {
   "cell_type": "markdown",
   "id": "967037cb-8fd7-4537-8801-224125532827",
   "metadata": {},
   "source": [
    "#### Merging, Joining, and Concatenating\n",
    "DataFrames support SQL-like operations to combine datasets:\n",
    "\n",
    "**1. Concatenation** (stack vertically or horizontally):"
   ]
  },
  {
   "cell_type": "code",
   "execution_count": 80,
   "id": "98c4c5f9-9188-48c9-afe0-2d949dec4941",
   "metadata": {},
   "outputs": [
    {
     "name": "stdout",
     "output_type": "stream",
     "text": [
      "   A  B\n",
      "0  1  x\n",
      "1  2  y\n",
      "0  3  z\n",
      "1  4  w\n"
     ]
    }
   ],
   "source": [
    "df1 = pd.DataFrame({'A': [1, 2], 'B': ['x', 'y']})\n",
    "df2 = pd.DataFrame({'A': [3, 4], 'B': ['z', 'w']})\n",
    "print(pd.concat([df1, df2]))"
   ]
  },
  {
   "cell_type": "markdown",
   "id": "ed64efdd-f7eb-4da8-aede-0b3a23a1ea05",
   "metadata": {},
   "source": [
    "**2. Merging** (SQL-like joins):"
   ]
  },
  {
   "cell_type": "code",
   "execution_count": 83,
   "id": "c7b431c0-71ca-4c31-b672-a8ffcc15e96a",
   "metadata": {},
   "outputs": [
    {
     "name": "stdout",
     "output_type": "stream",
     "text": [
      "  key  A  B\n",
      "0   x  1  3\n"
     ]
    }
   ],
   "source": [
    "df1 = pd.DataFrame({'key': ['x', 'y'], 'A': [1, 2]})\n",
    "df2 = pd.DataFrame({'key': ['x', 'z'], 'B': [3, 4]})\n",
    "print(pd.merge(df1, df2, on='key', how='inner'))"
   ]
  },
  {
   "cell_type": "markdown",
   "id": "c47a97b3-1c1a-4151-a71a-6e42c8f7fbe9",
   "metadata": {},
   "source": [
    "**3. Joining** (index-based):"
   ]
  },
  {
   "cell_type": "code",
   "execution_count": 86,
   "id": "6e15f30c-7793-47af-932e-e07f0af4cc4c",
   "metadata": {},
   "outputs": [
    {
     "name": "stdout",
     "output_type": "stream",
     "text": [
      "   A  B\n",
      "x  1  3\n"
     ]
    }
   ],
   "source": [
    "df1 = pd.DataFrame({'A': [1, 2]}, index=['x', 'y'])\n",
    "df2 = pd.DataFrame({'B': [3, 4]}, index=['x', 'z'])\n",
    "print(df1.join(df2, how='inner'))"
   ]
  },
  {
   "cell_type": "markdown",
   "id": "67d51c78-b5c1-45f1-8aac-d9a5fa696b09",
   "metadata": {},
   "source": [
    "#### Reshaping and Pivoting\n",
    "DataFrames support reshaping for different data formats:\n",
    "\n",
    "**1. Pivot** (long to wide format):"
   ]
  },
  {
   "cell_type": "code",
   "execution_count": 89,
   "id": "b8e4d2b1-ab3b-4bce-8760-04eaef9cbcb9",
   "metadata": {},
   "outputs": [
    {
     "name": "stdout",
     "output_type": "stream",
     "text": [
      "bar    A    B\n",
      "foo          \n",
      "one  1.0  2.0\n",
      "two  3.0  NaN\n"
     ]
    }
   ],
   "source": [
    "df = pd.DataFrame({'foo': ['one', 'one', 'two'], 'bar': ['A', 'B', 'A'], 'baz': [1, 2, 3]})\n",
    "print(df.pivot(index='foo', columns='bar', values='baz'))"
   ]
  },
  {
   "cell_type": "markdown",
   "id": "a8433880-53d6-4f8d-a2b1-e12d1eb289a9",
   "metadata": {},
   "source": [
    "**2. Melt** (wide to long format):"
   ]
  },
  {
   "cell_type": "code",
   "execution_count": 92,
   "id": "3a7214a6-9366-43eb-b3b5-d2e7804eda73",
   "metadata": {},
   "outputs": [
    {
     "name": "stdout",
     "output_type": "stream",
     "text": [
      "   A variable  value\n",
      "0  1        B      3\n",
      "1  2        B      4\n"
     ]
    }
   ],
   "source": [
    "df = pd.DataFrame({'A': [1, 2], 'B': [3, 4]})\n",
    "print(pd.melt(df, id_vars='A', value_vars='B'))"
   ]
  },
  {
   "cell_type": "markdown",
   "id": "0fdc89cb-e6bf-412a-b4f1-aa50817580e4",
   "metadata": {},
   "source": [
    "#### Time-Series Functionality\n",
    "DataFrames excel at handling time-series data:"
   ]
  },
  {
   "cell_type": "code",
   "execution_count": null,
   "id": "de471b3e-c253-4748-b699-c90f01eeb4ff",
   "metadata": {},
   "outputs": [],
   "source": [
    "dates = pd.date_range('2023-01-01', periods=3)\n",
    "df = pd.DataFrame({'value': [10, 20, 30]}, index=dates)\n",
    "print(df.resample('M').mean())"
   ]
  }
 ],
 "metadata": {
  "kernelspec": {
   "display_name": "Python [conda env:base] *",
   "language": "python",
   "name": "conda-base-py"
  },
  "language_info": {
   "codemirror_mode": {
    "name": "ipython",
    "version": 3
   },
   "file_extension": ".py",
   "mimetype": "text/x-python",
   "name": "python",
   "nbconvert_exporter": "python",
   "pygments_lexer": "ipython3",
   "version": "3.12.7"
  }
 },
 "nbformat": 4,
 "nbformat_minor": 5
}
