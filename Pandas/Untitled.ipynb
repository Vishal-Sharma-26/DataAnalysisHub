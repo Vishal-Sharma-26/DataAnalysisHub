{
 "cells": [
  {
   "cell_type": "code",
   "execution_count": 1,
   "id": "9d431202-2ed4-4e00-8b87-a80759ba3aa7",
   "metadata": {},
   "outputs": [],
   "source": [
    "import pandas as pd\n",
    "import sqlite3\n",
    "\n",
    "# Sample data\n",
    "data = {\n",
    "    'id': [1, 2, 3, 4, 5],\n",
    "    'name': ['Alice', 'Bob', 'Charlie', 'David', 'Eva'],\n",
    "    'age': [25, 30, 22, 35, 28]\n",
    "}\n",
    "\n",
    "df = pd.DataFrame(data)"
   ]
  },
  {
   "cell_type": "code",
   "execution_count": 2,
   "id": "5ae7dbaf-976d-455d-be69-f13dedacec71",
   "metadata": {},
   "outputs": [
    {
     "data": {
      "text/html": [
       "<div>\n",
       "<style scoped>\n",
       "    .dataframe tbody tr th:only-of-type {\n",
       "        vertical-align: middle;\n",
       "    }\n",
       "\n",
       "    .dataframe tbody tr th {\n",
       "        vertical-align: top;\n",
       "    }\n",
       "\n",
       "    .dataframe thead th {\n",
       "        text-align: right;\n",
       "    }\n",
       "</style>\n",
       "<table border=\"1\" class=\"dataframe\">\n",
       "  <thead>\n",
       "    <tr style=\"text-align: right;\">\n",
       "      <th></th>\n",
       "      <th>id</th>\n",
       "      <th>name</th>\n",
       "      <th>age</th>\n",
       "    </tr>\n",
       "  </thead>\n",
       "  <tbody>\n",
       "    <tr>\n",
       "      <th>0</th>\n",
       "      <td>1</td>\n",
       "      <td>Alice</td>\n",
       "      <td>25</td>\n",
       "    </tr>\n",
       "    <tr>\n",
       "      <th>1</th>\n",
       "      <td>2</td>\n",
       "      <td>Bob</td>\n",
       "      <td>30</td>\n",
       "    </tr>\n",
       "    <tr>\n",
       "      <th>2</th>\n",
       "      <td>3</td>\n",
       "      <td>Charlie</td>\n",
       "      <td>22</td>\n",
       "    </tr>\n",
       "    <tr>\n",
       "      <th>3</th>\n",
       "      <td>4</td>\n",
       "      <td>David</td>\n",
       "      <td>35</td>\n",
       "    </tr>\n",
       "    <tr>\n",
       "      <th>4</th>\n",
       "      <td>5</td>\n",
       "      <td>Eva</td>\n",
       "      <td>28</td>\n",
       "    </tr>\n",
       "  </tbody>\n",
       "</table>\n",
       "</div>"
      ],
      "text/plain": [
       "   id     name  age\n",
       "0   1    Alice   25\n",
       "1   2      Bob   30\n",
       "2   3  Charlie   22\n",
       "3   4    David   35\n",
       "4   5      Eva   28"
      ]
     },
     "execution_count": 2,
     "metadata": {},
     "output_type": "execute_result"
    }
   ],
   "source": [
    "df"
   ]
  },
  {
   "cell_type": "code",
   "execution_count": 3,
   "id": "ab30b39a-deb0-4ee8-94a0-f8fffabd025d",
   "metadata": {},
   "outputs": [
    {
     "ename": "ModuleNotFoundError",
     "evalue": "No module named 'odf'",
     "output_type": "error",
     "traceback": [
      "\u001b[1;31m---------------------------------------------------------------------------\u001b[0m",
      "\u001b[1;31mModuleNotFoundError\u001b[0m                       Traceback (most recent call last)",
      "Cell \u001b[1;32mIn[3], line 31\u001b[0m\n\u001b[0;32m     27\u001b[0m df\u001b[38;5;241m.\u001b[39mto_string(\u001b[38;5;124m'\u001b[39m\u001b[38;5;124mdata_fixedwidth.txt\u001b[39m\u001b[38;5;124m'\u001b[39m, index\u001b[38;5;241m=\u001b[39m\u001b[38;5;28;01mFalse\u001b[39;00m)\n\u001b[0;32m     29\u001b[0m \u001b[38;5;66;03m# 10. OpenDocument Spreadsheet (.ods)\u001b[39;00m\n\u001b[0;32m     30\u001b[0m \u001b[38;5;66;03m# Requires: pip install odfpy\u001b[39;00m\n\u001b[1;32m---> 31\u001b[0m df\u001b[38;5;241m.\u001b[39mto_excel(\u001b[38;5;124m'\u001b[39m\u001b[38;5;124mdata.ods\u001b[39m\u001b[38;5;124m'\u001b[39m, engine\u001b[38;5;241m=\u001b[39m\u001b[38;5;124m'\u001b[39m\u001b[38;5;124modf\u001b[39m\u001b[38;5;124m'\u001b[39m, index\u001b[38;5;241m=\u001b[39m\u001b[38;5;28;01mFalse\u001b[39;00m)\n\u001b[0;32m     33\u001b[0m \u001b[38;5;66;03m# 11. XML\u001b[39;00m\n\u001b[0;32m     34\u001b[0m df\u001b[38;5;241m.\u001b[39mto_xml(\u001b[38;5;124m'\u001b[39m\u001b[38;5;124mdata.xml\u001b[39m\u001b[38;5;124m'\u001b[39m, index\u001b[38;5;241m=\u001b[39m\u001b[38;5;28;01mFalse\u001b[39;00m)\n",
      "File \u001b[1;32m~\\anaconda3\\Lib\\site-packages\\pandas\\util\\_decorators.py:333\u001b[0m, in \u001b[0;36mdeprecate_nonkeyword_arguments.<locals>.decorate.<locals>.wrapper\u001b[1;34m(*args, **kwargs)\u001b[0m\n\u001b[0;32m    327\u001b[0m \u001b[38;5;28;01mif\u001b[39;00m \u001b[38;5;28mlen\u001b[39m(args) \u001b[38;5;241m>\u001b[39m num_allow_args:\n\u001b[0;32m    328\u001b[0m     warnings\u001b[38;5;241m.\u001b[39mwarn(\n\u001b[0;32m    329\u001b[0m         msg\u001b[38;5;241m.\u001b[39mformat(arguments\u001b[38;5;241m=\u001b[39m_format_argument_list(allow_args)),\n\u001b[0;32m    330\u001b[0m         \u001b[38;5;167;01mFutureWarning\u001b[39;00m,\n\u001b[0;32m    331\u001b[0m         stacklevel\u001b[38;5;241m=\u001b[39mfind_stack_level(),\n\u001b[0;32m    332\u001b[0m     )\n\u001b[1;32m--> 333\u001b[0m \u001b[38;5;28;01mreturn\u001b[39;00m func(\u001b[38;5;241m*\u001b[39margs, \u001b[38;5;241m*\u001b[39m\u001b[38;5;241m*\u001b[39mkwargs)\n",
      "File \u001b[1;32m~\\anaconda3\\Lib\\site-packages\\pandas\\core\\generic.py:2417\u001b[0m, in \u001b[0;36mNDFrame.to_excel\u001b[1;34m(self, excel_writer, sheet_name, na_rep, float_format, columns, header, index, index_label, startrow, startcol, engine, merge_cells, inf_rep, freeze_panes, storage_options, engine_kwargs)\u001b[0m\n\u001b[0;32m   2404\u001b[0m \u001b[38;5;28;01mfrom\u001b[39;00m \u001b[38;5;21;01mpandas\u001b[39;00m\u001b[38;5;21;01m.\u001b[39;00m\u001b[38;5;21;01mio\u001b[39;00m\u001b[38;5;21;01m.\u001b[39;00m\u001b[38;5;21;01mformats\u001b[39;00m\u001b[38;5;21;01m.\u001b[39;00m\u001b[38;5;21;01mexcel\u001b[39;00m \u001b[38;5;28;01mimport\u001b[39;00m ExcelFormatter\n\u001b[0;32m   2406\u001b[0m formatter \u001b[38;5;241m=\u001b[39m ExcelFormatter(\n\u001b[0;32m   2407\u001b[0m     df,\n\u001b[0;32m   2408\u001b[0m     na_rep\u001b[38;5;241m=\u001b[39mna_rep,\n\u001b[1;32m   (...)\u001b[0m\n\u001b[0;32m   2415\u001b[0m     inf_rep\u001b[38;5;241m=\u001b[39minf_rep,\n\u001b[0;32m   2416\u001b[0m )\n\u001b[1;32m-> 2417\u001b[0m formatter\u001b[38;5;241m.\u001b[39mwrite(\n\u001b[0;32m   2418\u001b[0m     excel_writer,\n\u001b[0;32m   2419\u001b[0m     sheet_name\u001b[38;5;241m=\u001b[39msheet_name,\n\u001b[0;32m   2420\u001b[0m     startrow\u001b[38;5;241m=\u001b[39mstartrow,\n\u001b[0;32m   2421\u001b[0m     startcol\u001b[38;5;241m=\u001b[39mstartcol,\n\u001b[0;32m   2422\u001b[0m     freeze_panes\u001b[38;5;241m=\u001b[39mfreeze_panes,\n\u001b[0;32m   2423\u001b[0m     engine\u001b[38;5;241m=\u001b[39mengine,\n\u001b[0;32m   2424\u001b[0m     storage_options\u001b[38;5;241m=\u001b[39mstorage_options,\n\u001b[0;32m   2425\u001b[0m     engine_kwargs\u001b[38;5;241m=\u001b[39mengine_kwargs,\n\u001b[0;32m   2426\u001b[0m )\n",
      "File \u001b[1;32m~\\anaconda3\\Lib\\site-packages\\pandas\\io\\formats\\excel.py:943\u001b[0m, in \u001b[0;36mExcelFormatter.write\u001b[1;34m(self, writer, sheet_name, startrow, startcol, freeze_panes, engine, storage_options, engine_kwargs)\u001b[0m\n\u001b[0;32m    941\u001b[0m     need_save \u001b[38;5;241m=\u001b[39m \u001b[38;5;28;01mFalse\u001b[39;00m\n\u001b[0;32m    942\u001b[0m \u001b[38;5;28;01melse\u001b[39;00m:\n\u001b[1;32m--> 943\u001b[0m     writer \u001b[38;5;241m=\u001b[39m ExcelWriter(\n\u001b[0;32m    944\u001b[0m         writer,\n\u001b[0;32m    945\u001b[0m         engine\u001b[38;5;241m=\u001b[39mengine,\n\u001b[0;32m    946\u001b[0m         storage_options\u001b[38;5;241m=\u001b[39mstorage_options,\n\u001b[0;32m    947\u001b[0m         engine_kwargs\u001b[38;5;241m=\u001b[39mengine_kwargs,\n\u001b[0;32m    948\u001b[0m     )\n\u001b[0;32m    949\u001b[0m     need_save \u001b[38;5;241m=\u001b[39m \u001b[38;5;28;01mTrue\u001b[39;00m\n\u001b[0;32m    951\u001b[0m \u001b[38;5;28;01mtry\u001b[39;00m:\n",
      "File \u001b[1;32m~\\anaconda3\\Lib\\site-packages\\pandas\\io\\excel\\_odswriter.py:47\u001b[0m, in \u001b[0;36mODSWriter.__init__\u001b[1;34m(self, path, engine, date_format, datetime_format, mode, storage_options, if_sheet_exists, engine_kwargs, **kwargs)\u001b[0m\n\u001b[0;32m     35\u001b[0m \u001b[38;5;28;01mdef\u001b[39;00m \u001b[38;5;21m__init__\u001b[39m(\n\u001b[0;32m     36\u001b[0m     \u001b[38;5;28mself\u001b[39m,\n\u001b[0;32m     37\u001b[0m     path: FilePath \u001b[38;5;241m|\u001b[39m WriteExcelBuffer \u001b[38;5;241m|\u001b[39m ExcelWriter,\n\u001b[1;32m   (...)\u001b[0m\n\u001b[0;32m     45\u001b[0m     \u001b[38;5;241m*\u001b[39m\u001b[38;5;241m*\u001b[39mkwargs,\n\u001b[0;32m     46\u001b[0m ) \u001b[38;5;241m-\u001b[39m\u001b[38;5;241m>\u001b[39m \u001b[38;5;28;01mNone\u001b[39;00m:\n\u001b[1;32m---> 47\u001b[0m     \u001b[38;5;28;01mfrom\u001b[39;00m \u001b[38;5;21;01modf\u001b[39;00m\u001b[38;5;21;01m.\u001b[39;00m\u001b[38;5;21;01mopendocument\u001b[39;00m \u001b[38;5;28;01mimport\u001b[39;00m OpenDocumentSpreadsheet\n\u001b[0;32m     49\u001b[0m     \u001b[38;5;28;01mif\u001b[39;00m mode \u001b[38;5;241m==\u001b[39m \u001b[38;5;124m\"\u001b[39m\u001b[38;5;124ma\u001b[39m\u001b[38;5;124m\"\u001b[39m:\n\u001b[0;32m     50\u001b[0m         \u001b[38;5;28;01mraise\u001b[39;00m \u001b[38;5;167;01mValueError\u001b[39;00m(\u001b[38;5;124m\"\u001b[39m\u001b[38;5;124mAppend mode is not supported with odf!\u001b[39m\u001b[38;5;124m\"\u001b[39m)\n",
      "\u001b[1;31mModuleNotFoundError\u001b[0m: No module named 'odf'"
     ]
    }
   ],
   "source": [
    "# 1. CSV\n",
    "df.to_csv('data.csv', index=False)\n",
    "\n",
    "# 2. JSON\n",
    "df.to_json('data.json', orient='records', lines=True)\n",
    "\n",
    "# 3. Excel\n",
    "df.to_excel('data.xlsx', index=False)\n",
    "\n",
    "# 4. SQL Table (SQLite)\n",
    "conn = sqlite3.connect('data.db')\n",
    "df.to_sql('data_table', conn, if_exists='replace', index=False)\n",
    "\n",
    "# 5. Parquet\n",
    "df.to_parquet('data.parquet', index=False)\n",
    "\n",
    "# 6. HTML Table\n",
    "df.to_html('data.html', index=False)\n",
    "\n",
    "# 7. TSV\n",
    "df.to_csv('data.tsv', sep='\\t', index=False)\n",
    "\n",
    "# 8. TXT (as plain delimited text)\n",
    "df.to_csv('data.txt', sep='|', index=False)\n",
    "\n",
    "# 9. Fixed-width (FWF)\n",
    "df.to_string('data_fixedwidth.txt', index=False)\n",
    "\n",
    "# 10. OpenDocument Spreadsheet (.ods)\n",
    "# Requires: pip install odfpy\n",
    "df.to_excel('data.ods', engine='odf', index=False)\n",
    "\n",
    "# 11. XML\n",
    "df.to_xml('data.xml', index=False)\n",
    "\n",
    "# 12. Pickle\n",
    "df.to_pickle('data.pkl')\n",
    "\n",
    "# 13. Feather\n",
    "# Requires: pip install pyarrow or feather-format\n",
    "df.to_feather('data.feather')\n",
    "\n",
    "# 14. ORC\n",
    "# Requires: pip install pyarrow\n",
    "df.to_orc('data.orc', index=False)\n",
    "\n",
    "# 15. SAS (Not directly supported for write, only read)\n",
    "# You can use third-party libraries like `pyreadstat` to export to .sas7bdat\n",
    "\n",
    "# 16. SPSS (.sav)\n",
    "# Requires: pip install pyreadstat\n",
    "import pyreadstat\n",
    "pyreadstat.write_sav(df, 'data.sav')\n",
    "\n",
    "# 17. SQL Query (read back from SQL)\n",
    "df_from_query = pd.read_sql_query(\"SELECT * FROM data_table\", conn)\n",
    "\n",
    "# 18. SQL Table (already done above)\n",
    "\n",
    "# 19. Clipboard (copies to clipboard)\n",
    "df.to_clipboard(index=False)\n",
    "\n",
    "# 20. Google Sheets (requires gspread and credentials)\n",
    "# Google Sheets export requires OAuth setup or using public URL via CSV:\n",
    "# For a public sheet (shared with \"Anyone with link\"):\n",
    "# df.to_csv('https://docs.google.com/spreadsheets/d/your_sheet_id/export?format=csv')\n",
    "\n",
    "# OR using gspread (manual auth required):\n",
    "# import gspread\n",
    "# from gspread_dataframe import set_with_dataframe\n",
    "# gc = gspread.service_account(filename='your_credentials.json')\n",
    "# sh = gc.open('Your Spreadsheet Name')\n",
    "# worksheet = sh.get_worksheet(0)\n",
    "# set_with_dataframe(worksheet, df)\n"
   ]
  },
  {
   "cell_type": "code",
   "execution_count": null,
   "id": "c2712333-cc73-47b0-8cdc-23ea52f4e1f0",
   "metadata": {},
   "outputs": [],
   "source": [
    "<span style=\"color:orange\">filepath_or_buffer</span>"
   ]
  },
  {
   "cell_type": "code",
   "execution_count": 6,
   "id": "9394835b-a778-47f8-8dd1-1bb2606bd2fd",
   "metadata": {},
   "outputs": [],
   "source": [
    "df.to_orc('data.orc', index=False)"
   ]
  },
  {
   "cell_type": "code",
   "execution_count": 8,
   "id": "a54d759c-208f-47e9-8af5-ee2b94eeebd5",
   "metadata": {},
   "outputs": [],
   "source": [
    "df.to_feather('data.feather')"
   ]
  },
  {
   "cell_type": "code",
   "execution_count": 10,
   "id": "748ef1a2-10e8-4652-bf20-af52ee67933a",
   "metadata": {},
   "outputs": [],
   "source": [
    "df.to_pickle('data.pkl')"
   ]
  },
  {
   "cell_type": "code",
   "execution_count": 12,
   "id": "b48cbf52-b99b-4a87-99d8-271a95e69f49",
   "metadata": {},
   "outputs": [],
   "source": [
    "df.to_xml('data.xml', index=False)"
   ]
  },
  {
   "cell_type": "code",
   "execution_count": 14,
   "id": "be705725-541b-42fd-ac3e-a018151824b8",
   "metadata": {},
   "outputs": [
    {
     "name": "stdout",
     "output_type": "stream",
     "text": [
      "True\n"
     ]
    }
   ],
   "source": [
    "import os\n",
    "print(os.path.exists('data.xml'))  # Should print True"
   ]
  },
  {
   "cell_type": "code",
   "execution_count": 38,
   "id": "4e934958-29a4-4031-a543-6e7c23f56e75",
   "metadata": {},
   "outputs": [],
   "source": [
    "import pandas as pd\n",
    "import random\n",
    "import numpy as np\n",
    "\n",
    "# Sample data pools\n",
    "names = ['John', 'Alice', 'Bob', 'Diana', 'Steve', 'Karen', 'Mike', 'Linda', 'Tom', 'Emma']\n",
    "departments = ['HR', 'Finance', 'Engineering', 'Sales', 'Marketing', 'IT']\n",
    "\n",
    "# Generate the dataset\n",
    "data = {\n",
    "    'name': [random.choice(names) for _ in range(100)],\n",
    "    'age': [random.randint(22, 60) for _ in range(100)],\n",
    "    'salary': [random.randint(30000, 120000) for _ in range(100)],\n",
    "    'department': [random.choice(departments) for _ in range(100)]\n",
    "}"
   ]
  },
  {
   "cell_type": "code",
   "execution_count": 44,
   "id": "2a7e0ab2-82c3-45e4-a301-94307cef23f6",
   "metadata": {},
   "outputs": [
    {
     "name": "stdout",
     "output_type": "stream",
     "text": [
      "     name  age  salary   department\n",
      "0   Karen   53   48402        Sales\n",
      "1   Karen   36   50229           HR\n",
      "2     Tom   57   75397    Marketing\n",
      "3     Bob   32  118127    Marketing\n",
      "4    John   59   96237           IT\n",
      "..    ...  ...     ...          ...\n",
      "95  Karen   59   55519           IT\n",
      "96    Bob   26   74830    Marketing\n",
      "97   John   59   40323           IT\n",
      "98  Diana   42   53692  Engineering\n",
      "99  Linda   30   62561           IT\n",
      "\n",
      "[100 rows x 4 columns]\n"
     ]
    }
   ],
   "source": [
    "df1 = pd.DataFrame(data)\n",
    "print(df)"
   ]
  },
  {
   "cell_type": "code",
   "execution_count": 46,
   "id": "c9b0e992-427a-443e-99c3-c25602f4548b",
   "metadata": {},
   "outputs": [],
   "source": [
    "df1.to_csv('AnalysisData.csv', index=False)"
   ]
  },
  {
   "cell_type": "code",
   "execution_count": null,
   "id": "8f7ecda5-b31e-4d68-a731-214f8a69f961",
   "metadata": {},
   "outputs": [],
   "source": []
  }
 ],
 "metadata": {
  "kernelspec": {
   "display_name": "Python [conda env:base] *",
   "language": "python",
   "name": "conda-base-py"
  },
  "language_info": {
   "codemirror_mode": {
    "name": "ipython",
    "version": 3
   },
   "file_extension": ".py",
   "mimetype": "text/x-python",
   "name": "python",
   "nbconvert_exporter": "python",
   "pygments_lexer": "ipython3",
   "version": "3.12.7"
  }
 },
 "nbformat": 4,
 "nbformat_minor": 5
}
