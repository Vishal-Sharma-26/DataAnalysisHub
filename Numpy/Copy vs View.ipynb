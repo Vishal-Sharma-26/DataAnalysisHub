{
 "cells": [
  {
   "cell_type": "markdown",
   "id": "9aaa3b5a-e79b-4e19-b2a4-35fcc9271f17",
   "metadata": {},
   "source": [
    "# Array Copy vs View"
   ]
  },
  {
   "cell_type": "markdown",
   "id": "573ec00c-5e58-4ab0-9ada-31ec829fc2f8",
   "metadata": {},
   "source": [
    "In NumPy, understanding the difference between a copy and a view of an array is crucial for managing data efficiently and avoiding unintended modifications. Below, I’ll explain the concepts concisely, tying them to our prior discussions on NumPy arrays (0-D, 1-D, 2-D, 3-D, and higher-dimensional arrays), with examples for clarity."
   ]
  },
  {
   "cell_type": "markdown",
   "id": "63150613-2c77-4146-998a-041f329afb0b",
   "metadata": {},
   "source": [
    "### View\n",
    "A view is a new array object that refers to the same data as the original array (shallow copy).\n",
    "\n",
    "Modifying the view modifies the original array, and vice versa, as they share the same memory.\n",
    "    \n",
    "Operations like slicing, indexing, or reshaping often create views.\n",
    "\n",
    "Memory Efficiency: Views don’t duplicate data, saving memory.\n",
    "\n",
    "Check: Use array.base to see if an array is a view (None for originals/copies, original array for views).\n",
    "                                                    \n",
    "### Copy\n",
    "A copy is a new array with independent data (deep copy).\n",
    "    \n",
    "Modifying a copy does not affect the original array, and vice versa.\n",
    "    \n",
    "Created explicitly using copy() or operations that inherently duplicate data.\n",
    "    \n",
    "Memory Usage: Copies consume additional memory since data is duplicated.\n",
    "    "
   ]
  },
  {
   "cell_type": "code",
   "execution_count": 5,
   "id": "babf6226-d342-4a6d-a48d-163fe52e2975",
   "metadata": {},
   "outputs": [],
   "source": [
    "import numpy as np"
   ]
  },
  {
   "cell_type": "markdown",
   "id": "dc4cb925-3ab8-42d5-8af8-8dd1ae63a024",
   "metadata": {},
   "source": [
    "## 0-D Array\n",
    "0-D arrays (scalars) don’t support slicing, so views are less relevant. Copies are straightforward."
   ]
  },
  {
   "cell_type": "code",
   "execution_count": 7,
   "id": "a1045772-efc9-4c03-803d-4849649cbc6b",
   "metadata": {},
   "outputs": [
    {
     "name": "stdout",
     "output_type": "stream",
     "text": [
      "42\n",
      "99\n"
     ]
    }
   ],
   "source": [
    "arr = np.array(42)\n",
    "arr_copy = arr.copy()\n",
    "arr_copy = 99\n",
    "print(arr)   \n",
    "print(arr_copy)"
   ]
  },
  {
   "cell_type": "markdown",
   "id": "50d4cfd7-1cb1-4df3-a16c-ff44d95c8962",
   "metadata": {},
   "source": [
    "## 1-D Array\n",
    "Slicing creates a view; copy() creates a copy."
   ]
  },
  {
   "cell_type": "code",
   "execution_count": 12,
   "id": "949c3867-326d-41af-87e1-3dfd1c176225",
   "metadata": {},
   "outputs": [
    {
     "name": "stdout",
     "output_type": "stream",
     "text": [
      "[ 1 99  3  4]\n",
      "[99  3]\n",
      "[2 3]\n",
      "True\n"
     ]
    }
   ],
   "source": [
    "arr1 = np.array([1, 2, 3, 4])\n",
    "view_1d = arr1[1:3]  # View\n",
    "copy_1d = arr1[1:3].copy()  # Copy\n",
    "view_1d[0] = 99\n",
    "print(arr1)     \n",
    "print(view_1d)      \n",
    "print(copy_1d)      \n",
    "print(view_1d.base is arr1)"
   ]
  },
  {
   "cell_type": "markdown",
   "id": "ff45031a-b570-4794-9543-e6a376366989",
   "metadata": {},
   "source": [
    "## 2-D Array\n",
    "Slicing or reshaping creates views; copy() ensures independent data."
   ]
  },
  {
   "cell_type": "code",
   "execution_count": 15,
   "id": "779cacaf-31c8-495f-af7e-baee435e3780",
   "metadata": {},
   "outputs": [
    {
     "name": "stdout",
     "output_type": "stream",
     "text": [
      "[[ 1 99  3]\n",
      " [ 4  5  6]]\n",
      "[[99  3]\n",
      " [ 5  6]]\n",
      "[[2 3]\n",
      " [5 6]]\n"
     ]
    }
   ],
   "source": [
    "arr2 = np.array([[1, 2, 3], [4, 5, 6]])\n",
    "view_2d = arr2[:, 1:3]  # View\n",
    "copy_2d = arr2[:, 1:3].copy()  # Copy\n",
    "view_2d[0, 0] = 99\n",
    "print(arr2)     \n",
    "print(view_2d)      \n",
    "print(copy_2d)"
   ]
  },
  {
   "cell_type": "markdown",
   "id": "71bfdf62-5918-444a-ad1e-a7d10216c71d",
   "metadata": {},
   "source": [
    "## 3-D Array\n",
    "Views and copies work similarly, with views sharing data across all dimensions."
   ]
  },
  {
   "cell_type": "code",
   "execution_count": 18,
   "id": "2bbd28c1-c6af-4619-9c68-37357cec0716",
   "metadata": {},
   "outputs": [
    {
     "name": "stdout",
     "output_type": "stream",
     "text": [
      "[[[99  2]\n",
      "  [ 3  4]]\n",
      "\n",
      " [[ 5  6]\n",
      "  [ 7  8]]]\n",
      "[[99  2]\n",
      " [ 3  4]]\n",
      "[[1 2]\n",
      " [3 4]]\n"
     ]
    }
   ],
   "source": [
    "arr3 = np.array([[[1, 2], [3, 4]], [[5, 6], [7, 8]]])\n",
    "view_3d = arr3[0, :, :]  # View\n",
    "copy_3d = arr3[0, :, :].copy()  # Copy\n",
    "view_3d[0, 0] = 99\n",
    "print(arr3)    \n",
    "print(view_3d)     \n",
    "print(copy_3d)"
   ]
  },
  {
   "cell_type": "markdown",
   "id": "34fe40a6-2f5b-4188-87a5-a6b03ce11762",
   "metadata": {},
   "source": [
    "## Higher-Dimensional Arrays\n",
    "The same principles apply: slicing creates views, copy() creates independent arrays."
   ]
  },
  {
   "cell_type": "code",
   "execution_count": 21,
   "id": "45906151-c017-4ef2-af58-602d43e1512f",
   "metadata": {},
   "outputs": [
    {
     "name": "stdout",
     "output_type": "stream",
     "text": [
      "[[[[99  2]\n",
      "   [ 3  4]]]]\n",
      "[[[99  3]]]\n",
      "[[[1 3]]]\n"
     ]
    }
   ],
   "source": [
    "arr4 = np.array([[[[1, 2], [3, 4]]]])\n",
    "view_4d = arr4[:, :, :, 0]  # View\n",
    "copy_4d = arr4[:, :, :, 0].copy()  # Copy\n",
    "view_4d[0, 0, 0] = 99\n",
    "print(arr4) \n",
    "print(view_4d)      \n",
    "print(copy_4d)"
   ]
  },
  {
   "cell_type": "code",
   "execution_count": null,
   "id": "03db0095-6a7c-4383-97d0-385c97c7744f",
   "metadata": {},
   "outputs": [],
   "source": []
  }
 ],
 "metadata": {
  "kernelspec": {
   "display_name": "Python [conda env:base] *",
   "language": "python",
   "name": "conda-base-py"
  },
  "language_info": {
   "codemirror_mode": {
    "name": "ipython",
    "version": 3
   },
   "file_extension": ".py",
   "mimetype": "text/x-python",
   "name": "python",
   "nbconvert_exporter": "python",
   "pygments_lexer": "ipython3",
   "version": "3.12.7"
  }
 },
 "nbformat": 4,
 "nbformat_minor": 5
}
