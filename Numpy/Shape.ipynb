{
 "cells": [
  {
   "cell_type": "markdown",
   "id": "734687d4-8c02-4387-bee2-9735674f0aee",
   "metadata": {},
   "source": [
    "# Array Shape"
   ]
  },
  {
   "cell_type": "markdown",
   "id": "61ea900d-c4d3-4ea6-bd66-fe795957f709",
   "metadata": {},
   "source": [
    "In NumPy, the shape of an array defines its dimensions, expressed as a tuple of integers indicating the size along each axis. It describes how the data is organized, which is critical for operations like indexing, slicing, and reshaping. Below, I’ll explain array shapes for 0-D, 1-D, 2-D, 3-D, and higher-dimensional arrays, building on our prior discussions, with concise examples.\n",
    "\n",
    "### Array Shape Overview\n",
    "The shape is accessed via the shape attribute (e.g., array.shape).\n",
    "\n",
    "For an array with n dimensions, the shape tuple has n elements, each representing the length of the corresponding axis.\n",
    "    \n",
    "A 0-D array has an empty shape tuple ()."
   ]
  },
  {
   "cell_type": "code",
   "execution_count": null,
   "id": "2bf70e83-1b40-42d5-9d5e-72f960a3f517",
   "metadata": {},
   "outputs": [],
   "source": [
    "import numpy as np"
   ]
  },
  {
   "cell_type": "markdown",
   "id": "2d13d5e2-352d-4ba3-ad00-8cd6114b3141",
   "metadata": {},
   "source": [
    "## 0-D Array Shape\n",
    "A 0-D array (scalar) has no dimensions, so its shape is an empty tuple."
   ]
  },
  {
   "cell_type": "code",
   "execution_count": null,
   "id": "e57438a9-79ce-4ebf-aeb7-3b0e3ee2f651",
   "metadata": {},
   "outputs": [],
   "source": [
    "scalar = np.array(42)\n",
    "print(scalar.shape)"
   ]
  },
  {
   "cell_type": "markdown",
   "id": "21edb7c4-6f1c-499d-bb38-4ff17b51c165",
   "metadata": {},
   "source": [
    "## 1-D Array Shape\n",
    "A 1-D array has one dimension, and its shape is a tuple with one element: the number of elements."
   ]
  },
  {
   "cell_type": "code",
   "execution_count": null,
   "id": "2e9310de-b6a1-4a88-98f0-440c39262184",
   "metadata": {},
   "outputs": [],
   "source": [
    "array_1d = np.array([1, 2, 3, 4])\n",
    "print(array_1d.shape)"
   ]
  },
  {
   "cell_type": "markdown",
   "id": "d11dfb1d-cfe9-4ca1-8cb3-f77858425e21",
   "metadata": {},
   "source": [
    "## 2-D Array Shape\n",
    "A 2-D array (matrix) has two dimensions, and its shape is (rows, columns)."
   ]
  },
  {
   "cell_type": "code",
   "execution_count": null,
   "id": "608541ec-04b4-46c2-bda3-a6e0fb42d5e8",
   "metadata": {},
   "outputs": [],
   "source": [
    "array_2d = np.array([[1, 2, 3], [4, 5, 6]])\n",
    "print(array_2d.shape)"
   ]
  },
  {
   "cell_type": "markdown",
   "id": "eb337789-d13a-46ab-92d0-aa56a8d5c80b",
   "metadata": {},
   "source": [
    "## 3-D Array Shape\n",
    "A 3-D array has three dimensions, and its shape is (depth, rows, columns)."
   ]
  },
  {
   "cell_type": "code",
   "execution_count": null,
   "id": "ecf25d06-3525-4b0c-b59e-b70adafec56c",
   "metadata": {},
   "outputs": [],
   "source": [
    "array_3d = np.array([[[1, 2], [3, 4]], [[5, 6], [7, 8]]])\n",
    "print(array_3d.shape)"
   ]
  },
  {
   "cell_type": "markdown",
   "id": "8fc88a06-c961-4502-a583-694d738325f1",
   "metadata": {},
   "source": [
    "## Higher-Dimensional Array Shape\n",
    "For arrays with more than three dimensions, the shape tuple extends with one element per dimension, each indicating the size along that axis."
   ]
  },
  {
   "cell_type": "code",
   "execution_count": null,
   "id": "e024400f-699d-4bc1-b500-f9390d524a71",
   "metadata": {},
   "outputs": [],
   "source": [
    "array_4d = np.array([[[[1, 2], [3, 4]], [[5, 6], [7, 8]]]])\n",
    "print(array_4d.shape)"
   ]
  },
  {
   "cell_type": "markdown",
   "id": "c2ef0d23-0fbd-4c58-a97c-4fe6c78fcf58",
   "metadata": {},
   "source": [
    "## Key Notes\n",
    "Accessing Shape: Use array.shape to get the shape tuple.\n",
    "\n",
    "Number of Dimensions: Use array.ndim to get the number of dimensions (length of shape tuple).\n",
    "\n",
    "Reshaping: Change an array’s shape with reshape() as long as the total number of elements remains the same (e.g., a (2, 3) array can be reshaped to (3, 2) or (6,))."
   ]
  },
  {
   "cell_type": "code",
   "execution_count": null,
   "id": "fc43b871-b817-4b23-89fc-81f67f1273b4",
   "metadata": {},
   "outputs": [],
   "source": [
    "array_2d = np.array([[1, 2, 3], [4, 5, 6]])\n",
    "reshaped = array_2d.reshape(3, 2)\n",
    "print(reshaped.shape) \n",
    "print(reshaped)"
   ]
  },
  {
   "cell_type": "markdown",
   "id": "341d7cbd-a61f-48bb-9261-ebfde860b4c1",
   "metadata": {},
   "source": [
    "Total Elements: The product of shape values equals the total number of elements (e.g., (2, 3) has 2 * 3 = 6 elements).\n",
    "\n",
    "Empty Arrays: An empty array has a shape with at least one zero (e.g., (0, 3)).\n",
    "## Views vs. Copies in Shaping\n",
    "Reshaping or slicing typically creates a view (shares memory with the original).\n",
    "\n",
    "Use copy() for an independent array with a new shape."
   ]
  }
 ],
 "metadata": {
  "kernelspec": {
   "display_name": "Python [conda env:base] *",
   "language": "python",
   "name": "conda-base-py"
  },
  "language_info": {
   "codemirror_mode": {
    "name": "ipython",
    "version": 3
   },
   "file_extension": ".py",
   "mimetype": "text/x-python",
   "name": "python",
   "nbconvert_exporter": "python",
   "pygments_lexer": "ipython3",
   "version": "3.12.7"
  }
 },
 "nbformat": 4,
 "nbformat_minor": 5
}
