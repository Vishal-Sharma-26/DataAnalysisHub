{
 "cells": [
  {
   "cell_type": "markdown",
   "id": "f7c10c0f-07f1-467b-bd4a-2e0445a2de69",
   "metadata": {},
   "source": [
    "# Splitting Array\n",
    "In NumPy, splitting arrays divides a single array into multiple sub-arrays using functions like split, hsplit, vsplit, dsplit, or array_split. This builds on our prior discussions of array shapes, indexing, slicing, joining, and iteration for 0-D, 1-D, 2-D, 3-D, and higher-dimensional arrays. Below, I’ll explain splitting concisely with examples across these array types, focusing on how arrays are divided along specific axes.\n",
    "\n",
    "### Key Points\n",
    "Splitting creates new arrays (views or copies, depending on the method).\n",
    "Arrays must be divisible evenly along the specified axis for equal splits, or array_split handles uneven splits.\n",
    "Use axis to specify the dimension for splitting (default: axis=0).\n",
    "### Common functions:\n",
    "np.split: Divides into equal-sized sub-arrays (raises error if uneven).\n",
    "np.array_split: Allows uneven splits.\n",
    "np.hsplit: Splits horizontally (along columns, axis 1).\n",
    "np.vsplit: Splits vertically (along rows, axis 0).\n",
    "np.dsplit: Splits depth-wise (along axis 2, for 3-D+ arrays).\n",
    "### Splitting Across Array Dimensions"
   ]
  },
  {
   "cell_type": "code",
   "execution_count": 2,
   "id": "7964df3e-ace0-4495-a0ea-29a2c7ae850d",
   "metadata": {},
   "outputs": [],
   "source": [
    "import numpy as np"
   ]
  },
  {
   "cell_type": "markdown",
   "id": "afdfa0f8-9e4d-4ca1-8d81-36e8f540bed6",
   "metadata": {},
   "source": [
    "## 0-D Array (Scalar)\n",
    "A 0-D array (scalar) has no dimensions to split, so splitting is not applicable."
   ]
  },
  {
   "cell_type": "code",
   "execution_count": 5,
   "id": "1459384f-1819-4b38-a62b-a35d160c2e5e",
   "metadata": {},
   "outputs": [
    {
     "name": "stdout",
     "output_type": "stream",
     "text": [
      "42\n"
     ]
    }
   ],
   "source": [
    "scalar = np.array(42)\n",
    "# np.split(scalar, 2)  # Error: cannot split 0-D array\n",
    "print(scalar)"
   ]
  },
  {
   "cell_type": "markdown",
   "id": "f25bd9b7-d4f8-4209-9d84-0af1aa0a1395",
   "metadata": {},
   "source": [
    "## 1-D Array\n",
    "A 1-D array is split along its single axis (axis=0) into sub-arrays."
   ]
  },
  {
   "cell_type": "code",
   "execution_count": 8,
   "id": "3642b890-d81c-4fb9-9c09-22c2afed94fc",
   "metadata": {},
   "outputs": [
    {
     "name": "stdout",
     "output_type": "stream",
     "text": [
      "[array([1, 2]), array([3, 4])]\n"
     ]
    }
   ],
   "source": [
    "# Equal Split\n",
    "array_1d = np.array([1, 2, 3, 4])\n",
    "sub_arrays = np.split(array_1d, 2)  # Split into 2 equal parts\n",
    "print(sub_arrays)"
   ]
  },
  {
   "cell_type": "code",
   "execution_count": 10,
   "id": "54c577b2-2a51-47b3-b0fe-ad7127489f82",
   "metadata": {},
   "outputs": [
    {
     "name": "stdout",
     "output_type": "stream",
     "text": [
      "[array([1, 2]), array([3]), array([4])]\n"
     ]
    }
   ],
   "source": [
    "# Uneven Split with array_split\n",
    "sub_arrays = np.array_split(array_1d, 3)  # Uneven split into 3 parts\n",
    "print(sub_arrays)"
   ]
  },
  {
   "cell_type": "markdown",
   "id": "3cbca899-c71d-4a04-a1ef-c9c5ed8b2013",
   "metadata": {},
   "source": [
    "## 2-D Array\n",
    "A 2-D array can be split along axis=0 (rows, using vsplit) or axis=1 (columns, using hsplit)."
   ]
  },
  {
   "cell_type": "code",
   "execution_count": 13,
   "id": "4e418ee9-4d2c-4337-9ca5-f3d82b10188e",
   "metadata": {},
   "outputs": [
    {
     "name": "stdout",
     "output_type": "stream",
     "text": [
      "[array([[1, 2, 3]]), array([[4, 5, 6]])]\n",
      "(1, 3)\n"
     ]
    }
   ],
   "source": [
    "# vsplit, axis=0\n",
    "array_2d = np.array([[1, 2, 3], [4, 5, 6]])\n",
    "sub_arrays = np.vsplit(array_2d, 2)  # Split into 2 rows\n",
    "print(sub_arrays)  \n",
    "print(sub_arrays[0].shape)"
   ]
  },
  {
   "cell_type": "code",
   "execution_count": 15,
   "id": "dfcf8939-d330-4bd6-8047-5282b37d49fa",
   "metadata": {},
   "outputs": [
    {
     "name": "stdout",
     "output_type": "stream",
     "text": [
      "[array([[1],\n",
      "       [4]]), array([[2],\n",
      "       [5]]), array([[3],\n",
      "       [6]])]\n",
      "(2, 1)\n"
     ]
    }
   ],
   "source": [
    "# hsplit, axis=1\n",
    "sub_arrays = np.hsplit(array_2d, 3)  # Split into 3 columns\n",
    "print(sub_arrays)  \n",
    "print(sub_arrays[0].shape)"
   ]
  },
  {
   "cell_type": "markdown",
   "id": "06eebef8-5577-4eff-8e11-405311a582ad",
   "metadata": {},
   "source": [
    "## 3-D Array\n",
    "A 3-D array can be split along axis=0 (depth), axis=1 (rows), or axis=2 (columns, using dsplit)."
   ]
  },
  {
   "cell_type": "code",
   "execution_count": 18,
   "id": "44cf4809-ac4a-4f28-8db7-9fbd44d7c556",
   "metadata": {},
   "outputs": [
    {
     "name": "stdout",
     "output_type": "stream",
     "text": [
      "[array([[[1, 2],\n",
      "        [3, 4]]]), array([[[5, 6],\n",
      "        [7, 8]]])]\n",
      "(1, 2, 2)\n"
     ]
    }
   ],
   "source": [
    "# Split along axis=0\n",
    "array_3d = np.array([[[1, 2], [3, 4]], [[5, 6], [7, 8]]])\n",
    "sub_arrays = np.split(array_3d, 2, axis=0)  # Split into 2 depths\n",
    "print(sub_arrays) \n",
    "print(sub_arrays[0].shape)"
   ]
  },
  {
   "cell_type": "code",
   "execution_count": 20,
   "id": "4ef90a78-ca69-4bab-a511-3b13e39ae191",
   "metadata": {},
   "outputs": [
    {
     "name": "stdout",
     "output_type": "stream",
     "text": [
      "[array([[[1],\n",
      "        [3]],\n",
      "\n",
      "       [[5],\n",
      "        [7]]]), array([[[2],\n",
      "        [4]],\n",
      "\n",
      "       [[6],\n",
      "        [8]]])]\n",
      "(2, 2, 1)\n"
     ]
    }
   ],
   "source": [
    "# dsplit, axis=2\n",
    "sub_arrays = np.dsplit(array_3d, 2)  # Split along depth (axis=2)# Output: [array([[[1], [3]], [[5], [7]]]), array([[[2], [4]], [[6], [8]]])]\n",
    "print(sub_arrays)\n",
    "print(sub_arrays[0].shape)"
   ]
  },
  {
   "cell_type": "code",
   "execution_count": null,
   "id": "610a639e-cb4b-4441-88b9-4002e2fe1854",
   "metadata": {},
   "outputs": [],
   "source": []
  }
 ],
 "metadata": {
  "kernelspec": {
   "display_name": "Python [conda env:base] *",
   "language": "python",
   "name": "conda-base-py"
  },
  "language_info": {
   "codemirror_mode": {
    "name": "ipython",
    "version": 3
   },
   "file_extension": ".py",
   "mimetype": "text/x-python",
   "name": "python",
   "nbconvert_exporter": "python",
   "pygments_lexer": "ipython3",
   "version": "3.12.7"
  }
 },
 "nbformat": 4,
 "nbformat_minor": 5
}
