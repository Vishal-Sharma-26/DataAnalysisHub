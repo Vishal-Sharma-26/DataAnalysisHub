{
 "cells": [
  {
   "cell_type": "markdown",
   "id": "3104d85c-b85e-494a-a1c3-a4b0c9329fcc",
   "metadata": {},
   "source": [
    "## DataTypes\n",
    "In NumPy, data types (dtypes) define the type and size of elements in an array, optimizing memory and performance. Below, I’ll explain NumPy data types concisely, tying them to our prior discussion on 0-D, 1-D, 2-D, 3-D, and higher-dimensional arrays, with examples. I’ll keep it within the context of NumPy arrays and their usage."
   ]
  },
  {
   "cell_type": "markdown",
   "id": "43402db1-7a4f-4556-b7b5-9f5992b02868",
   "metadata": {},
   "source": [
    "## NumPy Data Types\n",
    "NumPy supports various data types, categorized by type and size (in bytes). Common ones include:\n",
    "\n",
    "Integer : int8, int16, int32, int64 (signed); uint8, uint16, uint32, uint64 (unsigned).\n",
    "\n",
    "Floating-point : float16, float32, float64, float128.\n",
    "\n",
    "Complex : complex64, complex128, complex256.\n",
    "\n",
    "Boolean : bool (True/False, 1 byte).\n",
    "\n",
    "String : str_ or unicode_ (fixed-length strings, e.g., <U10 for 10-character Unicode).\n",
    "\n",
    "Object : object (Python objects).\n",
    "\n",
    "Datetime : datetime64 (for dates and times).\n",
    "\n",
    "Timedelta : timedelta64 (for time differences)."
   ]
  },
  {
   "cell_type": "markdown",
   "id": "29d793b3-d269-41c4-8161-aef1d3bbce67",
   "metadata": {},
   "source": [
    "### Below is a list of all data types in NumPy and the characters used to represent them.\n",
    "\n",
    "i - integer\n",
    "\n",
    "b - boolean\n",
    "\n",
    "u - unsigned integer\n",
    "\n",
    "f - float\n",
    "\n",
    "c - complex float\n",
    "\n",
    "m - timedelta\n",
    "\n",
    "M - datetime\n",
    "\n",
    "O - object\n",
    "\n",
    "S - string\n",
    "\n",
    "U - unicode string\n",
    "\n",
    "V - fixed chunk of memory for other type ( void )\n"
   ]
  },
  {
   "cell_type": "markdown",
   "id": "5a9f84d2-e3fc-445d-bc0a-29c62176b7f4",
   "metadata": {},
   "source": [
    "## Data Types in Arrays\n",
    "Arrays have a single dtype for all elements, ensuring efficient computation. You can specify the dtype when creating an array or let NumPy infer it."
   ]
  },
  {
   "cell_type": "code",
   "execution_count": 5,
   "id": "47607580-e08f-41d3-97ba-6b14b1ad11d3",
   "metadata": {},
   "outputs": [],
   "source": [
    "import numpy as np"
   ]
  },
  {
   "cell_type": "markdown",
   "id": "f45b8d1b-8b96-4d80-bb9a-757a71265490",
   "metadata": {},
   "source": [
    "## 0-D Array (Scalar)\n",
    "A 0-D array holds a single value, and its dtype reflects that value’s type."
   ]
  },
  {
   "cell_type": "code",
   "execution_count": 7,
   "id": "62fdbc1c-297e-494e-b0d2-2ffab11eeb83",
   "metadata": {},
   "outputs": [
    {
     "name": "stdout",
     "output_type": "stream",
     "text": [
      "int32\n",
      "42\n"
     ]
    }
   ],
   "source": [
    "arr = np.array(42, dtype=np.int32)\n",
    "print(arr.dtype)  \n",
    "print(arr)      "
   ]
  },
  {
   "cell_type": "markdown",
   "id": "bce3c1b8-850a-4a94-92f8-bb96fee570d0",
   "metadata": {},
   "source": [
    "## 1-D Array\n",
    "A 1-D array’s dtype applies to all elements. Mixed types (e.g., integers and floats) are coerced to a compatible type."
   ]
  },
  {
   "cell_type": "code",
   "execution_count": 9,
   "id": "825af463-8443-4c8c-8c86-1613a32782ac",
   "metadata": {},
   "outputs": [
    {
     "name": "stdout",
     "output_type": "stream",
     "text": [
      "float64\n",
      "[1.  2.  3.5]\n"
     ]
    }
   ],
   "source": [
    "arr1 = np.array([1, 2, 3.5], dtype=np.float64)\n",
    "print(arr1.dtype) \n",
    "print(arr1)       "
   ]
  },
  {
   "cell_type": "markdown",
   "id": "ac90a06f-5642-4017-b006-9c3b9b6c446c",
   "metadata": {},
   "source": [
    "## 2-D Array\n",
    "A 2-D array uses one dtype for the entire matrix, ensuring uniformity."
   ]
  },
  {
   "cell_type": "code",
   "execution_count": 11,
   "id": "78b10eff-09b5-4f8e-98ea-21bd3ea8f729",
   "metadata": {},
   "outputs": [
    {
     "name": "stdout",
     "output_type": "stream",
     "text": [
      "uint8\n",
      "[[1 2]\n",
      " [3 4]]\n"
     ]
    }
   ],
   "source": [
    "arr2 = np.array([[1, 2], [3, 4]], dtype=np.uint8)\n",
    "print(arr2.dtype) \n",
    "print(arr2)"
   ]
  },
  {
   "cell_type": "markdown",
   "id": "aca7b731-b11d-469f-bfcf-ef14ef76590e",
   "metadata": {},
   "source": [
    "## 3-D Array\n",
    "A 3-D array also enforces a single dtype across all elements in its cube-like structure."
   ]
  },
  {
   "cell_type": "code",
   "execution_count": 13,
   "id": "1774259e-e39e-4de7-839b-d54fa8b3d7bd",
   "metadata": {},
   "outputs": [
    {
     "name": "stdout",
     "output_type": "stream",
     "text": [
      "float32\n",
      "[[[1. 2.]\n",
      "  [3. 4.]]\n",
      "\n",
      " [[5. 6.]\n",
      "  [7. 8.]]]\n"
     ]
    }
   ],
   "source": [
    "arr3 = np.array([[[1, 2], [3, 4]], [[5, 6], [7, 8]]], dtype=np.float32)\n",
    "print(arr3.dtype) \n",
    "print(arr3)"
   ]
  },
  {
   "cell_type": "markdown",
   "id": "1efa176c-59ca-4f21-8a11-2573be67d811",
   "metadata": {},
   "source": [
    "## Higher-Dimensional Arrays\n",
    "Higher-dimensional arrays follow the same principle: one dtype for all elements, regardless of dimensions."
   ]
  },
  {
   "cell_type": "code",
   "execution_count": 15,
   "id": "480e7e1e-26d3-48c4-b1bf-2255d3b3d70e",
   "metadata": {},
   "outputs": [
    {
     "name": "stdout",
     "output_type": "stream",
     "text": [
      "complex64\n",
      "[[[[1.+0.j 2.+0.j]\n",
      "   [3.+0.j 4.+0.j]]]]\n"
     ]
    }
   ],
   "source": [
    "arr4 = np.array([[[[1, 2], [3, 4]]]], dtype=np.complex64)\n",
    "print(arr4.dtype) \n",
    "print(arr4)"
   ]
  },
  {
   "cell_type": "markdown",
   "id": "928ef9bf-1662-4cf6-af27-16d1b0f95ebd",
   "metadata": {},
   "source": [
    "## Additional Notes\n",
    "Type Casting: Use astype() to convert dtypes, e.g., array_1d.astype(np.int32).\n",
    "\n",
    "Inference: If no dtype is specified, NumPy infers the smallest compatible type (e.g., int64 for integers, float64 for floats).\n",
    "                                                                                \n",
    "Memory Efficiency: Choose smaller dtypes (e.g., int8 vs. int64) for large arrays to save memory, if values fit.\n",
    "                                                                                \n",
    "Checking Dtype: Use array.dtype to view the dtype.\n",
    "                                                                                \n",
    "String Dtypes: Specify length, e.g., np.array(['cat', 'dog'], dtype='<U3') truncates strings to 3 characters."
   ]
  },
  {
   "cell_type": "code",
   "execution_count": null,
   "id": "f072815e-8d55-4b2d-82b7-65eefe99e0bc",
   "metadata": {},
   "outputs": [],
   "source": []
  }
 ],
 "metadata": {
  "kernelspec": {
   "display_name": "Python [conda env:base] *",
   "language": "python",
   "name": "conda-base-py"
  },
  "language_info": {
   "codemirror_mode": {
    "name": "ipython",
    "version": 3
   },
   "file_extension": ".py",
   "mimetype": "text/x-python",
   "name": "python",
   "nbconvert_exporter": "python",
   "pygments_lexer": "ipython3",
   "version": "3.12.7"
  }
 },
 "nbformat": 4,
 "nbformat_minor": 5
}
