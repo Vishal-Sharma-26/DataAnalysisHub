{
 "cells": [
  {
   "cell_type": "markdown",
   "id": "c0dc67d9-943f-4b47-9ab9-9fb01d1d5491",
   "metadata": {},
   "source": [
    "# Sorting Arrays\n",
    "In NumPy, array sorting arranges elements in a specified order (ascending or descending) using functions like np.sort, np.argsort, np.partition, or methods like array.sort(). This builds on our prior discussions of array shapes, indexing, slicing, joining, splitting, searching, and iteration for 0-D, 1-D, 2-D, 3-D, and higher-dimensional arrays. Below, I’ll explain key sorting methods concisely with examples across these array types, focusing on sorting along axes and handling different data types.\n",
    "\n",
    "### Key Sorting Methods\n",
    "np.sort(array, axis=-1, kind='quicksort'): Returns a sorted copy of the array.\n",
    "    \n",
    "array.sort(axis=-1): Sorts the array in-place (modifies original).\n",
    "\n",
    "np.argsort(array, axis=-1): Returns indices that would sort the array.\n",
    "    \n",
    "np.partition(array, kth, axis=-1): Partially sorts, placing kth smallest/largest elements in position.\n",
    "\n",
    "np.lexsort(keys): Sorts by multiple keys (e.g., sort by one column, then another).\n",
    "\n",
    "### Key Parameters\n",
    "axis: Specifies dimension to sort (default: -1, last axis). Use None to flatten and sort.\n",
    "\n",
    "kind: Sorting algorithm ('quicksort', 'mergesort', 'heapsort', 'stable'; default: 'quicksort').\n",
    "\n",
    "order: For structured arrays, sorts by specified field(s).\n",
    "\n",
    "#### Sorting Across Array Dimensions"
   ]
  },
  {
   "cell_type": "markdown",
   "id": "961971a0-d590-4887-86eb-c4d358df4b49",
   "metadata": {},
   "source": [
    "## 0-D Array (Scalar)\n",
    "A 0-D array has one element, so sorting is not applicable."
   ]
  },
  {
   "cell_type": "code",
   "execution_count": null,
   "id": "2e78b779-f418-4006-a173-b2034e506184",
   "metadata": {},
   "outputs": [],
   "source": [
    "import numpy as np\n",
    "scalar = np.array(42)\n",
    "print(np.sort(scalar))"
   ]
  },
  {
   "cell_type": "markdown",
   "id": "21ddb047-07f1-4cfb-bba0-fc828cb3496d",
   "metadata": {},
   "source": [
    "## 1-D Array\n",
    "Sorts elements in ascending order by default, or returns indices with argsort."
   ]
  },
  {
   "cell_type": "code",
   "execution_count": 7,
   "id": "6a9b15e8-888f-4f82-90eb-c83f1df73490",
   "metadata": {},
   "outputs": [
    {
     "name": "stdout",
     "output_type": "stream",
     "text": [
      "[1 2 3 4]\n",
      "[3 1 4 2]\n"
     ]
    }
   ],
   "source": [
    "array_1d = np.array([3, 1, 4, 2])\n",
    "sorted_array = np.sort(array_1d)\n",
    "print(sorted_array) \n",
    "print(array_1d)"
   ]
  },
  {
   "cell_type": "code",
   "execution_count": 9,
   "id": "aaaf331d-fdd0-4773-af53-6a3fa01cc0ff",
   "metadata": {},
   "outputs": [
    {
     "name": "stdout",
     "output_type": "stream",
     "text": [
      "[1 3 0 2]\n",
      "[1 2 3 4]\n"
     ]
    }
   ],
   "source": [
    "# argsort\n",
    "indices = np.argsort(array_1d)\n",
    "print(indices)\n",
    "print(array_1d[indices])"
   ]
  },
  {
   "cell_type": "code",
   "execution_count": 11,
   "id": "51d6b749-3dc9-41c0-98ae-8d4ab095165e",
   "metadata": {},
   "outputs": [
    {
     "name": "stdout",
     "output_type": "stream",
     "text": [
      "[1 2 3 4]\n"
     ]
    }
   ],
   "source": [
    "# in-place sort\n",
    "array_1d.sort()\n",
    "print(array_1d)"
   ]
  },
  {
   "cell_type": "markdown",
   "id": "687377c9-9a09-410b-be51-39b3d15f21f1",
   "metadata": {},
   "source": [
    "## 2-D Array\n",
    "Sort along a specific axis (rows or columns) or flatten for a 1-D sorted array."
   ]
  },
  {
   "cell_type": "code",
   "execution_count": 14,
   "id": "db5d3269-328d-4651-9d66-7134e49242a2",
   "metadata": {},
   "outputs": [
    {
     "name": "stdout",
     "output_type": "stream",
     "text": [
      "[[3 2 1]\n",
      " [6 5 4]]\n"
     ]
    }
   ],
   "source": [
    "# Sort along axis=0, rows\n",
    "array_2d = np.array([[3, 2, 1], [6, 5, 4]])\n",
    "sorted_array = np.sort(array_2d, axis=0)\n",
    "print(sorted_array)"
   ]
  },
  {
   "cell_type": "code",
   "execution_count": 16,
   "id": "99fe2564-899d-435f-b789-c91e3c95127c",
   "metadata": {},
   "outputs": [
    {
     "name": "stdout",
     "output_type": "stream",
     "text": [
      "[[1 2 3]\n",
      " [4 5 6]]\n"
     ]
    }
   ],
   "source": [
    "# Sort along axis=1, columns\n",
    "sorted_array = np.sort(array_2d, axis=1)\n",
    "print(sorted_array)"
   ]
  },
  {
   "cell_type": "code",
   "execution_count": 18,
   "id": "006c6886-181c-40f0-a6e4-f09d43d25dc4",
   "metadata": {},
   "outputs": [
    {
     "name": "stdout",
     "output_type": "stream",
     "text": [
      "[1 2 3 4 5 6]\n"
     ]
    }
   ],
   "source": [
    "# Flatten and sort\n",
    "sorted_flat = np.sort(array_2d, axis=None)\n",
    "print(sorted_flat)"
   ]
  },
  {
   "cell_type": "markdown",
   "id": "00090196-93ab-4237-851e-c7b5dc43625c",
   "metadata": {},
   "source": [
    "## 3-D Array\n",
    "Sort along any axis (depth, rows, columns) or flatten."
   ]
  },
  {
   "cell_type": "code",
   "execution_count": 21,
   "id": "aa1527ec-b5e1-48a7-b9bc-4f78c3c8c0e4",
   "metadata": {},
   "outputs": [
    {
     "name": "stdout",
     "output_type": "stream",
     "text": [
      "[[[1 4]\n",
      "  [2 3]]\n",
      "\n",
      " [[6 7]\n",
      "  [5 8]]]\n"
     ]
    }
   ],
   "source": [
    "# Sort along axis=2, columns\n",
    "array_3d = np.array([[[4, 1], [3, 2]], [[7, 6], [8, 5]]])\n",
    "sorted_array = np.sort(array_3d, axis=2)\n",
    "print(sorted_array)"
   ]
  },
  {
   "cell_type": "code",
   "execution_count": 23,
   "id": "547b002e-283d-42d4-a393-bf97d0e87ef2",
   "metadata": {},
   "outputs": [
    {
     "name": "stdout",
     "output_type": "stream",
     "text": [
      "[[[1 0]\n",
      "  [0 1]]\n",
      "\n",
      " [[0 1]\n",
      "  [1 0]]]\n"
     ]
    }
   ],
   "source": [
    "# argsort along axis=1\n",
    "indices = np.argsort(array_3d, axis=1)\n",
    "print(indices)"
   ]
  },
  {
   "cell_type": "markdown",
   "id": "270ce521-3c16-4a03-b5c4-2b86dcdb9799",
   "metadata": {},
   "source": [
    "## Higher-Dimensional Arrays\n",
    "Sorting extends to any axis, with similar behavior."
   ]
  },
  {
   "cell_type": "code",
   "execution_count": 26,
   "id": "a1f38454-8cab-4ee6-8824-c1d5254b6e57",
   "metadata": {},
   "outputs": [
    {
     "name": "stdout",
     "output_type": "stream",
     "text": [
      "[[[[1 4]\n",
      "   [2 3]]\n",
      "\n",
      "  [[6 7]\n",
      "   [5 8]]]]\n"
     ]
    }
   ],
   "source": [
    "# 4-D Array\n",
    "array_4d = np.array([[[[4, 1], [3, 2]], [[7, 6], [8, 5]]]])\n",
    "sorted_array = np.sort(array_4d, axis=3)\n",
    "print(sorted_array)"
   ]
  },
  {
   "cell_type": "markdown",
   "id": "0e8dbc11-674e-4029-9fac-c4e6d717b42d",
   "metadata": {},
   "source": [
    "### Sorting with Different Data Types"
   ]
  },
  {
   "cell_type": "markdown",
   "id": "b590b5b5-35ef-46a0-a4b7-7cd7615aa9ba",
   "metadata": {},
   "source": [
    "##### Strings:"
   ]
  },
  {
   "cell_type": "code",
   "execution_count": 30,
   "id": "d8178539-1b49-4c5a-89a4-1ff94877fb3e",
   "metadata": {},
   "outputs": [
    {
     "name": "stdout",
     "output_type": "stream",
     "text": [
      "['apple' 'banana' 'cherry']\n"
     ]
    }
   ],
   "source": [
    "array_str = np.array(['banana', 'apple', 'cherry'])\n",
    "print(np.sort(array_str))"
   ]
  },
  {
   "cell_type": "markdown",
   "id": "8632ceea-73f4-468a-9d99-46267ead6886",
   "metadata": {},
   "source": [
    "##### Structured Arrays:"
   ]
  },
  {
   "cell_type": "code",
   "execution_count": 33,
   "id": "313fa379-246c-4afe-bc6a-871785550429",
   "metadata": {},
   "outputs": [
    {
     "name": "stdout",
     "output_type": "stream",
     "text": [
      "[('Alice', 25) ('Bob', 30)]\n"
     ]
    }
   ],
   "source": [
    "dtype = [('name', 'U10'), ('age', int)]\n",
    "array_struct = np.array([('Alice', 25), ('Bob', 30)], dtype=dtype)\n",
    "print(np.sort(array_struct, order='age'))"
   ]
  },
  {
   "cell_type": "markdown",
   "id": "e9eaa4c7-1ec9-4762-b930-eb71fdf8ffeb",
   "metadata": {},
   "source": [
    "### Advanced Sorting\n",
    "##### Partial Sorting (partition):"
   ]
  },
  {
   "cell_type": "code",
   "execution_count": 36,
   "id": "3ff746a2-60cc-43e8-b6fa-5c247498b4f3",
   "metadata": {},
   "outputs": [
    {
     "name": "stdout",
     "output_type": "stream",
     "text": [
      "[1 2 3 4]\n"
     ]
    }
   ],
   "source": [
    "array_1d = np.array([3, 1, 4, 2])\n",
    "print(np.partition(array_1d, 2))"
   ]
  },
  {
   "cell_type": "markdown",
   "id": "bc61fe99-c955-48cc-9f0c-f75aedc76ca2",
   "metadata": {},
   "source": [
    "##### Descending Order: Use [::-1] on sorted array or negate for argsort."
   ]
  },
  {
   "cell_type": "code",
   "execution_count": 41,
   "id": "8b726b48-c035-4192-a107-2edf7dd17ef6",
   "metadata": {},
   "outputs": [
    {
     "name": "stdout",
     "output_type": "stream",
     "text": [
      "[4 3 2 1]\n"
     ]
    }
   ],
   "source": [
    "print(np.sort(array_1d)[::-1])"
   ]
  },
  {
   "cell_type": "markdown",
   "id": "1a3d5fee-9620-4a34-b3e5-20bf66c4fa81",
   "metadata": {},
   "source": [
    "##### Lexsort (Multi-key sorting):"
   ]
  },
  {
   "cell_type": "code",
   "execution_count": 44,
   "id": "5a93ac5c-3da5-4171-955b-163c6bdf8c20",
   "metadata": {},
   "outputs": [
    {
     "name": "stdout",
     "output_type": "stream",
     "text": [
      "['Alice' 'Charlie' 'Bob']\n"
     ]
    }
   ],
   "source": [
    "names = np.array(['Bob', 'Alice', 'Charlie'])\n",
    "ages = np.array([30, 25, 25])\n",
    "indices = np.lexsort((names, ages))  # Sort by age, then name\n",
    "print(names[indices])"
   ]
  },
  {
   "cell_type": "markdown",
   "id": "4a917b89-637d-4e58-9b10-6a6460072404",
   "metadata": {},
   "source": [
    "## Key Notes\n",
    "Performance: NumPy sorting is optimized (O(n log n) for quicksort). Avoid Python’s sorted for large arrays.\n",
    "\n",
    "Views vs. Copies: np.sort returns a copy; array.sort() modifies in-place; argsort returns indices.\n",
    "\n",
    "NaN Handling: NaN values are sorted to the end."
   ]
  },
  {
   "cell_type": "code",
   "execution_count": null,
   "id": "c3b2d57e-d3cd-4862-975b-e46a6fde411e",
   "metadata": {},
   "outputs": [],
   "source": []
  }
 ],
 "metadata": {
  "kernelspec": {
   "display_name": "Python [conda env:base] *",
   "language": "python",
   "name": "conda-base-py"
  },
  "language_info": {
   "codemirror_mode": {
    "name": "ipython",
    "version": 3
   },
   "file_extension": ".py",
   "mimetype": "text/x-python",
   "name": "python",
   "nbconvert_exporter": "python",
   "pygments_lexer": "ipython3",
   "version": "3.12.7"
  }
 },
 "nbformat": 4,
 "nbformat_minor": 5
}
