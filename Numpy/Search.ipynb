{
 "cells": [
  {
   "cell_type": "markdown",
   "id": "79e1b26b-1f11-4ada-827d-7db1f65fc6de",
   "metadata": {},
   "source": [
    "# Searching Arrays\n",
    "In NumPy, array search operations locate elements or their indices based on specific conditions or values. This builds on our prior discussions of array shapes, indexing, slicing, joining, splitting, and iteration for 0-D, 1-D, 2-D, 3-D, and higher-dimensional arrays. Below, I’ll explain key search methods (where, argmax, argmin, searchsorted, nonzero, argwhere) concisely with examples across these array types, ensuring compatibility with shapes and dimensions. These methods are optimized for performance on large arrays.\n",
    "### Key Search Methods\n",
    "np.where(condition[, x, y]): Returns indices where condition is True or selects elements from x or y based on condition.\n",
    "np.argmax: Returns the index of the maximum value (optionally along an axis).\n",
    "np.nanargmax: Like argmax, but ignores NaN values.\n",
    "np.argmin / np.nanargmin: Returns the index of the minimum value, with nanargmin ignoring NaN.\n",
    "np.searchsorted: Performs binary search on a sorted array to find where a value would be inserted.\n",
    "np.nonzero: Returns indices of non-zero elements.\n",
    "np.argwhere: Returns indices of elements satisfying a condition, grouped by element.\n",
    "### Search Across Array Dimensions"
   ]
  },
  {
   "cell_type": "code",
   "execution_count": 2,
   "id": "2d9050ac-cb4e-4fdb-9d07-de1d660431d4",
   "metadata": {},
   "outputs": [],
   "source": [
    "import numpy as np"
   ]
  },
  {
   "cell_type": "markdown",
   "id": "09037769-7c75-4ea8-86e9-954646f49c72",
   "metadata": {},
   "source": [
    "## 0-D Array (Scalar)\n",
    "A 0-D array has one element, so searching is trivial—check the value directly."
   ]
  },
  {
   "cell_type": "code",
   "execution_count": 5,
   "id": "dcb228e3-0a7b-4d7a-9dbd-ef7e750f9a0b",
   "metadata": {},
   "outputs": [
    {
     "name": "stdout",
     "output_type": "stream",
     "text": [
      "(array([0], dtype=int64),)\n"
     ]
    },
    {
     "name": "stderr",
     "output_type": "stream",
     "text": [
      "C:\\Users\\vigla\\AppData\\Local\\Temp\\ipykernel_19260\\2616341987.py:2: DeprecationWarning: Calling nonzero on 0d arrays is deprecated, as it behaves surprisingly. Use `atleast_1d(cond).nonzero()` if the old behavior was intended. If the context of this warning is of the form `arr[nonzero(cond)]`, just use `arr[cond]`.\n",
      "  result = np.where(scalar == 42)\n"
     ]
    }
   ],
   "source": [
    "scalar = np.array(42)\n",
    "result = np.where(scalar == 42)\n",
    "print(result)"
   ]
  },
  {
   "cell_type": "markdown",
   "id": "4bff0a6d-ad4c-407f-85e6-ac87222f515f",
   "metadata": {},
   "source": [
    "## 1-D Array\n",
    "Search for indices of specific values or conditions, returning a tuple of indices."
   ]
  },
  {
   "cell_type": "code",
   "execution_count": 8,
   "id": "001ee5bc-9a90-47b2-872d-532a4e5ed6ee",
   "metadata": {},
   "outputs": [
    {
     "name": "stdout",
     "output_type": "stream",
     "text": [
      "(array([1, 4], dtype=int64),)\n"
     ]
    }
   ],
   "source": [
    "array_1d = np.array([1, 2, 3, 4, 2])\n",
    "result = np.where(array_1d == 2)\n",
    "print(result)"
   ]
  },
  {
   "cell_type": "code",
   "execution_count": 10,
   "id": "d9c615db-2e99-48cf-bd81-d9f235c4f8a9",
   "metadata": {},
   "outputs": [
    {
     "name": "stdout",
     "output_type": "stream",
     "text": [
      "3\n",
      "0\n"
     ]
    }
   ],
   "source": [
    "# argmax/argmin\n",
    "print(np.argmax(array_1d))\n",
    "print(np.argmin(array_1d))"
   ]
  },
  {
   "cell_type": "code",
   "execution_count": 14,
   "id": "295efd35-0093-4dd3-964e-b4e180310f73",
   "metadata": {},
   "outputs": [
    {
     "name": "stdout",
     "output_type": "stream",
     "text": [
      "2\n"
     ]
    }
   ],
   "source": [
    "# searchsorted\n",
    "sorted_array = np.array([1, 2, 3, 4])\n",
    "print(np.searchsorted(sorted_array, 3))"
   ]
  },
  {
   "cell_type": "markdown",
   "id": "fefeee36-5ac1-4e90-96d8-f643ece29d9b",
   "metadata": {},
   "source": [
    "## 2-D Array\n",
    "Search along axes or element-wise, returning indices as tuples (row, column)."
   ]
  },
  {
   "cell_type": "code",
   "execution_count": 19,
   "id": "f0fb0ffe-97bf-40e4-b884-4690f5f50bab",
   "metadata": {},
   "outputs": [
    {
     "name": "stdout",
     "output_type": "stream",
     "text": [
      "(array([0, 1], dtype=int64), array([1, 2], dtype=int64))\n",
      "[(0, 1), (1, 2)]\n"
     ]
    }
   ],
   "source": [
    "array_2d = np.array([[1, 2, 3], [4, 5, 2]])\n",
    "result = np.where(array_2d == 2)\n",
    "print(result)\n",
    "print(list(zip(result[0], result[1])))"
   ]
  },
  {
   "cell_type": "code",
   "execution_count": 21,
   "id": "a6069b83-e917-436d-9e60-90d99d33dd8b",
   "metadata": {},
   "outputs": [
    {
     "name": "stdout",
     "output_type": "stream",
     "text": [
      "[2 1]\n"
     ]
    }
   ],
   "source": [
    "# argmax along axis\n",
    "print(np.argmax(array_2d, axis=1))"
   ]
  },
  {
   "cell_type": "markdown",
   "id": "802175a0-553b-4c68-a131-722c838c2196",
   "metadata": {},
   "source": [
    "## 3-D Array\n",
    "Search returns indices as tuples (depth, row, column) or along specific axes."
   ]
  },
  {
   "cell_type": "code",
   "execution_count": 24,
   "id": "5554b28b-714f-412a-9802-38c4e2cd50fe",
   "metadata": {},
   "outputs": [
    {
     "name": "stdout",
     "output_type": "stream",
     "text": [
      "(array([0, 1], dtype=int64), array([0, 0], dtype=int64), array([1, 1], dtype=int64))\n"
     ]
    }
   ],
   "source": [
    "array_3d = np.array([[[1, 2], [3, 4]], [[5, 2], [7, 8]]])\n",
    "result = np.where(array_3d == 2)\n",
    "print(result)"
   ]
  },
  {
   "cell_type": "code",
   "execution_count": 26,
   "id": "bacb88b5-da5f-4729-8321-b9e25cc2145a",
   "metadata": {},
   "outputs": [
    {
     "name": "stdout",
     "output_type": "stream",
     "text": [
      "(array([0, 0, 0, 0, 1, 1, 1, 1], dtype=int64), array([0, 0, 1, 1, 0, 0, 1, 1], dtype=int64), array([0, 1, 0, 1, 0, 1, 0, 1], dtype=int64))\n"
     ]
    }
   ],
   "source": [
    "# nonzero\n",
    "print(np.nonzero(array_3d))"
   ]
  },
  {
   "cell_type": "markdown",
   "id": "bc2b2b2c-cfdf-4b15-b1d5-7bfc3a61d211",
   "metadata": {},
   "source": [
    "## Higher-Dimensional Arrays\n",
    "Search extends similarly, with indices for each dimension.\n",
    "\n",
    "4-D Array with argwhere"
   ]
  },
  {
   "cell_type": "code",
   "execution_count": 30,
   "id": "e2fe7fc0-accc-467d-8736-b0b6c6e4ce84",
   "metadata": {},
   "outputs": [
    {
     "name": "stdout",
     "output_type": "stream",
     "text": [
      "[[0 0 0 1]\n",
      " [0 1 0 1]]\n"
     ]
    }
   ],
   "source": [
    "array_4d = np.array([[[[1, 2], [3, 4]], [[5, 2], [7, 8]]]])\n",
    "result = np.argwhere(array_4d == 2)\n",
    "print(result)"
   ]
  },
  {
   "cell_type": "markdown",
   "id": "1b2a341b-fd8f-4121-83b3-acafe82ad2f2",
   "metadata": {},
   "source": [
    "## Advanced Search Features"
   ]
  },
  {
   "cell_type": "markdown",
   "id": "790ec0f9-77a2-480c-a8ed-757fe3628116",
   "metadata": {},
   "source": [
    "##### NaN Handling:"
   ]
  },
  {
   "cell_type": "code",
   "execution_count": 34,
   "id": "8a17a9c2-212a-4a4e-b2ed-21bcd76cb6e8",
   "metadata": {},
   "outputs": [
    {
     "name": "stdout",
     "output_type": "stream",
     "text": [
      "3\n"
     ]
    }
   ],
   "source": [
    "array_1d = np.array([1, np.nan, 3, 4])\n",
    "print(np.nanargmax(array_1d))"
   ]
  },
  {
   "cell_type": "markdown",
   "id": "ba232f97-a16d-47f5-96b0-e4e12d6a34c0",
   "metadata": {},
   "source": [
    "##### Multiple Values (searchsorted)"
   ]
  },
  {
   "cell_type": "code",
   "execution_count": 37,
   "id": "e8e1d2a8-b892-4247-92e4-b2090d4ae315",
   "metadata": {},
   "outputs": [
    {
     "name": "stdout",
     "output_type": "stream",
     "text": [
      "[1 4]\n"
     ]
    }
   ],
   "source": [
    "sorted_array = np.array([1, 2, 3, 4])\n",
    "print(np.searchsorted(sorted_array, [2, 5]))"
   ]
  },
  {
   "cell_type": "code",
   "execution_count": null,
   "id": "d00fcdd6-b4ba-442b-8f41-39490c2bd85d",
   "metadata": {},
   "outputs": [],
   "source": [
    "####Boolean Conditions"
   ]
  }
 ],
 "metadata": {
  "kernelspec": {
   "display_name": "Python [conda env:base] *",
   "language": "python",
   "name": "conda-base-py"
  },
  "language_info": {
   "codemirror_mode": {
    "name": "ipython",
    "version": 3
   },
   "file_extension": ".py",
   "mimetype": "text/x-python",
   "name": "python",
   "nbconvert_exporter": "python",
   "pygments_lexer": "ipython3",
   "version": "3.12.7"
  }
 },
 "nbformat": 4,
 "nbformat_minor": 5
}
