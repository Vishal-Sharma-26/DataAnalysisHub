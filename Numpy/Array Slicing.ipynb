{
 "cells": [
  {
   "cell_type": "markdown",
   "id": "514ce7cb-cac0-4703-8f83-472643163d77",
   "metadata": {},
   "source": [
    "# Array Slicing\n",
    "NumPy array slicing allows extracting subsets of arrays using index ranges or conditions across dimensions. Below, I’ll explain slicing for arrays of different dimensions (building on our prior discussion of 0-D, 1-D, 2-D, 3-D, and higher-dimensional arrays) with concise explanations and examples. Slicing syntax is [start:end:step], where start, end, and step are optional, and indices are zero-based."
   ]
  },
  {
   "cell_type": "code",
   "execution_count": 3,
   "id": "97c9bf80-9f40-4233-b2e0-e9a543f16712",
   "metadata": {},
   "outputs": [],
   "source": [
    "import numpy as np"
   ]
  },
  {
   "cell_type": "markdown",
   "id": "5ef6e28f-ba10-486e-86ae-de5ed5b9e3d8",
   "metadata": {},
   "source": [
    "## 0-D Array Slicing\n",
    "A 0-D array (scalar) has no dimensions to slice, so slicing isn’t applicable. You access the single value directly."
   ]
  },
  {
   "cell_type": "code",
   "execution_count": 5,
   "id": "1972937e-0f3d-49d5-ac18-2f1dfa9dcca5",
   "metadata": {},
   "outputs": [
    {
     "name": "stdout",
     "output_type": "stream",
     "text": [
      "42\n"
     ]
    }
   ],
   "source": [
    "arr = np.array(42)\n",
    "print(arr)"
   ]
  },
  {
   "cell_type": "markdown",
   "id": "61b0735c-6edb-4006-8ce8-51332b77ae20",
   "metadata": {},
   "source": [
    "## 1-D Array Slicing\n",
    "A 1-D array is sliced using a single range [start:end:step]. Omitting start or end implies the beginning or end of the array."
   ]
  },
  {
   "cell_type": "code",
   "execution_count": 8,
   "id": "6c150f45-5c38-4bba-ab21-2b198ad6c19c",
   "metadata": {},
   "outputs": [
    {
     "name": "stdout",
     "output_type": "stream",
     "text": [
      "[2 3 4]\n",
      "[1 2 3]\n",
      "[1 3 5]\n",
      "[4 5]\n"
     ]
    }
   ],
   "source": [
    "array_1d = np.array([1, 2, 3, 4, 5])\n",
    "print(array_1d[1:4])      # [2 3 4] (elements from index 1 to 3)\n",
    "print(array_1d[:3])       # [1 2 3] (start to index 2)\n",
    "print(array_1d[::2])      # [1 3 5] (every second element)\n",
    "print(array_1d[-2:])      # [4 5] (last two elements)"
   ]
  },
  {
   "cell_type": "markdown",
   "id": "1c53c31e-b9e1-443c-8a23-fac8553d96dd",
   "metadata": {},
   "source": [
    "## 2-D Array Slicing\n",
    "A 2-D array uses two ranges: [row_start:row_end:row_step, col_start:col_end:col_step]. Each dimension is sliced independently."
   ]
  },
  {
   "cell_type": "code",
   "execution_count": 11,
   "id": "c247001b-fed2-457a-9523-7cc7cb738955",
   "metadata": {},
   "outputs": [
    {
     "name": "stdout",
     "output_type": "stream",
     "text": [
      "[[2 3]\n",
      " [5 6]]\n",
      "[2 5 8]\n",
      "[[1 2 3]\n",
      " [7 8 9]]\n"
     ]
    }
   ],
   "source": [
    "array_2d = np.array([[1, 2, 3], [4, 5, 6], [7, 8, 9]])\n",
    "print(array_2d[0:2, 1:3])  # [[2 3] [5 6]] (rows 0-1, columns 1-2)\n",
    "print(array_2d[:, 1])      # [2 5 8] (all rows, column 1)\n",
    "print(array_2d[::2, :])    # [[1 2 3] [7 8 9]] (every second row)"
   ]
  },
  {
   "cell_type": "markdown",
   "id": "0fc2006d-2d04-4660-a169-bacacb064bb0",
   "metadata": {},
   "source": [
    "## 3-D Array Slicing\n",
    "A 3-D array uses three ranges: [depth_start:depth_end:depth_step, row_start:row_end:row_step, col_start:col_end:col_step]."
   ]
  },
  {
   "cell_type": "code",
   "execution_count": 14,
   "id": "3900b01a-4edd-4af9-b052-4cda915114a4",
   "metadata": {},
   "outputs": [
    {
     "name": "stdout",
     "output_type": "stream",
     "text": [
      "[[1 2]\n",
      " [3 4]]\n",
      "[3 7]\n",
      "[[[1 2]]\n",
      "\n",
      " [[5 6]]]\n"
     ]
    }
   ],
   "source": [
    "array_3d = np.array([[[1, 2], [3, 4]], [[5, 6], [7, 8]]])\n",
    "print(array_3d[0, :, :])     # [[1 2] [3 4]] (all rows and columns in depth 0)\n",
    "print(array_3d[:, 1, 0])     # [3 7] (all depths, row 1, column 0)\n",
    "print(array_3d[0:2, 0:1, :]) # [[[1 2]] [[5 6]]] (depth 0-1, row 0, all columns)"
   ]
  },
  {
   "cell_type": "markdown",
   "id": "6910fd1f-a9eb-422c-943e-ffe5eab2761f",
   "metadata": {},
   "source": [
    "## Additional Slicing Techniques\n",
    "Negative Indices: Use negative values to slice from the end (e.g., -2: for the last two elements).\n",
    "\n",
    "Step: Controls the interval (e.g., ::2 for every second element).\n",
    "\n",
    "Boolean Slicing: Use conditions for filtering. Example: array_1d[array_1d > 3] returns [4, 5].\n",
    "\n",
    "Ellipsis (...): Represents all remaining dimensions. Example: array_4d[..., 1] slices the last dimension."
   ]
  },
  {
   "cell_type": "markdown",
   "id": "a00acaf4-9ece-4c09-bd3e-c3343c74059c",
   "metadata": {},
   "source": [
    "## Notes\n",
    "Slices return views, not copies, so modifying a slice modifies the original array.\n",
    "    \n",
    "Out-of-bounds slices are handled gracefully (e.g., array_1d[10:15] returns an empty array if indices exceed bounds).\n",
    "                                             \n",
    "Default values: start=0, end=length, step=1."
   ]
  },
  {
   "cell_type": "code",
   "execution_count": null,
   "id": "984136f4-d9d3-4ffa-a81f-124807eb3065",
   "metadata": {},
   "outputs": [],
   "source": []
  }
 ],
 "metadata": {
  "kernelspec": {
   "display_name": "Python [conda env:base] *",
   "language": "python",
   "name": "conda-base-py"
  },
  "language_info": {
   "codemirror_mode": {
    "name": "ipython",
    "version": 3
   },
   "file_extension": ".py",
   "mimetype": "text/x-python",
   "name": "python",
   "nbconvert_exporter": "python",
   "pygments_lexer": "ipython3",
   "version": "3.12.7"
  }
 },
 "nbformat": 4,
 "nbformat_minor": 5
}
