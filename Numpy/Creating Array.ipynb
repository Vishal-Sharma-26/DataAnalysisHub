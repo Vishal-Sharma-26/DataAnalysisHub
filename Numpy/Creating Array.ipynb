{
 "cells": [
  {
   "cell_type": "code",
   "execution_count": 1,
   "id": "a6743122-797e-4084-99b6-cb04afc8bfbc",
   "metadata": {},
   "outputs": [],
   "source": [
    "import numpy as np"
   ]
  },
  {
   "cell_type": "markdown",
   "id": "f2a07310-3bc8-4a76-ade7-3a98f0dc1740",
   "metadata": {},
   "source": [
    "## Dimensions in Arrays\n",
    "A dimension in arrays is one level of array depth (nested arrays)."
   ]
  },
  {
   "cell_type": "markdown",
   "id": "c7750d60-ce8c-4d5b-932c-2ff0a56cc231",
   "metadata": {},
   "source": [
    "## 0-D Arrays\n",
    "A 0-D array, or scalar, is a single data element in NumPy, lacking dimensions, representing a single value."
   ]
  },
  {
   "cell_type": "code",
   "execution_count": 4,
   "id": "5e404da7-6066-48a8-9ee0-bd0e07809d12",
   "metadata": {},
   "outputs": [
    {
     "data": {
      "text/plain": [
       "array(42)"
      ]
     },
     "execution_count": 4,
     "metadata": {},
     "output_type": "execute_result"
    }
   ],
   "source": [
    "arr = np.array(42)\n",
    "arr"
   ]
  },
  {
   "cell_type": "markdown",
   "id": "87a14586-058d-4734-ba16-c1f877f6962a",
   "metadata": {},
   "source": [
    "## 1-D Arrays\n",
    "A 1-D array in NumPy is a linear sequence of elements, like a list, with one dimension, storing multiple values."
   ]
  },
  {
   "cell_type": "code",
   "execution_count": 6,
   "id": "cde48d2d-17e1-49d5-bee8-a33e8e2727bb",
   "metadata": {},
   "outputs": [
    {
     "name": "stdout",
     "output_type": "stream",
     "text": [
      "[1 2 3 4]\n"
     ]
    }
   ],
   "source": [
    "arr1 = np.array([1, 2, 3, 4])\n",
    "print(arr1)"
   ]
  },
  {
   "cell_type": "markdown",
   "id": "52f98568-41ac-40a6-aed4-444fb37e3ff1",
   "metadata": {},
   "source": [
    "## 2-D Arrays\n",
    "A 2-D array in NumPy is a matrix-like structure with rows and columns, having two dimensions, storing tabular data."
   ]
  },
  {
   "cell_type": "code",
   "execution_count": 8,
   "id": "d12a5b88-48c0-466e-a656-821b7790fb4c",
   "metadata": {},
   "outputs": [
    {
     "name": "stdout",
     "output_type": "stream",
     "text": [
      "[[1 2 3]\n",
      " [4 5 6]]\n"
     ]
    }
   ],
   "source": [
    "arr2 = np.array([[1, 2, 3], [4, 5, 6]])\n",
    "print(arr2)"
   ]
  },
  {
   "cell_type": "markdown",
   "id": "a86fd9d7-2d8e-4722-962c-a7cf8e63cdc7",
   "metadata": {},
   "source": [
    "## 3-D Arrays\n",
    "A 3-D array in NumPy is a multi-layered matrix, with three dimensions, organizing data in a cube-like structure."
   ]
  },
  {
   "cell_type": "code",
   "execution_count": 10,
   "id": "9cfc3911-22f2-40fd-8c50-b0801a6004ec",
   "metadata": {},
   "outputs": [
    {
     "name": "stdout",
     "output_type": "stream",
     "text": [
      "[[[1 2]\n",
      "  [3 4]]\n",
      "\n",
      " [[5 6]\n",
      "  [7 8]]]\n"
     ]
    }
   ],
   "source": [
    "arr3 = np.array([[[1, 2], [3, 4]], [[5, 6], [7, 8]]])\n",
    "print(arr3)"
   ]
  },
  {
   "cell_type": "markdown",
   "id": "a95349be-27c8-4655-988b-c0dfded14727",
   "metadata": {},
   "source": [
    "## Check Number of Dimensions?\n",
    "To check the number of dimensions in a NumPy array, use the .ndim attribute, which returns the array's dimensionality."
   ]
  },
  {
   "cell_type": "code",
   "execution_count": 12,
   "id": "a8705eb7-a4a4-4556-8728-7c5a9aa16635",
   "metadata": {},
   "outputs": [
    {
     "name": "stdout",
     "output_type": "stream",
     "text": [
      "number of dimensions : 0\n",
      "number of dimensions : 1\n",
      "number of dimensions : 2\n",
      "number of dimensions : 3\n"
     ]
    }
   ],
   "source": [
    "print('number of dimensions :', arr.ndim)\n",
    "print('number of dimensions :', arr1.ndim)\n",
    "print('number of dimensions :', arr2.ndim)\n",
    "print('number of dimensions :', arr3.ndim)"
   ]
  },
  {
   "cell_type": "markdown",
   "id": "0c671bfa-cde2-427b-9699-b66d82541f92",
   "metadata": {},
   "source": [
    "## Higher Dimensional Arrays\n",
    "An array can have any number of dimensions.\n",
    "\n",
    "When the array is created, you can define the number of dimensions by using the ndmin argument."
   ]
  },
  {
   "cell_type": "code",
   "execution_count": 14,
   "id": "f15ac0b5-cad4-4216-89b4-40b22b9bfa2c",
   "metadata": {},
   "outputs": [
    {
     "name": "stdout",
     "output_type": "stream",
     "text": [
      "[[[[[1 2 3 4]]]]]\n",
      "number of dimensions : 5\n"
     ]
    }
   ],
   "source": [
    "arr4 = np.array([1, 2, 3, 4], ndmin=5)\n",
    "\n",
    "print(arr4)\n",
    "print('number of dimensions :', arr4.ndim)"
   ]
  },
  {
   "cell_type": "code",
   "execution_count": null,
   "id": "f70c503a-d54f-4a20-9017-697a88729adf",
   "metadata": {},
   "outputs": [],
   "source": []
  }
 ],
 "metadata": {
  "kernelspec": {
   "display_name": "Python [conda env:base] *",
   "language": "python",
   "name": "conda-base-py"
  },
  "language_info": {
   "codemirror_mode": {
    "name": "ipython",
    "version": 3
   },
   "file_extension": ".py",
   "mimetype": "text/x-python",
   "name": "python",
   "nbconvert_exporter": "python",
   "pygments_lexer": "ipython3",
   "version": "3.12.7"
  }
 },
 "nbformat": 4,
 "nbformat_minor": 5
}
