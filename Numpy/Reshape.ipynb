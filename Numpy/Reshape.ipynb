{
 "cells": [
  {
   "cell_type": "markdown",
   "id": "507ca72a-512e-440a-b6e3-f70c37d6d422",
   "metadata": {},
   "source": [
    "# Array Reshape\n",
    "In NumPy, reshaping changes an array’s shape (dimensions) without altering its data, provided the total number of elements remains the same. The reshape() method or np.reshape() function is used to reorganize the array’s structure. This builds on our prior discussion of array shapes, indexing, slicing, and copy vs. view for 0-D, 1-D, 2-D, 3-D, and higher-dimensional arrays. Below, I’ll explain reshaping with concise examples across these array types.\n",
    "## Key Points\n",
    "Reshape Requirement: The product of the new shape’s dimensions must equal the total number of elements in the original array.\n",
    "\n",
    "View vs. Copy: reshape() typically creates a view (shares memory with the original). Use copy() for an independent array.\n",
    "\n",
    "Syntax: array.reshape(new_shape) or np.reshape(array, new_shape), where new_shape is a tuple or integers.\n",
    "\n",
    "Flattening: Reshape to 1-D using reshape(-1) or flatten()/ravel() (latter may return a view)."
   ]
  },
  {
   "cell_type": "markdown",
   "id": "0f585930-c744-4721-929a-3d92fa43bce0",
   "metadata": {},
   "source": [
    "## Reshaping Across Array Dimensions"
   ]
  },
  {
   "cell_type": "code",
   "execution_count": 4,
   "id": "d73f680e-f7ba-44ae-a32c-3c9ec91622b8",
   "metadata": {},
   "outputs": [],
   "source": [
    "import numpy as np"
   ]
  },
  {
   "cell_type": "markdown",
   "id": "24b4c8cd-3761-494d-a69d-3e0f5029f967",
   "metadata": {},
   "source": [
    "## 0-D Array\n",
    "A 0-D array (scalar) has one element and cannot be reshaped since it lacks dimensions to reorganize."
   ]
  },
  {
   "cell_type": "code",
   "execution_count": 7,
   "id": "6e852619-a919-42af-a0f7-f887d2c22239",
   "metadata": {},
   "outputs": [
    {
     "name": "stdout",
     "output_type": "stream",
     "text": [
      "()\n"
     ]
    }
   ],
   "source": [
    "arr = np.array(42)\n",
    "# aar.reshape(1, 1)  # Error: cannot reshape array of size 1 into any other shape\n",
    "print(arr.shape)"
   ]
  },
  {
   "cell_type": "markdown",
   "id": "560c4842-a640-44a1-93de-0fef1634c0c7",
   "metadata": {},
   "source": [
    "## 1-D Array\n",
    "A 1-D array can be reshaped into compatible higher dimensions (e.g., 2-D, 3-D) if the total number of elements matches."
   ]
  },
  {
   "cell_type": "code",
   "execution_count": 10,
   "id": "ee6dfe79-0ea4-438e-b43e-241e34093f9c",
   "metadata": {},
   "outputs": [
    {
     "name": "stdout",
     "output_type": "stream",
     "text": [
      "[[1 2]\n",
      " [3 4]]\n",
      "(2, 2)\n",
      "[[99  2]\n",
      " [ 3  4]]\n"
     ]
    }
   ],
   "source": [
    "arr1 = np.array([1, 2, 3, 4])\n",
    "arr2 = arr1.reshape(2, 2) \n",
    "print(arr2)      \n",
    "print(arr2.shape) \n",
    "arr1[0] = 99      \n",
    "print(arr2)"
   ]
  },
  {
   "cell_type": "markdown",
   "id": "786c47b2-be5f-4ecf-b904-1da56144035b",
   "metadata": {},
   "source": [
    "## 2-D Array\n",
    "A 2-D array can be reshaped to 1-D, another 2-D shape, or higher dimensions, as long as the element count is preserved."
   ]
  },
  {
   "cell_type": "code",
   "execution_count": 13,
   "id": "eca8be73-3a72-47ed-b527-ba93307ef1b8",
   "metadata": {},
   "outputs": [
    {
     "name": "stdout",
     "output_type": "stream",
     "text": [
      "[1 2 3 4 5 6]\n",
      "[[[1 2 3]]\n",
      "\n",
      " [[4 5 6]]]\n",
      "(2, 1, 3)\n"
     ]
    }
   ],
   "source": [
    "arr2 = np.array([[1, 2, 3], [4, 5, 6]])\n",
    "arr1 = arr2.reshape(-1)  \n",
    "print(arr1)       \n",
    "arr3 = arr2.reshape(2, 1, 3)  \n",
    "print(arr3)       \n",
    "print(arr3.shape)"
   ]
  },
  {
   "cell_type": "markdown",
   "id": "aed9aef8-35de-4b71-a15a-3fd0d4b6b10b",
   "metadata": {},
   "source": [
    "## 3-D Array\n",
    "A 3-D array can be reshaped into 1-D, 2-D, or another 3-D shape, or higher dimensions, maintaining the total element count."
   ]
  },
  {
   "cell_type": "code",
   "execution_count": 16,
   "id": "69afc4af-3e63-42ed-b77a-28204d83e6d0",
   "metadata": {},
   "outputs": [
    {
     "name": "stdout",
     "output_type": "stream",
     "text": [
      "[[1 2 3 4]\n",
      " [5 6 7 8]]\n",
      "[1 2 3 4 5 6 7 8]\n"
     ]
    }
   ],
   "source": [
    "arr3 = np.array([[[1, 2], [3, 4]], [[5, 6], [7, 8]]])\n",
    "arr2 = arr3.reshape(2, 4)  \n",
    "print(arr2)       \n",
    "arr1 = arr3.reshape(-1)  \n",
    "print(arr1)"
   ]
  },
  {
   "cell_type": "markdown",
   "id": "d3a55441-00c7-457d-99b1-725424f93dfb",
   "metadata": {},
   "source": [
    "## Higher-Dimensional Arrays\n",
    "Higher-dimensional arrays follow the same logic: reshape into any compatible shape with the same total number of elements."
   ]
  },
  {
   "cell_type": "code",
   "execution_count": 19,
   "id": "a76403ce-e420-481c-8b20-df9a729ca6d3",
   "metadata": {},
   "outputs": [
    {
     "name": "stdout",
     "output_type": "stream",
     "text": [
      "(1, 2, 2, 2)\n",
      "[[1 2]\n",
      " [3 4]\n",
      " [5 6]\n",
      " [7 8]]\n",
      "[[[1 2]\n",
      "  [3 4]]\n",
      "\n",
      " [[5 6]\n",
      "  [7 8]]]\n"
     ]
    }
   ],
   "source": [
    "arr4 = np.array([[[[1, 2], [3, 4]], [[5, 6], [7, 8]]]])\n",
    "print(arr4.shape)  \n",
    "arr2 = arr4.reshape(4, 2)  \n",
    "print(arr2)       \n",
    "arr3 = arr4.reshape(2, 2, 2) \n",
    "print(arr3)"
   ]
  },
  {
   "cell_type": "markdown",
   "id": "c2adc8d4-eeaa-4a7e-b9c0-2ddb35fd7615",
   "metadata": {},
   "source": [
    "## Additional Notes\n",
    "Invalid Shapes: Reshaping fails if the new shape’s element count doesn’t match (e.g., reshaping (2, 3) to (2, 4) raises an error)."
   ]
  },
  {
   "cell_type": "code",
   "execution_count": null,
   "id": "e9f81df1-d706-45f0-aeef-d7aa7ce2f1f3",
   "metadata": {},
   "outputs": [],
   "source": [
    "array_2d.reshape(2, 4)  # Error: cannot reshape array of size 6 into shape (2, 4)"
   ]
  },
  {
   "cell_type": "code",
   "execution_count": null,
   "id": "eb61b846-b2fe-410b-a6f4-2daf1ac00a21",
   "metadata": {},
   "outputs": [],
   "source": []
  }
 ],
 "metadata": {
  "kernelspec": {
   "display_name": "Python [conda env:base] *",
   "language": "python",
   "name": "conda-base-py"
  },
  "language_info": {
   "codemirror_mode": {
    "name": "ipython",
    "version": 3
   },
   "file_extension": ".py",
   "mimetype": "text/x-python",
   "name": "python",
   "nbconvert_exporter": "python",
   "pygments_lexer": "ipython3",
   "version": "3.12.7"
  }
 },
 "nbformat": 4,
 "nbformat_minor": 5
}
