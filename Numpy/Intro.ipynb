{
 "cells": [
  {
   "cell_type": "markdown",
   "id": "8aeadded-b230-45a3-acea-d071989d4d67",
   "metadata": {},
   "source": [
    "# 🔹 What is NumPy?\n",
    "NumPy is a Python library used for working with arrays. It also provides tools for performing mathematical, logical, statistical, and Fourier operations on arrays efficiently.\n",
    "\n",
    "## It is widely used in:\n",
    "\n",
    "Data science\n",
    " \n",
    "Machine learning\n",
    "\n",
    "Scientific computing\n",
    "\n",
    "Image processing"
   ]
  },
  {
   "cell_type": "markdown",
   "id": "17a936d7-743b-4bd8-a2a6-2d7a8d2c958f",
   "metadata": {},
   "source": [
    "# 🔹 Why Use NumPy?\n",
    "Fast: Operations are performed in compiled C code (faster than Python lists)\n",
    "\n",
    "Memory-efficient\n",
    "\n",
    "Supports multi-dimensional arrays\n",
    "\n",
    "Has powerful broadcasting and vectorization"
   ]
  },
  {
   "cell_type": "markdown",
   "id": "b330ed3a-97ee-4e47-b667-88f1b3c0bef3",
   "metadata": {},
   "source": [
    "# 🚀 Why is NumPy Faster Than Python Lists?\n",
    "NumPy is faster than lists because it is designed for numerical computation and is implemented in a way that optimizes performance."
   ]
  },
  {
   "cell_type": "markdown",
   "id": "8eaf2398-bb13-4048-bc4a-ce67f03d56c4",
   "metadata": {},
   "source": [
    "## 🔑 1. Fixed Data Type (Homogeneous)\n",
    "Python lists are heterogeneous (can hold different types like int, float, str).\n",
    "\n",
    "NumPy arrays are homogeneous, meaning all elements are of the same data type, which allows faster processing and less memory usage."
   ]
  },
  {
   "cell_type": "code",
   "execution_count": null,
   "id": "95319dff-45cd-4b75-a9a3-b10c30a31caf",
   "metadata": {},
   "outputs": [],
   "source": [
    "import numpy as np\n",
    "a = np.array([1, 2, 3])\n",
    "print(a.dtype)  # int64"
   ]
  },
  {
   "cell_type": "markdown",
   "id": "457354ab-f1ba-44b3-b5c9-17adfdbb2ff3",
   "metadata": {},
   "source": [
    "## 🔑 2. Contiguous Memory Allocation\n",
    "Python lists store references to objects scattered in memory.\n",
    "\n",
    "NumPy stores data in a contiguous block of memory, making it easier and faster to access and manipulate."
   ]
  },
  {
   "cell_type": "markdown",
   "id": "290d4318-76bd-4541-be4d-cad44530e4be",
   "metadata": {},
   "source": [
    "## 🔑 3. Vectorization (No Loops)\n",
    "NumPy uses vectorized operations which are implemented in low-level C code.\n",
    "\n",
    "This avoids the slow Python for-loops and reduces overhead."
   ]
  },
  {
   "cell_type": "code",
   "execution_count": null,
   "id": "62a6b72c-8e16-44d9-bd65-8d96f46c5130",
   "metadata": {},
   "outputs": [],
   "source": [
    "# List version\n",
    "lst = [i for i in range(1000000)]\n",
    "lst_squared = [x**2 for x in lst]\n",
    "\n",
    "# NumPy version (much faster)\n",
    "arr = np.arange(1000000)\n",
    "arr_squared = arr ** 2"
   ]
  },
  {
   "cell_type": "markdown",
   "id": "f6a2dbfc-32ae-4a23-88ee-11897893cd04",
   "metadata": {},
   "source": [
    "## 🔑 4. Uses Optimized C Libraries\n",
    "NumPy is written in C and Fortran under the hood.\n",
    "\n",
    "Computation-heavy tasks are offloaded to these lower-level languages which are compiled and run much faster."
   ]
  },
  {
   "cell_type": "markdown",
   "id": "e8bb451d-43a5-4b3f-a134-807cc4f4945b",
   "metadata": {},
   "source": [
    "## 🔑 5. Broadcasting\n",
    "NumPy can perform operations on arrays of different shapes without writing extra code.\n",
    "\n",
    "No need to manually replicate or loop, which saves processing time."
   ]
  },
  {
   "cell_type": "code",
   "execution_count": null,
   "id": "a04d2ecf-83e8-43ec-90f2-ee8cb7ac9da8",
   "metadata": {},
   "outputs": [],
   "source": [
    "arr = np.array([1, 2, 3])\n",
    "print(arr + 5)  # [6 7 8] - Broadcasts 5 to all elements"
   ]
  },
  {
   "cell_type": "markdown",
   "id": "3ff75df6-2e00-440d-b608-93eaf98e9916",
   "metadata": {},
   "source": [
    "## 🔚 Summary\n",
    "\n",
    "Feature\t                        Python List\t               NumPy Array\n",
    "\n",
    "Type\t                        Heterogeneous\t           Homogeneous\n",
    "\n",
    "Memory\t                        Non-contiguous\t           Contiguous\n",
    "\n",
    "Speed\t                        Slower (loop-based)\t       Faster (vectorized)\n",
    "\n",
    "Optimized for math\t            ❌\t                       ✅\n",
    "\n",
    "Underlying implementation\t    Python\t                   C/Fortran"
   ]
  },
  {
   "cell_type": "code",
   "execution_count": null,
   "id": "65d9c08b-90e2-46e1-9af5-7255ded412a6",
   "metadata": {},
   "outputs": [],
   "source": []
  }
 ],
 "metadata": {
  "kernelspec": {
   "display_name": "Python [conda env:base] *",
   "language": "python",
   "name": "conda-base-py"
  },
  "language_info": {
   "codemirror_mode": {
    "name": "ipython",
    "version": 3
   },
   "file_extension": ".py",
   "mimetype": "text/x-python",
   "name": "python",
   "nbconvert_exporter": "python",
   "pygments_lexer": "ipython3",
   "version": "3.12.7"
  }
 },
 "nbformat": 4,
 "nbformat_minor": 5
}
