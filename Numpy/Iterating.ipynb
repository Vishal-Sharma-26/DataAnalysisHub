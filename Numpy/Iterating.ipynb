{
 "cells": [
  {
   "cell_type": "markdown",
   "id": "de3f7715-4c64-43c2-8865-323e4ce521c7",
   "metadata": {},
   "source": [
    "# AIterating Arrays\n",
    "In NumPy, iterating arrays involves accessing elements or subarrays systematically, often using loops, NumPy’s built-in iterators, or array methods. This builds on our prior discussions of array shapes, indexing, slicing, and copy vs. view for 0-D, 1-D, 2-D, 3-D, and higher-dimensional arrays. Below, I’ll explain array iteration concisely with examples across these array types, focusing on common methods like Python loops, nditer, and ndenumerate.\n",
    "\n",
    "### Key Points\n",
    "Arrays can be iterated element-wise, row-wise, or along specific axes, depending on the dimension and method.\n",
    "\n",
    "Iterating creates views by default, so modifications affect the original array unless a copy is used.\n",
    "\n",
    "NumPy’s nditer and ndenumerate optimize iteration for multi-dimensional arrays, providing flexibility and efficiency.\n",
    "\n",
    "Avoid Python loops for large arrays due to performance; use vectorized operations when possible."
   ]
  },
  {
   "cell_type": "markdown",
   "id": "102d3823-2623-44c9-842f-ed2567e68a1f",
   "metadata": {},
   "source": [
    "### Iterating Across Array Dimensions"
   ]
  },
  {
   "cell_type": "code",
   "execution_count": 8,
   "id": "7eb37f6e-c9c9-4ed8-b5da-0ed60b482aed",
   "metadata": {},
   "outputs": [],
   "source": [
    "import numpy as np"
   ]
  },
  {
   "cell_type": "markdown",
   "id": "6a1fadeb-239b-478e-8e0d-d4dbf061318f",
   "metadata": {},
   "source": [
    "## 0-D Array (Scalar)\n",
    "A 0-D array has a single element, so iteration is trivial and typically unnecessary, as you access the value directly."
   ]
  },
  {
   "cell_type": "code",
   "execution_count": 11,
   "id": "c1fb55f6-ec3f-4023-9301-29eda630bf16",
   "metadata": {},
   "outputs": [
    {
     "name": "stdout",
     "output_type": "stream",
     "text": [
      "42\n",
      "42\n"
     ]
    }
   ],
   "source": [
    "aar = np.array(42)\n",
    "print(aar)\n",
    "# Iteration not applicable, but can convert to Python scalar\n",
    "for x in [aar]:  # Treat as single-element iterable\n",
    "    print(x)"
   ]
  },
  {
   "cell_type": "markdown",
   "id": "9b44fbc3-514a-44e5-a469-2370013649da",
   "metadata": {},
   "source": [
    "## 1-D Array\n",
    "A 1-D array is iterated like a Python list, accessing elements one by one."
   ]
  },
  {
   "cell_type": "code",
   "execution_count": 14,
   "id": "b311c3ff-6a73-42e1-80c3-9349bbf53d82",
   "metadata": {},
   "outputs": [
    {
     "name": "stdout",
     "output_type": "stream",
     "text": [
      "1\n",
      "2\n",
      "3\n",
      "4\n"
     ]
    }
   ],
   "source": [
    "arr1 = np.array([1, 2, 3, 4])\n",
    "for x in arr1:\n",
    "    print(x)"
   ]
  },
  {
   "cell_type": "markdown",
   "id": "8b9f236b-d7d3-4dcd-a9d1-b2d5d483b3d8",
   "metadata": {},
   "source": [
    "## 2-D Array\n",
    "A 2-D array can be iterated row-wise (default) or element-wise using nested loops or nditer."
   ]
  },
  {
   "cell_type": "code",
   "execution_count": 17,
   "id": "2f99f9ee-a1c0-4f44-8297-31fad84f82ce",
   "metadata": {},
   "outputs": [
    {
     "name": "stdout",
     "output_type": "stream",
     "text": [
      "[1 2 3]\n",
      "[4 5 6]\n"
     ]
    }
   ],
   "source": [
    "# Row-wise\n",
    "arr2 = np.array([[1, 2, 3], [4, 5, 6]])\n",
    "for row in arr2:\n",
    "    print(row)"
   ]
  },
  {
   "cell_type": "code",
   "execution_count": 19,
   "id": "4746fae1-d929-4d56-9e2a-e8dce938821f",
   "metadata": {},
   "outputs": [
    {
     "name": "stdout",
     "output_type": "stream",
     "text": [
      "1\n",
      "2\n",
      "3\n",
      "4\n",
      "5\n",
      "6\n"
     ]
    }
   ],
   "source": [
    "# Element-wise with nested loops\n",
    "for row in arr2:\n",
    "    for x in row:\n",
    "        print(x)"
   ]
  },
  {
   "cell_type": "code",
   "execution_count": 21,
   "id": "947b9278-79b1-41da-b6d4-8004467789ee",
   "metadata": {},
   "outputs": [
    {
     "name": "stdout",
     "output_type": "stream",
     "text": [
      "1\n",
      "2\n",
      "3\n",
      "4\n",
      "5\n",
      "6\n"
     ]
    }
   ],
   "source": [
    "# Using nditer\n",
    "for x in np.nditer(arr2):\n",
    "    print(x)"
   ]
  },
  {
   "cell_type": "markdown",
   "id": "1ba9d96d-f97c-4dff-bd29-9b0860752d1d",
   "metadata": {},
   "source": [
    "## 3-D Array\n",
    "A 3-D array can be iterated by depth (2-D subarrays), rows, or elements, using nested loops or nditer."
   ]
  },
  {
   "cell_type": "code",
   "execution_count": 24,
   "id": "944568ea-98a7-4540-99cd-ae9be8987719",
   "metadata": {},
   "outputs": [
    {
     "name": "stdout",
     "output_type": "stream",
     "text": [
      "[[1 2]\n",
      " [3 4]]\n",
      "[[5 6]\n",
      " [7 8]]\n"
     ]
    }
   ],
   "source": [
    "# Depth-wise\n",
    "arr3 = np.array([[[1, 2], [3, 4]], [[5, 6], [7, 8]]])\n",
    "for depth in arr3:\n",
    "    print(depth)"
   ]
  },
  {
   "cell_type": "code",
   "execution_count": 26,
   "id": "04b39f28-cee4-44a0-8806-04db6cd87e0e",
   "metadata": {},
   "outputs": [
    {
     "name": "stdout",
     "output_type": "stream",
     "text": [
      "1\n",
      "2\n",
      "3\n",
      "4\n",
      "5\n",
      "6\n",
      "7\n",
      "8\n"
     ]
    }
   ],
   "source": [
    "# Element-wise with nditer\n",
    "for x in np.nditer(arr3):\n",
    "    print(x)"
   ]
  },
  {
   "cell_type": "markdown",
   "id": "ca695728-6d50-419d-9756-30d4ce41f21a",
   "metadata": {},
   "source": [
    "## Higher-Dimensional Arrays\n",
    "Higher-dimensional arrays follow the same pattern: iterate over the outermost dimension or use nditer for all elements."
   ]
  },
  {
   "cell_type": "code",
   "execution_count": 29,
   "id": "77f08f0d-78d3-4d75-bac4-4dd4d99d1863",
   "metadata": {},
   "outputs": [
    {
     "name": "stdout",
     "output_type": "stream",
     "text": [
      "[[[1 2]\n",
      "  [3 4]]\n",
      "\n",
      " [[5 6]\n",
      "  [7 8]]]\n",
      "1\n",
      "2\n",
      "3\n",
      "4\n",
      "5\n",
      "6\n",
      "7\n",
      "8\n"
     ]
    }
   ],
   "source": [
    "# 4-D Array\n",
    "arr4 = np.array([[[[1, 2], [3, 4]], [[5, 6], [7, 8]]]])\n",
    "for block in arr4:\n",
    "    print(block)\n",
    "for x in np.nditer(arr4):\n",
    "    print(x)"
   ]
  },
  {
   "cell_type": "markdown",
   "id": "29722cf2-8268-47bf-b0c0-4445672f56fd",
   "metadata": {},
   "source": [
    "## Advanced Iteration with nditer\n",
    "Purpose: Simplifies iteration over multi-dimensional arrays, avoiding nested loops.\n",
    "\n",
    "Options:\n",
    "\n",
    "    op_flags=['readwrite']: Allows modifying elements during iteration.\n",
    "\n",
    "    order='C' or order='F': Controls iteration order (C: row-major, F: column-major)."
   ]
  },
  {
   "cell_type": "code",
   "execution_count": 32,
   "id": "e05cf4ae-c685-495c-a997-e60cbe1c7b76",
   "metadata": {},
   "outputs": [
    {
     "name": "stdout",
     "output_type": "stream",
     "text": [
      "[[2 4]\n",
      " [6 8]]\n"
     ]
    }
   ],
   "source": [
    "# Modify elements\n",
    "arr2 = np.array([[1, 2], [3, 4]])\n",
    "with np.nditer(arr2, op_flags=['readwrite']) as it:\n",
    "    for x in it:\n",
    "        x[...] = x * 2  # Multiply each element by 2\n",
    "print(arr2)"
   ]
  },
  {
   "cell_type": "markdown",
   "id": "e3748955-31c7-4738-97d6-d5fdd3b233c9",
   "metadata": {},
   "source": [
    "## Iteration with ndenumerate\n",
    "Provides index and value for each element, useful for tracking positions."
   ]
  },
  {
   "cell_type": "code",
   "execution_count": 35,
   "id": "ff715a54-8ef6-4761-9323-c907b16a2f0c",
   "metadata": {},
   "outputs": [
    {
     "name": "stdout",
     "output_type": "stream",
     "text": [
      "Index (0, 0): 2\n",
      "Index (0, 1): 4\n",
      "Index (1, 0): 6\n",
      "Index (1, 1): 8\n"
     ]
    }
   ],
   "source": [
    "# 2-D Array\n",
    "for index, x in np.ndenumerate(arr2):\n",
    "    print(f\"Index {index}: {x}\")"
   ]
  },
  {
   "cell_type": "markdown",
   "id": "b379a8a6-136c-4dfd-bc30-fe3d0dd3c44f",
   "metadata": {},
   "source": [
    "## Key Notes\n",
    "Performance: Python loops (for) are slow for large arrays. Use nditer or vectorized operations (e.g., array * 2) for efficiency.\n",
    "\n",
    "Views: Iterating yields views, so modifications affect the original array unless using a copy.\n",
    "\n",
    "Flattening: Use array.flat for element-wise iteration in a single loop."
   ]
  },
  {
   "cell_type": "code",
   "execution_count": 38,
   "id": "e7fc2db5-7e9c-4cd0-94c9-67148b164eea",
   "metadata": {},
   "outputs": [
    {
     "name": "stdout",
     "output_type": "stream",
     "text": [
      "2\n",
      "4\n",
      "6\n",
      "8\n"
     ]
    }
   ],
   "source": [
    "for x in arr2.flat:\n",
    "    print(x)"
   ]
  },
  {
   "cell_type": "markdown",
   "id": "4193ce38-9894-4fbf-a122-30ef57a7af1f",
   "metadata": {},
   "source": [
    "Use Case: Iteration is useful for inspection or custom processing, but NumPy’s vectorized operations are preferred for computations."
   ]
  },
  {
   "cell_type": "code",
   "execution_count": null,
   "id": "841a8ba2-7675-4a7a-adcf-0985d190a371",
   "metadata": {},
   "outputs": [],
   "source": []
  }
 ],
 "metadata": {
  "kernelspec": {
   "display_name": "Python [conda env:base] *",
   "language": "python",
   "name": "conda-base-py"
  },
  "language_info": {
   "codemirror_mode": {
    "name": "ipython",
    "version": 3
   },
   "file_extension": ".py",
   "mimetype": "text/x-python",
   "name": "python",
   "nbconvert_exporter": "python",
   "pygments_lexer": "ipython3",
   "version": "3.12.7"
  }
 },
 "nbformat": 4,
 "nbformat_minor": 5
}
