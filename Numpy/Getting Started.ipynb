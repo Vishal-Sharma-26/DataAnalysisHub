{
 "cells": [
  {
   "cell_type": "markdown",
   "id": "5fdd0fe2-c6be-4e61-9de5-57651aee3d73",
   "metadata": {},
   "source": [
    "## How to install Numpy\n",
    "Install it using this command:"
   ]
  },
  {
   "cell_type": "markdown",
   "id": "8a9764af-5c52-4c5b-aa12-0b5ca7337ab8",
   "metadata": {},
   "source": [
    "pip install numpy"
   ]
  },
  {
   "cell_type": "markdown",
   "id": "53084983-023a-4014-b066-19edac162fb3",
   "metadata": {},
   "source": [
    "## Import NumPy\n",
    "Once NumPy is installed, import it in your applications by adding the import keyword:"
   ]
  },
  {
   "cell_type": "code",
   "execution_count": 4,
   "id": "8462b8d9-cf19-4878-aaae-46ae578c5cbc",
   "metadata": {},
   "outputs": [],
   "source": [
    "import numpy"
   ]
  },
  {
   "cell_type": "markdown",
   "id": "bf81e986-f87f-4261-b618-f2e42515b735",
   "metadata": {},
   "source": [
    "NumPy is usually imported under the np alias.\n",
    "\n",
    "Create an alias with the as keyword while importing:"
   ]
  },
  {
   "cell_type": "code",
   "execution_count": 6,
   "id": "521be477-230e-4950-b03e-3e0d84d9406e",
   "metadata": {},
   "outputs": [],
   "source": [
    "import numpy as np"
   ]
  },
  {
   "cell_type": "markdown",
   "id": "38050fe9-ecbb-4cc8-9f8b-29244644f990",
   "metadata": {},
   "source": [
    "## Checking NumPy Version"
   ]
  },
  {
   "cell_type": "code",
   "execution_count": 8,
   "id": "3bc24f15-f3cc-464b-9ad2-bd1a65de86ca",
   "metadata": {},
   "outputs": [
    {
     "name": "stdout",
     "output_type": "stream",
     "text": [
      "1.26.4\n"
     ]
    }
   ],
   "source": [
    "print(np.__version__)"
   ]
  },
  {
   "cell_type": "markdown",
   "id": "b220ea52-1138-4d34-a7cf-d09207ea5897",
   "metadata": {},
   "source": [
    "## How to create an array"
   ]
  },
  {
   "cell_type": "code",
   "execution_count": 10,
   "id": "82b667d4-aa83-4b6a-aa4a-91128dbff47d",
   "metadata": {},
   "outputs": [
    {
     "data": {
      "text/plain": [
       "array([1, 2, 3, 4])"
      ]
     },
     "execution_count": 10,
     "metadata": {},
     "output_type": "execute_result"
    }
   ],
   "source": [
    "arr = np.array([1,2,3,4])\n",
    "arr"
   ]
  },
  {
   "cell_type": "code",
   "execution_count": null,
   "id": "41654b48-f46f-4d0e-92d1-462489ff7eac",
   "metadata": {},
   "outputs": [],
   "source": []
  }
 ],
 "metadata": {
  "kernelspec": {
   "display_name": "Python [conda env:base] *",
   "language": "python",
   "name": "conda-base-py"
  },
  "language_info": {
   "codemirror_mode": {
    "name": "ipython",
    "version": 3
   },
   "file_extension": ".py",
   "mimetype": "text/x-python",
   "name": "python",
   "nbconvert_exporter": "python",
   "pygments_lexer": "ipython3",
   "version": "3.12.7"
  }
 },
 "nbformat": 4,
 "nbformat_minor": 5
}
