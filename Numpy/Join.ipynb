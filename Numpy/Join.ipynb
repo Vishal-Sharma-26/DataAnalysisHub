{
 "cells": [
  {
   "cell_type": "markdown",
   "id": "e07d0eca-7e4e-48c7-9f3d-a86510ed4003",
   "metadata": {},
   "source": [
    "# Joining Array"
   ]
  },
  {
   "cell_type": "markdown",
   "id": "1662a3cb-9451-4c24-895b-2ff47c2fd8cc",
   "metadata": {},
   "source": [
    "In NumPy, joining arrays combines multiple arrays into a single array using functions like concatenate, stack, hstack, vstack, dstack, or block. This builds on our prior discussions of array shapes, indexing, slicing, and iteration for 0-D, 1-D, 2-D, 3-D, and higher-dimensional arrays. Below, I’ll explain key joining methods concisely with examples across these array types, ensuring compatibility with shapes and dimensions.\n",
    "\n",
    "### Key Points\n",
    "Arrays must have compatible shapes for joining (e.g., same dimensions except along the joining axis).\n",
    "                                  \n",
    "Joining operations typically create a new array (copy), not a view.\n",
    "                                  \n",
    "The joining method determines how arrays are combined (e.g., along rows, columns, or depth).\n",
    "\n",
    "Use axis to specify the dimension for joining (default: axis=0).\n",
    "### Joining Methods\n",
    "np.concatenate: Joins arrays along an existing axis.\n",
    "    \n",
    "np.stack: Joins arrays along a new axis, increasing dimensionality.\n",
    "\n",
    "np.hstack: Stacks arrays horizontally (column-wise, along axis 1).\n",
    "                                       \n",
    "np.vstack: Stacks arrays vertically (row-wise, along axis 0).\n",
    "                                     \n",
    "np.dstack: Stacks arrays depth-wise (along axis 2).\n",
    "                                     \n",
    "np.block: Constructs arrays from nested lists of arrays."
   ]
  },
  {
   "cell_type": "markdown",
   "id": "8fa0ca08-94bb-440e-a8ce-c5d488a4d157",
   "metadata": {},
   "source": [
    "### Joining Across Array Dimensions"
   ]
  },
  {
   "cell_type": "markdown",
   "id": "984561e2-1b90-4075-bb29-1e00900464c5",
   "metadata": {},
   "source": [
    "## 0-D Array (Scalar)\n",
    "0-D arrays (scalars) cannot be joined directly due to their lack of dimensions. Convert to 1-D first."
   ]
  },
  {
   "cell_type": "code",
   "execution_count": 5,
   "id": "e5883e4f-0b14-4744-98b7-875bf6daa088",
   "metadata": {},
   "outputs": [
    {
     "name": "stdout",
     "output_type": "stream",
     "text": [
      "[42 99]\n"
     ]
    }
   ],
   "source": [
    "import numpy as np\n",
    "aar = np.array(42)\n",
    "aar1 = np.array(99)\n",
    "array_1d = np.concatenate([np.array([aar]), np.array([aar1])])\n",
    "print(array_1d)"
   ]
  },
  {
   "cell_type": "markdown",
   "id": "fe010822-cb0c-4f71-97e6-1ae23578376c",
   "metadata": {},
   "source": [
    "## 1-D Array\n",
    "1-D arrays can be joined along their single axis (axis=0) or stacked to form higher dimensions."
   ]
  },
  {
   "cell_type": "code",
   "execution_count": 8,
   "id": "c7413f9d-d156-47d9-b672-2bc9168b04a3",
   "metadata": {},
   "outputs": [
    {
     "name": "stdout",
     "output_type": "stream",
     "text": [
      "[1 2 3 4]\n"
     ]
    }
   ],
   "source": [
    "# Concatenate\n",
    "array_1d_1 = np.array([1, 2])\n",
    "array_1d_2 = np.array([3, 4])\n",
    "joined = np.concatenate((array_1d_1, array_1d_2))  # Along axis 0\n",
    "print(joined)"
   ]
  },
  {
   "cell_type": "code",
   "execution_count": 10,
   "id": "c7be84b7-eb78-4ee3-8804-50c58831c203",
   "metadata": {},
   "outputs": [
    {
     "name": "stdout",
     "output_type": "stream",
     "text": [
      "[[1 2]\n",
      " [3 4]]\n",
      "(2, 2)\n"
     ]
    }
   ],
   "source": [
    "# Stack\n",
    "stacked = np.stack((array_1d_1, array_1d_2))  # New axis (2-D)\n",
    "print(stacked) \n",
    "print(stacked.shape)"
   ]
  },
  {
   "cell_type": "markdown",
   "id": "9672c202-d3a8-4413-91ba-a676684262e6",
   "metadata": {},
   "source": [
    "## 2-D Array\n",
    "2-D arrays can be joined along axis=0 (rows) or axis=1 (columns), or stacked to form 3-D arrays."
   ]
  },
  {
   "cell_type": "code",
   "execution_count": 13,
   "id": "6f9d8474-d073-4004-a08d-733bd47d2acd",
   "metadata": {},
   "outputs": [
    {
     "name": "stdout",
     "output_type": "stream",
     "text": [
      "[[1 2]\n",
      " [3 4]\n",
      " [5 6]\n",
      " [7 8]]\n",
      "(4, 2)\n"
     ]
    }
   ],
   "source": [
    "# Concatenate along axis=0\n",
    "array_2d_1 = np.array([[1, 2], [3, 4]])\n",
    "array_2d_2 = np.array([[5, 6], [7, 8]])\n",
    "joined_rows = np.concatenate((array_2d_1, array_2d_2), axis=0)\n",
    "print(joined_rows) \n",
    "print(joined_rows.shape)"
   ]
  },
  {
   "cell_type": "code",
   "execution_count": 15,
   "id": "e26b015b-bb1b-462d-882f-ef55d274a72d",
   "metadata": {},
   "outputs": [
    {
     "name": "stdout",
     "output_type": "stream",
     "text": [
      "[[1 2 5 6]\n",
      " [3 4 7 8]]\n",
      "(2, 4)\n"
     ]
    }
   ],
   "source": [
    "# hstack\n",
    "hstacked = np.hstack((array_2d_1, array_2d_2))  # Along axis 1 (columns)\n",
    "print(hstacked)\n",
    "print(hstacked.shape)"
   ]
  },
  {
   "cell_type": "code",
   "execution_count": 17,
   "id": "25e19328-8d62-4e40-bc91-4f246b9ba365",
   "metadata": {},
   "outputs": [
    {
     "name": "stdout",
     "output_type": "stream",
     "text": [
      "[[1 2]\n",
      " [3 4]\n",
      " [5 6]\n",
      " [7 8]]\n"
     ]
    }
   ],
   "source": [
    "# vstack\n",
    "vstacked = np.vstack((array_2d_1, array_2d_2))  # Along axis 0 (rows)\n",
    "print(vstacked)"
   ]
  },
  {
   "cell_type": "markdown",
   "id": "316bb4de-a212-472e-a2f0-ae1e4ce19776",
   "metadata": {},
   "source": [
    "## 3-D Array\n",
    "3-D arrays can be joined along axis=0 (depth), axis=1 (rows), or axis=2 (columns), or stacked to form 4-D arrays."
   ]
  },
  {
   "cell_type": "code",
   "execution_count": 20,
   "id": "8e41cee4-913b-45b5-acd4-f67358bd4c84",
   "metadata": {},
   "outputs": [
    {
     "name": "stdout",
     "output_type": "stream",
     "text": [
      "(4, 2, 2)\n",
      "[[[ 1  2]\n",
      "  [ 3  4]]\n",
      "\n",
      " [[ 5  6]\n",
      "  [ 7  8]]\n",
      "\n",
      " [[ 9 10]\n",
      "  [11 12]]\n",
      "\n",
      " [[13 14]\n",
      "  [15 16]]]\n"
     ]
    }
   ],
   "source": [
    "# Concatenate along axis=0\n",
    "array_3d_1 = np.array([[[1, 2], [3, 4]], [[5, 6], [7, 8]]])\n",
    "array_3d_2 = np.array([[[9, 10], [11, 12]], [[13, 14], [15, 16]]])\n",
    "joined = np.concatenate((array_3d_1, array_3d_2), axis=0)\n",
    "print(joined.shape) \n",
    "print(joined)"
   ]
  },
  {
   "cell_type": "code",
   "execution_count": 22,
   "id": "9b0c22f0-5429-4793-87a4-55ff9f4eaa0a",
   "metadata": {},
   "outputs": [
    {
     "name": "stdout",
     "output_type": "stream",
     "text": [
      "(2, 2, 4)\n",
      "[[[ 1  2  9 10]\n",
      "  [ 3  4 11 12]]\n",
      "\n",
      " [[ 5  6 13 14]\n",
      "  [ 7  8 15 16]]]\n"
     ]
    }
   ],
   "source": [
    "# dstack\n",
    "dstacked = np.dstack((array_3d_1, array_3d_2))  # Along axis 2 (depth)\n",
    "print(dstacked.shape) \n",
    "print(dstacked)"
   ]
  },
  {
   "cell_type": "markdown",
   "id": "f28528fc-381e-4252-a769-dcbf32819956",
   "metadata": {},
   "source": [
    "## Higher-Dimensional Arrays\n",
    "Higher-dimensional arrays follow the same principles, joining along any compatible axis or stacking to add a new dimension."
   ]
  },
  {
   "cell_type": "code",
   "execution_count": 25,
   "id": "9b9a8c03-d1b9-44d1-a97c-fd954403f67b",
   "metadata": {},
   "outputs": [
    {
     "name": "stdout",
     "output_type": "stream",
     "text": [
      "(2, 1, 2, 2)\n",
      "(1, 2, 1, 2, 2)\n"
     ]
    }
   ],
   "source": [
    "# 4-D Array\n",
    "array_4d_1 = np.array([[[[1, 2], [3, 4]]]])\n",
    "array_4d_2 = np.array([[[[5, 6], [7, 8]]]])\n",
    "joined = np.concatenate((array_4d_1, array_4d_2), axis=0)\n",
    "print(joined.shape) \n",
    "stacked = np.stack((array_4d_1, array_4d_2), axis=1)  # New axis\n",
    "print(stacked.shape)"
   ]
  },
  {
   "cell_type": "markdown",
   "id": "a8c66198-c6d7-4a61-b7c1-1ce4bba0f841",
   "metadata": {},
   "source": [
    "## Key Notes\n",
    "Shape Compatibility: Arrays must have the same shape except along the joining axis (e.g., for axis=0, all other dimensions must match)."
   ]
  },
  {
   "cell_type": "code",
   "execution_count": null,
   "id": "bc9b06b7-cca4-4fd8-91da-ea7f830f587f",
   "metadata": {},
   "outputs": [],
   "source": []
  }
 ],
 "metadata": {
  "kernelspec": {
   "display_name": "Python [conda env:base] *",
   "language": "python",
   "name": "conda-base-py"
  },
  "language_info": {
   "codemirror_mode": {
    "name": "ipython",
    "version": 3
   },
   "file_extension": ".py",
   "mimetype": "text/x-python",
   "name": "python",
   "nbconvert_exporter": "python",
   "pygments_lexer": "ipython3",
   "version": "3.12.7"
  }
 },
 "nbformat": 4,
 "nbformat_minor": 5
}
