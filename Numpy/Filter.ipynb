{
 "cells": [
  {
   "cell_type": "markdown",
   "id": "5323c56f-0574-493b-88b7-76d7632c017d",
   "metadata": {},
   "source": [
    "# Filter Array\n",
    "n NumPy, array filtering extracts elements or subarrays based on conditions, typically using boolean indexing or functions like np.where. This builds on our prior discussions of array shapes, indexing, slicing, joining, splitting, searching, sorting, and iteration for 0-D, 1-D, 2-D, 3-D, and higher-dimensional arrays. Below, I’ll explain filtering concisely with examples across these array types, focusing on boolean indexing and np.where for creating filtered arrays.\n",
    "\n",
    "## Key Points\n",
    "Boolean Indexing: Use a boolean array (True/False) of the same shape to select elements where True.\n",
    "\n",
    "np.where: Returns indices of elements meeting a condition or selects values based on the condition.\n",
    "    \n",
    "Filtering creates a copy of the selected elements, not a view, unless slicing is involved.\n",
    "\n",
    "Conditions can involve comparisons (e.g., >, <, ==) or logical operations (&, |, ~).\n",
    "### Filtering Across Array Dimensions"
   ]
  },
  {
   "cell_type": "code",
   "execution_count": 2,
   "id": "069e0132-4ae7-4b25-98b2-bf59bc79fecc",
   "metadata": {},
   "outputs": [],
   "source": [
    "import numpy as np"
   ]
  },
  {
   "cell_type": "markdown",
   "id": "b81064bd-391a-4f6c-948e-ed0986f04c70",
   "metadata": {},
   "source": [
    "## 0-D Array (Scalar)\n",
    "A 0-D array has one element, so filtering is trivial—check the value directly."
   ]
  },
  {
   "cell_type": "code",
   "execution_count": null,
   "id": "6dd7a830-7e6b-4760-b222-7a83e1187942",
   "metadata": {},
   "outputs": [],
   "source": [
    "scalar = np.array(42)\n",
    "filtered = scalar[np.array([scalar > 40])]  # Boolean condition\n",
    "print(filtered)"
   ]
  },
  {
   "cell_type": "markdown",
   "id": "0644610f-0974-4811-90a0-219a36357c4a",
   "metadata": {},
   "source": [
    "## 1-D Array\n",
    "Filter elements using a boolean array or np.where to select values based on a condition."
   ]
  },
  {
   "cell_type": "code",
   "execution_count": 8,
   "id": "223fef2e-bb9a-4799-9856-bfbb3797e4fc",
   "metadata": {},
   "outputs": [
    {
     "name": "stdout",
     "output_type": "stream",
     "text": [
      "[3 4 5]\n"
     ]
    }
   ],
   "source": [
    "# Boolean Indexing\n",
    "array_1d = np.array([1, 2, 3, 4, 5])\n",
    "condition = array_1d > 2\n",
    "filtered = array_1d[condition]\n",
    "print(filtered)"
   ]
  },
  {
   "cell_type": "code",
   "execution_count": 10,
   "id": "fa3a59f4-5938-4f33-a93e-18467b3f7d7a",
   "metadata": {},
   "outputs": [
    {
     "name": "stdout",
     "output_type": "stream",
     "text": [
      "[3 4 5]\n"
     ]
    }
   ],
   "source": [
    "# np.where\n",
    "filtered = array_1d[np.where(array_1d > 2)]\n",
    "print(filtered)"
   ]
  },
  {
   "cell_type": "markdown",
   "id": "ff9b6451-2b96-41fe-a230-3441fe2916db",
   "metadata": {},
   "source": [
    "## 2-D Array\n",
    "Filter elements, rows, or columns using boolean arrays or conditions applied to specific axes."
   ]
  },
  {
   "cell_type": "code",
   "execution_count": 13,
   "id": "dc6b1d5f-f276-4153-b45a-1e63dd007fc1",
   "metadata": {},
   "outputs": [
    {
     "name": "stdout",
     "output_type": "stream",
     "text": [
      "[2 4 6]\n"
     ]
    }
   ],
   "source": [
    "# Boolean Indexing, Element-wise\n",
    "array_2d = np.array([[1, 2, 3], [4, 5, 6]])\n",
    "condition = array_2d % 2 == 0  # Even numbers\n",
    "filtered = array_2d[condition]\n",
    "print(filtered)"
   ]
  },
  {
   "cell_type": "code",
   "execution_count": 15,
   "id": "11f998a4-8d00-4500-a82c-9b489b034083",
   "metadata": {},
   "outputs": [
    {
     "name": "stdout",
     "output_type": "stream",
     "text": [
      "[[4 5 6]]\n"
     ]
    }
   ],
   "source": [
    "# Filter Rows\n",
    "condition = array_2d[:, 0] > 2  # Rows where first column > 2\n",
    "filtered_rows = array_2d[condition]\n",
    "print(filtered_rows)"
   ]
  },
  {
   "cell_type": "markdown",
   "id": "e9fe3b7e-e079-48dd-85eb-4abf8d365993",
   "metadata": {},
   "source": [
    "## 3-D Array\n",
    "Filter elements or subarrays along any axis using boolean conditions."
   ]
  },
  {
   "cell_type": "code",
   "execution_count": 18,
   "id": "610b93de-2bc7-4ff6-9503-b37202f2016f",
   "metadata": {},
   "outputs": [
    {
     "name": "stdout",
     "output_type": "stream",
     "text": [
      "[5 6 7 8]\n"
     ]
    }
   ],
   "source": [
    "# Boolean Indexing\n",
    "array_3d = np.array([[[1, 2], [3, 4]], [[5, 6], [7, 8]]])\n",
    "condition = array_3d > 4\n",
    "filtered = array_3d[condition]\n",
    "print(filtered)"
   ]
  },
  {
   "cell_type": "code",
   "execution_count": 20,
   "id": "c96d3140-a5ff-4024-b0d1-cc249de8a575",
   "metadata": {},
   "outputs": [
    {
     "name": "stdout",
     "output_type": "stream",
     "text": [
      "(array([1, 1, 1, 1], dtype=int64), array([0, 0, 1, 1], dtype=int64), array([0, 1, 0, 1], dtype=int64))\n",
      "[5 6 7 8]\n"
     ]
    }
   ],
   "source": [
    "# np.where\n",
    "indices = np.where(array_3d > 4)\n",
    "print(indices)  \n",
    "print(array_3d[indices])"
   ]
  },
  {
   "cell_type": "markdown",
   "id": "cb25597c-5952-4180-a7e3-60df976026a6",
   "metadata": {},
   "source": [
    "## Higher-Dimensional Arrays\n",
    "Filtering extends similarly, with boolean arrays matching the array’s shape."
   ]
  },
  {
   "cell_type": "code",
   "execution_count": 25,
   "id": "bebb9bb7-6e41-4e92-a9fc-d5f4d38b5fcb",
   "metadata": {},
   "outputs": [
    {
     "name": "stdout",
     "output_type": "stream",
     "text": [
      "[5 6 7 8]\n"
     ]
    }
   ],
   "source": [
    "# 4-D Array\n",
    "array_4d = np.array([[[[1, 2], [3, 4]], [[5, 6], [7, 8]]]])\n",
    "condition = array_4d > 4\n",
    "filtered = array_4d[condition]\n",
    "print(filtered)"
   ]
  },
  {
   "cell_type": "markdown",
   "id": "daad8d21-6b24-483b-b8d1-21c6d394edee",
   "metadata": {},
   "source": [
    "### Advanced Filtering"
   ]
  },
  {
   "cell_type": "markdown",
   "id": "3c80ff59-5c52-4ed5-81e3-62a25e463559",
   "metadata": {},
   "source": [
    "##### Multiple Conditions:"
   ]
  },
  {
   "cell_type": "code",
   "execution_count": 29,
   "id": "d0549c77-aa51-496d-908f-8bc898f1cbeb",
   "metadata": {},
   "outputs": [
    {
     "name": "stdout",
     "output_type": "stream",
     "text": [
      "[3 4]\n"
     ]
    }
   ],
   "source": [
    "array_1d = np.array([1, 2, 3, 4, 5])\n",
    "condition = (array_1d > 2) & (array_1d < 5)\n",
    "filtered = array_1d[condition]\n",
    "print(filtered)"
   ]
  },
  {
   "cell_type": "markdown",
   "id": "93ff5a85-f76c-459c-af63-f80fcd217fe2",
   "metadata": {},
   "source": [
    "## Logical Operations:\n",
    "& (and), | (or), ~ (not) combine conditions.\n",
    "\n",
    "Example: array_1d[(array_1d == 1) | (array_1d == 5)] yields [1 5].\n",
    "\n",
    "Filtering with np.where for Conditional Assignment:"
   ]
  },
  {
   "cell_type": "code",
   "execution_count": 32,
   "id": "1ad29a09-bd2a-4e8f-9b62-5c1055dd2af9",
   "metadata": {},
   "outputs": [
    {
     "name": "stdout",
     "output_type": "stream",
     "text": [
      "[0 0 0 4 5]\n"
     ]
    }
   ],
   "source": [
    "array_1d = np.array([1, 2, 3, 4, 5])\n",
    "result = np.where(array_1d > 3, array_1d, 0)  # Replace elements > 3 with themselves, else 0\n",
    "print(result)"
   ]
  },
  {
   "cell_type": "markdown",
   "id": "a0941c2d-81d3-45e8-8864-a692657ea305",
   "metadata": {},
   "source": [
    "##### String Arrays:"
   ]
  },
  {
   "cell_type": "code",
   "execution_count": 35,
   "id": "c5aa528c-1fb4-42db-98e4-fd87ed434033",
   "metadata": {},
   "outputs": [
    {
     "name": "stdout",
     "output_type": "stream",
     "text": [
      "['apple']\n"
     ]
    }
   ],
   "source": [
    "array_str = np.array(['apple', 'banana', 'cherry'])\n",
    "filtered = array_str[array_str == 'apple']\n",
    "print(filtered)"
   ]
  },
  {
   "cell_type": "markdown",
   "id": "3f35f1ba-88a5-440c-af4e-f6cdc811cbee",
   "metadata": {},
   "source": [
    "## Key Notes\n",
    "Performance: Boolean indexing and np.where are vectorized, making them efficient for large arrays compared to loops.\n",
    "\n",
    "Copies vs. Views: Filtering with boolean indexing or np.where creates a copy of the selected elements, not a view.\n",
    "\n",
    "Shape: Filtered results may be flattened (e.g., element-wise filtering) or retain shape (e.g., row filtering).\n",
    "\n",
    "NaN Handling:"
   ]
  },
  {
   "cell_type": "code",
   "execution_count": 38,
   "id": "6ed86336-7b28-459a-8f5e-d1e6a05e1438",
   "metadata": {},
   "outputs": [
    {
     "name": "stdout",
     "output_type": "stream",
     "text": [
      "[1. 3.]\n"
     ]
    }
   ],
   "source": [
    "array_1d = np.array([1, np.nan, 3])\n",
    "filtered = array_1d[~np.isnan(array_1d)]\n",
    "print(filtered)"
   ]
  },
  {
   "cell_type": "markdown",
   "id": "c4f3681a-e510-4c01-a0e5-ed1a21118bc9",
   "metadata": {},
   "source": [
    "Empty Results: If no elements meet the condition, an empty array is returned."
   ]
  },
  {
   "cell_type": "code",
   "execution_count": null,
   "id": "f613266f-178d-409e-b37a-e654acd366d0",
   "metadata": {},
   "outputs": [],
   "source": []
  }
 ],
 "metadata": {
  "kernelspec": {
   "display_name": "Python [conda env:base] *",
   "language": "python",
   "name": "conda-base-py"
  },
  "language_info": {
   "codemirror_mode": {
    "name": "ipython",
    "version": 3
   },
   "file_extension": ".py",
   "mimetype": "text/x-python",
   "name": "python",
   "nbconvert_exporter": "python",
   "pygments_lexer": "ipython3",
   "version": "3.12.7"
  }
 },
 "nbformat": 4,
 "nbformat_minor": 5
}
