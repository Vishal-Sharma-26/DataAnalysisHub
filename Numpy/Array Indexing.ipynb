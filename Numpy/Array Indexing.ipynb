{
 "cells": [
  {
   "cell_type": "markdown",
   "id": "034a8620-7467-4a19-9e65-ec885377eb53",
   "metadata": {},
   "source": [
    "# Array Indexing\n",
    "Array indexing in NumPy refers to accessing elements or subsets of arrays using indices, slices, or conditions. Below, I’ll explain indexing for arrays of different dimensions, keeping it concise and including examples based on our prior discussion of 0-D, 1-D, 2-D, 3-D, and higher-dimensional arrays."
   ]
  },
  {
   "cell_type": "code",
   "execution_count": 2,
   "id": "c9540f4f-5db9-4b27-8cae-9f38022cc78f",
   "metadata": {},
   "outputs": [],
   "source": [
    "import numpy as np"
   ]
  },
  {
   "cell_type": "markdown",
   "id": "901d9acf-2c5f-4740-81a5-0446cea0408e",
   "metadata": {},
   "source": [
    "## 0-D Array Indexing\n",
    "A 0-D array (scalar) contains a single element and has no axes to index. You access its value directly."
   ]
  },
  {
   "cell_type": "code",
   "execution_count": 6,
   "id": "f5c00ead-5b33-40b4-974c-4808956581e3",
   "metadata": {},
   "outputs": [
    {
     "name": "stdout",
     "output_type": "stream",
     "text": [
      "42\n"
     ]
    }
   ],
   "source": [
    "arr = np.array(42)\n",
    "print(arr)"
   ]
  },
  {
   "cell_type": "markdown",
   "id": "b0c71b08-e747-4768-8d65-4fcffc052e0c",
   "metadata": {},
   "source": [
    "## 1-D Array Indexing\n",
    "A 1-D array is like a list. Use a single index to access an element (zero-based indexing) or slices for subsets."
   ]
  },
  {
   "cell_type": "code",
   "execution_count": 9,
   "id": "02f6f85e-c9ca-4987-b596-c38fa2f51db1",
   "metadata": {},
   "outputs": [
    {
     "name": "stdout",
     "output_type": "stream",
     "text": [
      "1\n",
      "[2 3]\n",
      "4\n"
     ]
    }
   ],
   "source": [
    "array_1d = np.array([1, 2, 3, 4])\n",
    "print(array_1d[0])      # 1 (first element)\n",
    "print(array_1d[1:3])    # [2 3] (slice from index 1 to 2)\n",
    "print(array_1d[-1])     # 4 (last element)"
   ]
  },
  {
   "cell_type": "markdown",
   "id": "5521f3ac-48cd-4cd4-a158-1c70b979fe5f",
   "metadata": {},
   "source": [
    "## 2-D Array Indexing\n",
    "A 2-D array (matrix) requires two indices: [row, column]. Use slices for ranges or individual indices for specific elements."
   ]
  },
  {
   "cell_type": "code",
   "execution_count": 12,
   "id": "7e49eeba-fe5f-47de-953e-e56710b309c9",
   "metadata": {},
   "outputs": [
    {
     "name": "stdout",
     "output_type": "stream",
     "text": [
      "2\n",
      "[4 5 6]\n",
      "[3 6]\n"
     ]
    }
   ],
   "source": [
    "array_2d = np.array([[1, 2, 3], [4, 5, 6]])\n",
    "print(array_2d[0, 1])   # 2 (row 0, column 1)\n",
    "print(array_2d[1, :])   # [4 5 6] (all columns in row 1)\n",
    "print(array_2d[:, 2])   # [3 6] (all rows in column 2)"
   ]
  },
  {
   "cell_type": "markdown",
   "id": "2d8a24c3-a00d-47b7-b261-4015f57efbb9",
   "metadata": {},
   "source": [
    "## 3-D Array Indexing\n",
    "A 3-D array uses three indices: [depth, row, column]. Each index can be a single value or slice."
   ]
  },
  {
   "cell_type": "code",
   "execution_count": 15,
   "id": "89818a98-6318-4925-8202-c7bc604c53b0",
   "metadata": {},
   "outputs": [
    {
     "name": "stdout",
     "output_type": "stream",
     "text": [
      "4\n",
      "[[5 6]\n",
      " [7 8]]\n"
     ]
    }
   ],
   "source": [
    "array_3d = np.array([[[1, 2], [3, 4]], [[5, 6], [7, 8]]])\n",
    "print(array_3d[0, 1, 1])  # 4 (depth 0, row 1, column 1)\n",
    "print(array_3d[1, :, :])  # [[5 6] [7 8]] (all rows and columns in depth 1)"
   ]
  },
  {
   "cell_type": "markdown",
   "id": "b68323ab-f477-4ff7-aef8-9b41c4a7e489",
   "metadata": {},
   "source": [
    "## Higher-Dimensional Array Indexing\n",
    "For arrays with more than three dimensions, indexing extends with additional comma-separated indices, one per dimension. For example, a 4-D array uses [dim1, dim2, dim3, dim4]. Slicing and integer indexing work similarly."
   ]
  },
  {
   "cell_type": "code",
   "execution_count": 18,
   "id": "e4ae4f04-b0fa-4ba5-baeb-5b3b79f2bf66",
   "metadata": {},
   "outputs": [
    {
     "name": "stdout",
     "output_type": "stream",
     "text": [
      "4\n",
      "[[1 3]\n",
      " [5 7]]\n"
     ]
    }
   ],
   "source": [
    "array_4d = np.array([[[[1, 2], [3, 4]], [[5, 6], [7, 8]]]])\n",
    "print(array_4d[0, 0, 1, 1])  # 4 (access specific element)\n",
    "print(array_4d[0, :, :, 0])  # [[1 3] [5 7]] (slice across dimensions)"
   ]
  },
  {
   "cell_type": "code",
   "execution_count": null,
   "id": "39586d55-6d35-43ed-b24d-c7472bc96248",
   "metadata": {},
   "outputs": [],
   "source": []
  }
 ],
 "metadata": {
  "kernelspec": {
   "display_name": "Python [conda env:base] *",
   "language": "python",
   "name": "conda-base-py"
  },
  "language_info": {
   "codemirror_mode": {
    "name": "ipython",
    "version": 3
   },
   "file_extension": ".py",
   "mimetype": "text/x-python",
   "name": "python",
   "nbconvert_exporter": "python",
   "pygments_lexer": "ipython3",
   "version": "3.12.7"
  }
 },
 "nbformat": 4,
 "nbformat_minor": 5
}
