{
 "cells": [
  {
   "cell_type": "markdown",
   "id": "cab9d797-b282-4ef0-8251-577f67509877",
   "metadata": {},
   "source": [
    "Install module using this command:\n",
    "\n",
    "pip install matplotlib"
   ]
  },
  {
   "cell_type": "code",
   "execution_count": null,
   "id": "6e853573-48d8-46b0-b6ac-a23681d3ab8a",
   "metadata": {},
   "outputs": [],
   "source": [
    "# Import MODULE\n",
    "import matplotlib"
   ]
  },
  {
   "cell_type": "code",
   "execution_count": null,
   "id": "6f8f545a-ee8b-4b31-bfe4-ae88f0336feb",
   "metadata": {},
   "outputs": [],
   "source": [
    "# Checking Matplotlib Version\n",
    "print(matplotlib.__version__)"
   ]
  }
 ],
 "metadata": {
  "kernelspec": {
   "display_name": "Python [conda env:base] *",
   "language": "python",
   "name": "conda-base-py"
  },
  "language_info": {
   "codemirror_mode": {
    "name": "ipython",
    "version": 3
   },
   "file_extension": ".py",
   "mimetype": "text/x-python",
   "name": "python",
   "nbconvert_exporter": "python",
   "pygments_lexer": "ipython3",
   "version": "3.12.7"
  }
 },
 "nbformat": 4,
 "nbformat_minor": 5
}
